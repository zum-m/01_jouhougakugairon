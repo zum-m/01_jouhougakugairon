{
  "nbformat": 4,
  "nbformat_minor": 0,
  "metadata": {
    "colab": {
      "provenance": [],
      "toc_visible": true,
      "include_colab_link": true
    },
    "kernelspec": {
      "name": "python3",
      "display_name": "Python 3"
    },
    "language_info": {
      "name": "python"
    }
  },
  "cells": [
    {
      "cell_type": "markdown",
      "metadata": {
        "id": "view-in-github",
        "colab_type": "text"
      },
      "source": [
        "<a href=\"https://colab.research.google.com/github/zum-m/01_jouhougakugairon/blob/quantium/Copy_of_%E6%BC%94%E7%BF%92%E7%AC%AC9%E5%9B%9E.ipynb\" target=\"_parent\"><img src=\"https://colab.research.google.com/assets/colab-badge.svg\" alt=\"Open In Colab\"/></a>"
      ]
    },
    {
      "cell_type": "markdown",
      "source": [
        "# **9.量子位相推定**\n",
        "\n",
        "量子位相推定は、量子コンピューティングにおける重要なサブルーチンであり、\n",
        "多くの量子アルゴリズムの構成要素として機能します。\n",
        "\n",
        "\n"
      ],
      "metadata": {
        "id": "yd5XTnA9hof1"
      }
    },
    {
      "cell_type": "markdown",
      "source": [
        "##**9.1 演習のための準備**\n",
        "以下のコードを実行し、qiskitをインストールしましょう。"
      ],
      "metadata": {
        "id": "XiU9xic5OxKR"
      }
    },
    {
      "cell_type": "code",
      "source": [
        "!pip install qiskit==0.39.4"
      ],
      "metadata": {
        "id": "afzD-AvInOl6"
      },
      "execution_count": null,
      "outputs": []
    },
    {
      "cell_type": "markdown",
      "source": [
        "さらに以下のコードを実行して、Qiskitによる学習を支援するライブラリーqiskit-textbookと量子回路を描画するためのライブラリーpylatexencもインストールします。"
      ],
      "metadata": {
        "id": "o7JKF4_X_gy9"
      }
    },
    {
      "cell_type": "code",
      "source": [
        "!pip install git+https://github.com/qiskit-community/qiskit-textbook.git#subdirectory=qiskit-textbook-src"
      ],
      "metadata": {
        "id": "EZ09I5pZoYlN"
      },
      "execution_count": null,
      "outputs": []
    },
    {
      "cell_type": "code",
      "source": [
        "!pip install pylatexenc"
      ],
      "metadata": {
        "id": "-MUaL2oDReEv"
      },
      "execution_count": null,
      "outputs": []
    },
    {
      "cell_type": "markdown",
      "source": [
        "演習で使用するパッケージをqiskitライブラリーからimportします。  \n",
        "以下のコードを実行しましょう。  \n"
      ],
      "metadata": {
        "id": "WmYOrNR2BKwg"
      }
    },
    {
      "cell_type": "code",
      "source": [
        "# initialization\n",
        "import matplotlib.pyplot as plt\n",
        "import numpy as np\n",
        "import math\n",
        "\n",
        "from numpy import pi\n",
        "# importing Qiskit\n",
        "from qiskit import *\n",
        "from qiskit import Aer\n",
        "from qiskit import BasicAer\n",
        "from qiskit.providers.ibmq import least_busy\n",
        "from qiskit import QuantumCircuit,execute, ClassicalRegister, QuantumRegister, assemble, transpile\n",
        "from qiskit_textbook.widgets import dj_widget\n",
        "from qiskit_textbook.tools import array_to_latex\n",
        "from qiskit.tools.monitor import job_monitor\n",
        "\n",
        "# import basic plot tools\n",
        "from qiskit.visualization import plot_histogram, array_to_latex\n",
        "from qiskit.visualization import plot_bloch_multivector\n",
        "\n"
      ],
      "metadata": {
        "id": "0v96H5Ij1rZ2"
      },
      "execution_count": null,
      "outputs": []
    },
    {
      "cell_type": "markdown",
      "source": [
        "##***9.2 量子位相推定の目的と考え方***\n"
      ],
      "metadata": {
        "id": "VS4XxQq8RGFL"
      }
    },
    {
      "cell_type": "markdown",
      "source": [
        "### **9.2.1 目的**\n",
        "ある$2×2$行列$U$に対し、以下の条件を満たす  \n",
        "$2$次元ベクトル$|\\psi⟩$が存在するとします。\n",
        "$$U|\\psi⟩=e^{2πi\\theta}|\\psi⟩$$\n",
        "この条件は、ベクトル$|\\psi⟩$が$U$の固有ベクトルであることを意味します。  \n",
        "固有値が$e^{2πi\\theta}$の形式をもつ行列$U$は「ユニタリー行列」と呼ばれます。  \n",
        "$\\theta$は位相と呼ばれ、その値は$0\\le \\theta<1$です。\n",
        "\n",
        "量子位相推定の目的は、ユニタリー行列$U$とその固有状態$|\\psi⟩$が与えられた上で  \n",
        "固有値$e^{2πi\\theta}$における位相$\\theta$の値を推定することにあります。  \n",
        "このとき$U$、$|\\psi⟩$の成分は「秘密」にされます。  \n",
        "つまりこれらはブラックボックスであり、私たちは内容を知ることができません。  \n",
        "ただし$U$の$|\\psi⟩$に対する演算自体は何回でも実行可能であるとされます。\n",
        "\n"
      ],
      "metadata": {
        "id": "bFAFH3bqLye3"
      }
    },
    {
      "cell_type": "markdown",
      "source": [
        "### **9.2.2 考え方**\n",
        "量子位相推定のアルゴリズムにおける主要な作業は  \n",
        "$n$個の量子ビットレジスタに以下のような状態をつくり出すことです。\n",
        "$$\\frac{1}{\\sqrt{N}}\\sum_{y=0}^{N-1}e^{2\\pi i\\theta\\cdot y}|y⟩$$\n",
        "$N=2^n$であり、$|y⟩$はビット列$|y_1⟩\\otimes |y_2⟩\\otimes \\cdots \\otimes |y_n⟩$を意味します。  \n",
        "$y$の値は$y=2^{n-1}y_1+2^{n-2}y_2+\\cdots +2y_{n-1}+y_n$と定められるとします。\n",
        "\n",
        "前回学んだ「量子フーリエ変換(QFT)」思い出してください。  \n",
        "量子フーリエ変換はビット列$|x⟩=|x_1⟩⊗|x_2⟩⊗\\cdots ⊗|x_n⟩$を\n",
        "$$|x⟩\\xrightarrow{QFT} \\frac{1}{\\sqrt{N}}\\sum_{y=0}^{N-1}e^{\\frac{2\\pi}{N} ix\\cdot y}|y⟩$$\n",
        "のように変換します。これと冒頭の状態を見比べてみましょう。  \n",
        "冒頭の状態はあたかも、$|x⟩=|N\\theta ⟩$と表せた場合の量子フーリエ変換の結果のようです。\n",
        "\n",
        "ここで量子フーリエ変換の“逆”、「逆量子フーリエ変換」と呼ばれる変換を考えます。  \n",
        "この変換は$\\mathrm{QFT}^{†}$と記述され、量子フーリエ変換後の状態を元に戻す作用を意味します。\n",
        "$$\\frac{1}{\\sqrt{N}}\\sum_{y=0}^{N-1}e^{\\frac{2\\pi}{N} ix\\cdot y}|y⟩\\xrightarrow{QFT^{†}}|x⟩ $$\n",
        "冒頭の状態に逆量子フーリエ変換($\\mathrm{QFT}^{†}$)とどうなるでしょうか。\n",
        "$$\\frac{1}{\\sqrt{N}}\\sum_{y=0}^{N-1}e^{2\\pi i\\theta\\cdot y}|y⟩\\xrightarrow{QFT^{†}}|N\\theta⟩$$\n",
        "となり、最後に量子レジスタに観測をおこなえば、結果から$\\theta$の値が判明することが期待できます。  \n",
        "ただし注意が必要です。量子ビットレジスタが表現するのはあくまで$0$～$2^n-1$の整数値です。  \n",
        "$\\theta$の値は実数値なので、$N\\theta=2^n\\theta$が整数値になるとは限りません。  \n",
        "実際には$N\\theta$に近い整数値に対応したビット列が高い確率で測定されることになります。  \n",
        "ここに当アルゴリズムが「推定」である理由があります。"
      ],
      "metadata": {
        "id": "QzVZRCFeL9ix"
      }
    },
    {
      "cell_type": "markdown",
      "source": [
        "## **9.3 量子位相推定の手順**\n",
        "前節の考え方に基づく量子位相推定の手順は以下の通りです。\n",
        "\n",
        "* **手順１:** 全てが状態$|0⟩$にある$n$ 個の量子ビットレジスタと$U$の固有状態$|\\psi\\rangle$にある$n+1$番目の量子ビットを用意します。\n",
        "$$\n",
        "|\\psi_{0}⟩=|0\\rangle^{\\otimes n}⊗|\\psi\\rangle\n",
        "$$\n",
        "\n",
        "* **手順２:** $n$ 個の量子ビットレジスタにアダマールゲート$H^{⊗n}$を適用します。\n",
        "$$\n",
        "|\\psi_{1}⟩=\\frac{1}{2^{\\frac{n}{2}}}(|0\\rangle+|1\\rangle)^{\\otimes n}⊗|\\psi\\rangle\n",
        "$$\n",
        "\n",
        "* **手順３:** $n$量子ビットレジスタ内の$j$番目の量子ビットが$|1⟩$のときのみ、$n+1$番目の量子ビットに$U$演算を$2^{n-j}$回おこないます。  \n",
        "つまり$j$番目の量子ビットを制御、$n+1$番目の量子ビットを標的とした制御ユ二タリー演算 $\\mathrm{CU}$ を$2^{n-j}$回適用します。  \n",
        "状態$|\\psi⟩$に $U$演算を$2^{n-j}$回施すと、\n",
        "$$U^{2^{n-j}}|\\psi⟩=U^{2^{n-j}-1}U|\\psi⟩=U^{2^{n-j}-1}e^{2\\pi i\\theta}|\\psi⟩=\\cdots =e^{2 \\pi i 2^{n-j} \\theta}|\\psi\\rangle$$\n",
        "となります。$j$番目の量子ビットと$n+1$番目の量子ビットの状態$\\frac{1}{\\sqrt2}\\left(|0⟩+|1⟩ \\right)⊗|\\psi⟩$は  \n",
        "$\\mathrm{CU}^{2~{n-j}}$ゲートの適用により以下の状態に変換されます。（位相キックバックの効果です。）  \n",
        "$$\\frac{1}{\\sqrt2}\\left(|0⟩+e^{2 \\pi i 2^{n-j} \\theta}|1⟩ \\right)⊗|\\psi⟩$$\n",
        "$j=1$～$n$まで同様の変換がおこなわれます。結果、全量子ビットの状態は\n",
        "$$\n",
        "\\begin{aligned}\n",
        "|\\psi_{2}⟩ &=\\frac{1}{2^{\\frac{n}{2}}}\\left(|0\\rangle+e^{2 \\pi i \\theta 2^{n-1}}|1\\rangle\\right) \\otimes \\cdots \\otimes\\left(|0\\rangle+e^{2 \\pi i \\theta 2^{1}}|1\\rangle\\right) \\otimes\\left(|0\\rangle+e^{2 \\pi i \\theta 2^{0}}|1\\rangle\\right) \\otimes|\\psi\\rangle \\\\\n",
        "&=\\frac{1}{\\sqrt N} \\sum_{y=0}^{2^{n}-1} e^{2 \\pi i \\theta y}|y\\rangle \\otimes|\\psi\\rangle\n",
        "\\end{aligned}\n",
        "$$\n",
        "となります。\n",
        "\n",
        "* **手順４:** $n$量子ビットレジスタに逆量子フーリエ変換($\\mathrm{QFT}^{†}$)を施します。ビット列$|y⟩$に$\\mathrm{QFT}^{†}$を施すと\n",
        "$$\\mathrm{QFT}^{†}|y⟩=\\frac{1}{\\sqrt N}\\sum_{x=0}^{N-1}e^{-\\frac{2π}{N}iyx}|x⟩$$\n",
        "となることに注意してください。したがって、全量子ビットの状態は$\\mathrm{QFT}^{†}$により\n",
        "$$\n",
        "\\left|\\psi_{3}\\right\\rangle= \\sum_{x=0}^{N-1} \\left[\\frac{1}{N}\\sum_{y=0}^{N-1} e^{\\frac{2 \\pi i y}{N}\\left(N\\theta-x \\right)}\\right]|x\\rangle \\otimes|\\psi\\rangle\n",
        "$$\n",
        "となります。\n",
        "\n",
        "* **手順５:** $n$量子ビットレジスタに観測をおこないます。  \n",
        "上式から$N\\theta$に最も近い整数値$x$に対応するビット列が高い確率で観測されることが分かります。  \n",
        "観測結果$x$を読み取り、$\\theta$値を  \n",
        "$$\\theta≈\\frac{x}{N}$$\n",
        "と推定します。\n",
        "\n"
      ],
      "metadata": {
        "id": "8zzFPQujPdrQ"
      }
    },
    {
      "cell_type": "markdown",
      "source": [
        "## **9.4 量子位相推定のシミュレーション**\n",
        "量子位相推定を実装した量子回路を作成し、シミュレーションをおこないます。\n",
        "\n",
        "ユニタリー行列$U$の例として $P$行列を用います。\n",
        "$$P=\\left[\\begin{array}{cc}\n",
        "1 & 0 \\\\\n",
        "0 & e^{2πi\\theta}\n",
        "\\end{array}\\right]$$\n",
        "いわゆる$P$ゲートに対応した行列ですね。\n",
        "この行列の固有状態は$|0⟩$と$|1⟩$です。  \n",
        "ここでは固有値$e^{2πi\\theta}$の固有状態$|1⟩$に注目しましょう。\n",
        "$$P|1⟩=e^{2πi\\theta}|1⟩$$\n",
        "この例では$U=P$、$|\\psi⟩=|1⟩$とします。  \n",
        "そして秘密の$\\theta$値を\n",
        "$$\\theta=\\frac{1}{3}$$\n",
        "としておきましょう。この値を推定することを目的にします。\n",
        "\n",
        "では前節の手順に従う量子回路を作成し、シミュレーションを行います。"
      ],
      "metadata": {
        "id": "fKvA0C-G5Xdt"
      }
    },
    {
      "cell_type": "markdown",
      "source": [
        "### **9.4.1 4量子ビットでの実装**\n",
        "\n",
        "**手順１**\n",
        "４量子ビットと3出力ビットで構成される量子回路を作成します。\n",
        "```\n",
        "qpe = QuantumCircuit(4, 3)\n",
        "qpe.x(3)\n",
        "qpe.draw('mpl')\n",
        "```"
      ],
      "metadata": {
        "id": "daneCoUky4E1"
      }
    },
    {
      "cell_type": "code",
      "source": [],
      "metadata": {
        "id": "UhpyOSM9zRZN"
      },
      "execution_count": null,
      "outputs": []
    },
    {
      "cell_type": "markdown",
      "source": [
        "量子ビット$q_2$、$q_1$、$q_0$をそれぞれ第1、第2、第3量子ビットとし、  \n",
        "初期状態は$|000⟩$とします。第4の量子ビット$q_3$の初期状態も$|0⟩$ですが、  \n",
        "$X$ゲートにより$|1⟩$となります。この状態は行列$P$の固有状態$|\\psi⟩$に対応します。\n"
      ],
      "metadata": {
        "id": "WqLegOyGzph5"
      }
    },
    {
      "cell_type": "markdown",
      "source": [
        "**手順２** $3$量子ビットレジスタにアダマールゲート$H$を適用します。\n",
        "```\n",
        "for qubit in range(3):\n",
        "    qpe.h(qubit)\n",
        "qpe.draw('mpl')\n",
        "```\n"
      ],
      "metadata": {
        "id": "VdxHVq-pogMp"
      }
    },
    {
      "cell_type": "code",
      "source": [],
      "metadata": {
        "id": "qphPhnYPorc7"
      },
      "execution_count": null,
      "outputs": []
    },
    {
      "cell_type": "markdown",
      "source": [
        "**手順３** 　$3$量子ビットレジスタ内の$j$番目の量子ビットを制御、  \n",
        "$4$番目の量子ビットを標的とした制御ユ二タリーゲート $\\mathrm{CP}$ を$2^{3-j}$回適用します。   \n",
        " $P$行列における$\\theta$は$\\frac{1}{3}$としています。\n",
        " ```\n",
        " number = 1\n",
        "for qubit in range(3):\n",
        "    for i in range(number):\n",
        "        qpe.cp(2*math.pi/3, qubit, 3); # CPゲートを2^{3-j}回適用\n",
        "    number *= 2 #numberを2倍する\n",
        "qpe.draw('mpl')\n",
        "```\n"
      ],
      "metadata": {
        "id": "zbufK-HxpTJw"
      }
    },
    {
      "cell_type": "code",
      "source": [],
      "metadata": {
        "id": "T-3k_7jsqq2a"
      },
      "execution_count": null,
      "outputs": []
    },
    {
      "cell_type": "markdown",
      "source": [
        "**手順４** $3$量子ビットレジスタに逆量子フーリエ変換($\\mathrm{QFT}^{†}$)を施します。  \n",
        "これを実行する手続きは$\\mathrm{QFT}$の逆となります。\n",
        "\n",
        "逆量子フーリエ変換($\\mathrm{QFT}^{†}$)を実装した回路を作成する関数のコードは  \n",
        "以下のようになります。\n",
        "```\n",
        "def qft_dagger(qc, n):#引数は回路(qc)とレジスタ内のビット数(n)\n",
        "    for qubit in range(n//2):\n",
        "        qc.swap(qubit, n-qubit-1)#最初にスワップゲートを適用します。\n",
        "    for j in range(n):\n",
        "        for m in range(j):#CPゲートの適用（j=0のときは適用されません）\n",
        "            qc.cp(-pi/2**(j-m), m, j)\n",
        "        qc.h(j)#最後にアダマールゲートの適用\n",
        "```\n"
      ],
      "metadata": {
        "id": "Gr2ui3I3v9LF"
      }
    },
    {
      "cell_type": "code",
      "source": [],
      "metadata": {
        "id": "XxkHoJ0UvKeX"
      },
      "execution_count": null,
      "outputs": []
    },
    {
      "cell_type": "markdown",
      "source": [
        "```\n",
        "qpe.barrier()\n",
        "# Apply inverse QFT\n",
        "qft_dagger(qpe, 3)\n",
        "qpe.draw('mpl')\n",
        "```"
      ],
      "metadata": {
        "id": "74SV4JuNykLt"
      }
    },
    {
      "cell_type": "code",
      "source": [],
      "metadata": {
        "id": "O4vBImBIyJ25"
      },
      "execution_count": null,
      "outputs": []
    },
    {
      "cell_type": "markdown",
      "source": [
        "**手順５** $3$量子ビットレジスタに観測をおこないます。\n",
        "```\n",
        "# Measure\n",
        "qpe.barrier()\n",
        "for n in range(3):\n",
        "    qpe.measure(n,n)\n",
        "qpe.draw('mpl')\n",
        "```  "
      ],
      "metadata": {
        "id": "mQbwFrpoynEj"
      }
    },
    {
      "cell_type": "code",
      "source": [],
      "metadata": {
        "id": "HLwEfCUjvQ4q"
      },
      "execution_count": null,
      "outputs": []
    },
    {
      "cell_type": "markdown",
      "source": [
        "これで完成です。\n",
        "\n",
        "**シミュレーション**  \n",
        "以下のコードによりシミュレーションをおこないます。  \n",
        "$\\theta×2^{3}=8/3$に最も近い整数値に対応したビット列\n",
        "$011$  \n",
        "が最も高い確率で観測されるはずです。\n",
        "```\n",
        "aer_sim = Aer.get_backend('aer_simulator')\n",
        "shots = 2048\n",
        "t_qpe = transpile(qpe, aer_sim)\n",
        "qobj = assemble(t_qpe, shots=shots)\n",
        "results = aer_sim.run(qobj).result()\n",
        "answer = results.get_counts()\n",
        "\n",
        "plot_histogram(answer)\n",
        "```"
      ],
      "metadata": {
        "id": "gu85hjti0H2r"
      }
    },
    {
      "cell_type": "code",
      "source": [],
      "metadata": {
        "id": "8Hv7m3qN0g5B"
      },
      "execution_count": null,
      "outputs": []
    },
    {
      "cell_type": "markdown",
      "source": [
        "2番目に高い確率で得られるビット列は$010$で整数値2に対応しますね。\n",
        "この結果より、$\\theta$の値は「$\\frac{2}{8}=0.25$ から $\\frac{3}{8}≈0.375$付近」と推定されます。真の$\\theta$値は$0.333\\cdots$ですよね。  \n",
        "かなりざっくりとした推定となります。"
      ],
      "metadata": {
        "id": "gUIsCyBU2Iui"
      }
    },
    {
      "cell_type": "markdown",
      "source": [
        "## **演習課題09**"
      ],
      "metadata": {
        "id": "Qxef5en1YfC1"
      }
    },
    {
      "cell_type": "markdown",
      "source": [
        "###問題\n",
        "9.4節の例について、より推定の精度を上げるために6量子ビット5出力の量子回路を作成し、  \n",
        "シミュレーション結果を示しなさい。\n"
      ],
      "metadata": {
        "id": "vEpW-Y4kK5TK"
      }
    },
    {
      "cell_type": "markdown",
      "source": [
        "**解答**\n",
        "\n",
        "量子回路の作成\n",
        "\n"
      ],
      "metadata": {
        "id": "Po2FxqQnvEwJ"
      }
    },
    {
      "cell_type": "code",
      "source": [],
      "metadata": {
        "id": "2UJ7IxCi4gb_"
      },
      "execution_count": null,
      "outputs": []
    },
    {
      "cell_type": "markdown",
      "source": [
        "シミュレーション"
      ],
      "metadata": {
        "id": "xXsnMtzG52zg"
      }
    },
    {
      "cell_type": "code",
      "source": [],
      "metadata": {
        "id": "YYgP5dmd55WM"
      },
      "execution_count": null,
      "outputs": []
    },
    {
      "cell_type": "markdown",
      "source": [
        "1,2番の高い確率で測定されるビット列は$01011$と$01010$です。  \n",
        "これらは整数値$11$,$10$に対応します。\n",
        "この結果より、$\\theta$の値は「$\\frac{10}{32}≈0.3125$から$\\frac{11}{32}≈0.34375$付近」と推定されます。"
      ],
      "metadata": {
        "id": "j-oU8R0G6MOH"
      }
    }
  ]
}