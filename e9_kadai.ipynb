{
  "nbformat": 4,
  "nbformat_minor": 0,
  "metadata": {
    "colab": {
      "provenance": [],
      "mount_file_id": "1RmhHIDfvZei2Rf3mIfx7XqyFltWjItns",
      "authorship_tag": "ABX9TyPjHE1MxQ43HK6ONXNJgqwJ",
      "include_colab_link": true
    },
    "kernelspec": {
      "name": "python3",
      "display_name": "Python 3"
    },
    "language_info": {
      "name": "python"
    }
  },
  "cells": [
    {
      "cell_type": "markdown",
      "metadata": {
        "id": "view-in-github",
        "colab_type": "text"
      },
      "source": [
        "<a href=\"https://colab.research.google.com/github/zum-m/01_jouhougakugairon/blob/prg2/e9_kadai.ipynb\" target=\"_parent\"><img src=\"https://colab.research.google.com/assets/colab-badge.svg\" alt=\"Open In Colab\"/></a>"
      ]
    },
    {
      "cell_type": "code",
      "execution_count": 4,
      "metadata": {
        "colab": {
          "base_uri": "https://localhost:8080/"
        },
        "id": "DJc4xnNsQP7I",
        "outputId": "0e2becf5-e588-4762-8c11-9f0ef6d03b73"
      },
      "outputs": [
        {
          "output_type": "stream",
          "name": "stdout",
          "text": [
            "転置後のdataの形 (4, 21)\n",
            "配列yearの型を確認する <class 'numpy.ndarray'>\n",
            "アンパック後のyear配列の内容を確認する。\n",
            " [1900. 1901. 1902. 1903. 1904. 1905. 1906. 1907. 1908. 1909. 1910. 1911.\n",
            " 1912. 1913. 1914. 1915. 1916. 1917. 1918. 1919. 1920.]\n",
            "整数に型変換後のyear配列の内容を確認する。\n",
            "  [1900 1901 1902 1903 1904 1905 1906 1907 1908 1909 1910 1911 1912 1913\n",
            " 1914 1915 1916 1917 1918 1919 1920]\n"
          ]
        }
      ],
      "source": [
        "import numpy as np\n",
        "\n",
        "data = np.loadtxt('/content/drive/MyDrive/Classroom/5_プログラミングⅡ(10223S0746) (再)(情)/第9回/test_data.txt')\n",
        "\n",
        "data = data.T\n",
        "\n",
        "print('転置後のdataの形',data.shape)\n",
        "\n",
        "\n",
        "\n",
        "year , hares , lynxes , carrots = data\n",
        "print(\"配列yearの型を確認する\", type(year))\n",
        "print('アンパック後のyear配列の内容を確認する。\\n',year)\n",
        "year = year.astype(np.int32)\n",
        "print('整数に型変換後のyear配列の内容を確認する。\\n ',year)\n"
      ]
    },
    {
      "cell_type": "code",
      "source": [
        "corr_list = []\n",
        "\n",
        "n = int(len(hares)/2)\n",
        "for i in range(n):\n",
        "  hares_tmp = hares[i:i+n]\n",
        "  carrot_tmp = carrots[:n]\n",
        "  corr_list.append(np.min(np.corrcoef(hares_tmp, carrot_tmp)))\n",
        "\n",
        "for i in range(n):\n",
        "  print(i,\"年ずらしたときの相関係数は：\", corr_list[i])\n",
        "\n",
        "print('{}年ずらしたときの相関係数が最も強く、相関係数は{}です'.format(np.argmax(corr_list),np.max(corr_list)))\n",
        "\n"
      ],
      "metadata": {
        "colab": {
          "base_uri": "https://localhost:8080/"
        },
        "id": "pL_dIbSkbgen",
        "outputId": "3bbb75b3-11d0-4911-cc60-57e8f8f56118"
      },
      "execution_count": 19,
      "outputs": [
        {
          "output_type": "stream",
          "name": "stdout",
          "text": [
            "0 年ずらしたときの相関係数は： -0.13383412475583126\n",
            "1 年ずらしたときの相関係数は： 0.48579256922062664\n",
            "2 年ずらしたときの相関係数は： 0.8905516204182647\n",
            "3 年ずらしたときの相関係数は： 0.7132762541264995\n",
            "4 年ずらしたときの相関係数は： 0.17636199533173733\n",
            "5 年ずらしたときの相関係数は： -0.029075254388799553\n",
            "6 年ずらしたときの相関係数は： -0.26913537526056697\n",
            "7 年ずらしたときの相関係数は： -0.5472898182646936\n",
            "8 年ずらしたときの相関係数は： -0.5611479259577979\n",
            "9 年ずらしたときの相関係数は： -0.42223540792610453\n",
            "2年ずらしたときの相関係数が最も強く、相関係数は0.8905516204182647です\n"
          ]
        }
      ]
    }
  ]
}