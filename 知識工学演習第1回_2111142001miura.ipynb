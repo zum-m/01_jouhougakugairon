{
  "nbformat": 4,
  "nbformat_minor": 0,
  "metadata": {
    "colab": {
      "provenance": [],
      "toc_visible": true,
      "include_colab_link": true
    },
    "kernelspec": {
      "name": "python3",
      "display_name": "Python 3"
    },
    "language_info": {
      "name": "python"
    }
  },
  "cells": [
    {
      "cell_type": "markdown",
      "metadata": {
        "id": "view-in-github",
        "colab_type": "text"
      },
      "source": [
        "<a href=\"https://colab.research.google.com/github/zum-m/jouhougakugairon/blob/quantium/%E7%9F%A5%E8%AD%98%E5%B7%A5%E5%AD%A6%E6%BC%94%E7%BF%92%E7%AC%AC1%E5%9B%9E_2111142001miura.ipynb\" target=\"_parent\"><img src=\"https://colab.research.google.com/assets/colab-badge.svg\" alt=\"Open In Colab\"/></a>"
      ]
    },
    {
      "cell_type": "markdown",
      "source": [
        "# **1.Qiskitによる量子回路の作成**\n"
      ],
      "metadata": {
        "id": "yd5XTnA9hof1"
      }
    },
    {
      "cell_type": "markdown",
      "source": [
        "##**1.1 演習のための準備**\n",
        "量子コンピュータの世界にようこそ。  \n",
        "当演習ではIBMが提供する「Qiskit」というPython言語のライブラリーを使用します。  \n",
        "量子コンピューティングは量子ビットに対する一連の演算により構成され、  \n",
        "そのモデルは「量子回路」と呼ばれています。  \n",
        "Qiskitは量子回路を作成し、量子コンピューティングをシミュレーションするためのツールです。  \n",
        "さらにQiskitを通じてIBMが開発したプロトタイプの量子コンピュータにアクセスして、量子回路を実行させることも可能です。\n",
        "\n",
        "それでは以下のコードを実行し、qiskitをインストールしましょう。"
      ],
      "metadata": {
        "id": "XiU9xic5OxKR"
      }
    },
    {
      "cell_type": "code",
      "source": [
        "pip install qiskit==0.39.4"
      ],
      "metadata": {
        "id": "afzD-AvInOl6",
        "colab": {
          "base_uri": "https://localhost:8080/"
        },
        "outputId": "32a428a2-5f7b-4289-ffe9-d26c11a225ff"
      },
      "execution_count": null,
      "outputs": [
        {
          "output_type": "stream",
          "name": "stdout",
          "text": [
            "Requirement already satisfied: qiskit==0.39.4 in /usr/local/lib/python3.10/dist-packages (0.39.4)\n",
            "Requirement already satisfied: qiskit-terra==0.22.3 in /usr/local/lib/python3.10/dist-packages (from qiskit==0.39.4) (0.22.3)\n",
            "Requirement already satisfied: qiskit-aer==0.11.2 in /usr/local/lib/python3.10/dist-packages (from qiskit==0.39.4) (0.11.2)\n",
            "Requirement already satisfied: qiskit-ibmq-provider==0.19.2 in /usr/local/lib/python3.10/dist-packages (from qiskit==0.39.4) (0.19.2)\n",
            "Requirement already satisfied: numpy>=1.16.3 in /usr/local/lib/python3.10/dist-packages (from qiskit-aer==0.11.2->qiskit==0.39.4) (1.23.5)\n",
            "Requirement already satisfied: scipy>=1.0 in /usr/local/lib/python3.10/dist-packages (from qiskit-aer==0.11.2->qiskit==0.39.4) (1.11.2)\n",
            "Requirement already satisfied: requests>=2.19 in /usr/local/lib/python3.10/dist-packages (from qiskit-ibmq-provider==0.19.2->qiskit==0.39.4) (2.31.0)\n",
            "Requirement already satisfied: requests-ntlm>=1.1.0 in /usr/local/lib/python3.10/dist-packages (from qiskit-ibmq-provider==0.19.2->qiskit==0.39.4) (1.2.0)\n",
            "Requirement already satisfied: urllib3>=1.21.1 in /usr/local/lib/python3.10/dist-packages (from qiskit-ibmq-provider==0.19.2->qiskit==0.39.4) (2.0.4)\n",
            "Requirement already satisfied: python-dateutil>=2.8.0 in /usr/local/lib/python3.10/dist-packages (from qiskit-ibmq-provider==0.19.2->qiskit==0.39.4) (2.8.2)\n",
            "Requirement already satisfied: websocket-client>=1.0.1 in /usr/local/lib/python3.10/dist-packages (from qiskit-ibmq-provider==0.19.2->qiskit==0.39.4) (1.6.2)\n",
            "Requirement already satisfied: websockets>=10.0 in /usr/local/lib/python3.10/dist-packages (from qiskit-ibmq-provider==0.19.2->qiskit==0.39.4) (11.0.3)\n",
            "Requirement already satisfied: retworkx>=0.11.0 in /usr/local/lib/python3.10/dist-packages (from qiskit-terra==0.22.3->qiskit==0.39.4) (0.13.1)\n",
            "Requirement already satisfied: ply>=3.10 in /usr/local/lib/python3.10/dist-packages (from qiskit-terra==0.22.3->qiskit==0.39.4) (3.11)\n",
            "Requirement already satisfied: psutil>=5 in /usr/local/lib/python3.10/dist-packages (from qiskit-terra==0.22.3->qiskit==0.39.4) (5.9.5)\n",
            "Requirement already satisfied: sympy>=1.3 in /usr/local/lib/python3.10/dist-packages (from qiskit-terra==0.22.3->qiskit==0.39.4) (1.12)\n",
            "Requirement already satisfied: dill>=0.3 in /usr/local/lib/python3.10/dist-packages (from qiskit-terra==0.22.3->qiskit==0.39.4) (0.3.7)\n",
            "Requirement already satisfied: stevedore>=3.0.0 in /usr/local/lib/python3.10/dist-packages (from qiskit-terra==0.22.3->qiskit==0.39.4) (5.1.0)\n",
            "Requirement already satisfied: symengine>=0.9 in /usr/local/lib/python3.10/dist-packages (from qiskit-terra==0.22.3->qiskit==0.39.4) (0.10.0)\n",
            "Requirement already satisfied: tweedledum<2.0,>=1.1 in /usr/local/lib/python3.10/dist-packages (from qiskit-terra==0.22.3->qiskit==0.39.4) (1.1.1)\n",
            "Requirement already satisfied: six>=1.5 in /usr/local/lib/python3.10/dist-packages (from python-dateutil>=2.8.0->qiskit-ibmq-provider==0.19.2->qiskit==0.39.4) (1.16.0)\n",
            "Requirement already satisfied: charset-normalizer<4,>=2 in /usr/local/lib/python3.10/dist-packages (from requests>=2.19->qiskit-ibmq-provider==0.19.2->qiskit==0.39.4) (3.2.0)\n",
            "Requirement already satisfied: idna<4,>=2.5 in /usr/local/lib/python3.10/dist-packages (from requests>=2.19->qiskit-ibmq-provider==0.19.2->qiskit==0.39.4) (3.4)\n",
            "Requirement already satisfied: certifi>=2017.4.17 in /usr/local/lib/python3.10/dist-packages (from requests>=2.19->qiskit-ibmq-provider==0.19.2->qiskit==0.39.4) (2023.7.22)\n",
            "Requirement already satisfied: cryptography>=1.3 in /usr/local/lib/python3.10/dist-packages (from requests-ntlm>=1.1.0->qiskit-ibmq-provider==0.19.2->qiskit==0.39.4) (41.0.3)\n",
            "Requirement already satisfied: pyspnego>=0.1.6 in /usr/local/lib/python3.10/dist-packages (from requests-ntlm>=1.1.0->qiskit-ibmq-provider==0.19.2->qiskit==0.39.4) (0.9.2)\n",
            "Requirement already satisfied: rustworkx==0.13.1 in /usr/local/lib/python3.10/dist-packages (from retworkx>=0.11.0->qiskit-terra==0.22.3->qiskit==0.39.4) (0.13.1)\n",
            "Requirement already satisfied: pbr!=2.1.0,>=2.0.0 in /usr/local/lib/python3.10/dist-packages (from stevedore>=3.0.0->qiskit-terra==0.22.3->qiskit==0.39.4) (5.11.1)\n",
            "Requirement already satisfied: mpmath>=0.19 in /usr/local/lib/python3.10/dist-packages (from sympy>=1.3->qiskit-terra==0.22.3->qiskit==0.39.4) (1.3.0)\n",
            "Requirement already satisfied: cffi>=1.12 in /usr/local/lib/python3.10/dist-packages (from cryptography>=1.3->requests-ntlm>=1.1.0->qiskit-ibmq-provider==0.19.2->qiskit==0.39.4) (1.15.1)\n",
            "Requirement already satisfied: pycparser in /usr/local/lib/python3.10/dist-packages (from cffi>=1.12->cryptography>=1.3->requests-ntlm>=1.1.0->qiskit-ibmq-provider==0.19.2->qiskit==0.39.4) (2.21)\n"
          ]
        }
      ]
    },
    {
      "cell_type": "markdown",
      "source": [
        "さらに以下のコードを実行して、Qiskitによる学習を支援するライブラリーqiskit-textbookと量子回路を描画するためのライブラリーpylatexencもインストールします。"
      ],
      "metadata": {
        "id": "o7JKF4_X_gy9"
      }
    },
    {
      "cell_type": "code",
      "source": [
        "pip install git+https://github.com/qiskit-community/qiskit-textbook.git#subdirectory=qiskit-textbook-src"
      ],
      "metadata": {
        "id": "EZ09I5pZoYlN",
        "colab": {
          "base_uri": "https://localhost:8080/"
        },
        "outputId": "a3c649b1-7a01-4745-f47c-ea27c1b86969"
      },
      "execution_count": null,
      "outputs": [
        {
          "output_type": "stream",
          "name": "stdout",
          "text": [
            "Collecting git+https://github.com/qiskit-community/qiskit-textbook.git#subdirectory=qiskit-textbook-src\n",
            "  Cloning https://github.com/qiskit-community/qiskit-textbook.git to /tmp/pip-req-build-h4nncr11\n",
            "  Running command git clone --filter=blob:none --quiet https://github.com/qiskit-community/qiskit-textbook.git /tmp/pip-req-build-h4nncr11\n",
            "  Resolved https://github.com/qiskit-community/qiskit-textbook.git to commit 0ae905083ec3872d7ddc6bb4001d5468f476d93f\n",
            "  Preparing metadata (setup.py) ... \u001b[?25l\u001b[?25hdone\n",
            "Requirement already satisfied: qiskit in /usr/local/lib/python3.10/dist-packages (from qiskit-textbook==0.1.0) (0.39.4)\n",
            "Requirement already satisfied: ipython in /usr/local/lib/python3.10/dist-packages (from qiskit-textbook==0.1.0) (7.34.0)\n",
            "Requirement already satisfied: ipywidgets in /usr/local/lib/python3.10/dist-packages (from qiskit-textbook==0.1.0) (7.7.1)\n",
            "Requirement already satisfied: numpy in /usr/local/lib/python3.10/dist-packages (from qiskit-textbook==0.1.0) (1.23.5)\n",
            "Requirement already satisfied: matplotlib in /usr/local/lib/python3.10/dist-packages (from qiskit-textbook==0.1.0) (3.7.1)\n",
            "Requirement already satisfied: numexpr in /usr/local/lib/python3.10/dist-packages (from qiskit-textbook==0.1.0) (2.8.5)\n",
            "Requirement already satisfied: setuptools>=18.5 in /usr/local/lib/python3.10/dist-packages (from ipython->qiskit-textbook==0.1.0) (67.7.2)\n",
            "Requirement already satisfied: jedi>=0.16 in /usr/local/lib/python3.10/dist-packages (from ipython->qiskit-textbook==0.1.0) (0.19.0)\n",
            "Requirement already satisfied: decorator in /usr/local/lib/python3.10/dist-packages (from ipython->qiskit-textbook==0.1.0) (4.4.2)\n",
            "Requirement already satisfied: pickleshare in /usr/local/lib/python3.10/dist-packages (from ipython->qiskit-textbook==0.1.0) (0.7.5)\n",
            "Requirement already satisfied: traitlets>=4.2 in /usr/local/lib/python3.10/dist-packages (from ipython->qiskit-textbook==0.1.0) (5.7.1)\n",
            "Requirement already satisfied: prompt-toolkit!=3.0.0,!=3.0.1,<3.1.0,>=2.0.0 in /usr/local/lib/python3.10/dist-packages (from ipython->qiskit-textbook==0.1.0) (3.0.39)\n",
            "Requirement already satisfied: pygments in /usr/local/lib/python3.10/dist-packages (from ipython->qiskit-textbook==0.1.0) (2.16.1)\n",
            "Requirement already satisfied: backcall in /usr/local/lib/python3.10/dist-packages (from ipython->qiskit-textbook==0.1.0) (0.2.0)\n",
            "Requirement already satisfied: matplotlib-inline in /usr/local/lib/python3.10/dist-packages (from ipython->qiskit-textbook==0.1.0) (0.1.6)\n",
            "Requirement already satisfied: pexpect>4.3 in /usr/local/lib/python3.10/dist-packages (from ipython->qiskit-textbook==0.1.0) (4.8.0)\n",
            "Requirement already satisfied: ipykernel>=4.5.1 in /usr/local/lib/python3.10/dist-packages (from ipywidgets->qiskit-textbook==0.1.0) (5.5.6)\n",
            "Requirement already satisfied: ipython-genutils~=0.2.0 in /usr/local/lib/python3.10/dist-packages (from ipywidgets->qiskit-textbook==0.1.0) (0.2.0)\n",
            "Requirement already satisfied: widgetsnbextension~=3.6.0 in /usr/local/lib/python3.10/dist-packages (from ipywidgets->qiskit-textbook==0.1.0) (3.6.5)\n",
            "Requirement already satisfied: jupyterlab-widgets>=1.0.0 in /usr/local/lib/python3.10/dist-packages (from ipywidgets->qiskit-textbook==0.1.0) (3.0.8)\n",
            "Requirement already satisfied: contourpy>=1.0.1 in /usr/local/lib/python3.10/dist-packages (from matplotlib->qiskit-textbook==0.1.0) (1.1.0)\n",
            "Requirement already satisfied: cycler>=0.10 in /usr/local/lib/python3.10/dist-packages (from matplotlib->qiskit-textbook==0.1.0) (0.11.0)\n",
            "Requirement already satisfied: fonttools>=4.22.0 in /usr/local/lib/python3.10/dist-packages (from matplotlib->qiskit-textbook==0.1.0) (4.42.1)\n",
            "Requirement already satisfied: kiwisolver>=1.0.1 in /usr/local/lib/python3.10/dist-packages (from matplotlib->qiskit-textbook==0.1.0) (1.4.5)\n",
            "Requirement already satisfied: packaging>=20.0 in /usr/local/lib/python3.10/dist-packages (from matplotlib->qiskit-textbook==0.1.0) (23.1)\n",
            "Requirement already satisfied: pillow>=6.2.0 in /usr/local/lib/python3.10/dist-packages (from matplotlib->qiskit-textbook==0.1.0) (9.4.0)\n",
            "Requirement already satisfied: pyparsing>=2.3.1 in /usr/local/lib/python3.10/dist-packages (from matplotlib->qiskit-textbook==0.1.0) (3.1.1)\n",
            "Requirement already satisfied: python-dateutil>=2.7 in /usr/local/lib/python3.10/dist-packages (from matplotlib->qiskit-textbook==0.1.0) (2.8.2)\n",
            "Requirement already satisfied: qiskit-terra==0.22.3 in /usr/local/lib/python3.10/dist-packages (from qiskit->qiskit-textbook==0.1.0) (0.22.3)\n",
            "Requirement already satisfied: qiskit-aer==0.11.2 in /usr/local/lib/python3.10/dist-packages (from qiskit->qiskit-textbook==0.1.0) (0.11.2)\n",
            "Requirement already satisfied: qiskit-ibmq-provider==0.19.2 in /usr/local/lib/python3.10/dist-packages (from qiskit->qiskit-textbook==0.1.0) (0.19.2)\n",
            "Requirement already satisfied: scipy>=1.0 in /usr/local/lib/python3.10/dist-packages (from qiskit-aer==0.11.2->qiskit->qiskit-textbook==0.1.0) (1.11.2)\n",
            "Requirement already satisfied: requests>=2.19 in /usr/local/lib/python3.10/dist-packages (from qiskit-ibmq-provider==0.19.2->qiskit->qiskit-textbook==0.1.0) (2.31.0)\n",
            "Requirement already satisfied: requests-ntlm>=1.1.0 in /usr/local/lib/python3.10/dist-packages (from qiskit-ibmq-provider==0.19.2->qiskit->qiskit-textbook==0.1.0) (1.2.0)\n",
            "Requirement already satisfied: urllib3>=1.21.1 in /usr/local/lib/python3.10/dist-packages (from qiskit-ibmq-provider==0.19.2->qiskit->qiskit-textbook==0.1.0) (2.0.4)\n",
            "Requirement already satisfied: websocket-client>=1.0.1 in /usr/local/lib/python3.10/dist-packages (from qiskit-ibmq-provider==0.19.2->qiskit->qiskit-textbook==0.1.0) (1.6.2)\n",
            "Requirement already satisfied: websockets>=10.0 in /usr/local/lib/python3.10/dist-packages (from qiskit-ibmq-provider==0.19.2->qiskit->qiskit-textbook==0.1.0) (11.0.3)\n",
            "Requirement already satisfied: retworkx>=0.11.0 in /usr/local/lib/python3.10/dist-packages (from qiskit-terra==0.22.3->qiskit->qiskit-textbook==0.1.0) (0.13.1)\n",
            "Requirement already satisfied: ply>=3.10 in /usr/local/lib/python3.10/dist-packages (from qiskit-terra==0.22.3->qiskit->qiskit-textbook==0.1.0) (3.11)\n",
            "Requirement already satisfied: psutil>=5 in /usr/local/lib/python3.10/dist-packages (from qiskit-terra==0.22.3->qiskit->qiskit-textbook==0.1.0) (5.9.5)\n",
            "Requirement already satisfied: sympy>=1.3 in /usr/local/lib/python3.10/dist-packages (from qiskit-terra==0.22.3->qiskit->qiskit-textbook==0.1.0) (1.12)\n",
            "Requirement already satisfied: dill>=0.3 in /usr/local/lib/python3.10/dist-packages (from qiskit-terra==0.22.3->qiskit->qiskit-textbook==0.1.0) (0.3.7)\n",
            "Requirement already satisfied: stevedore>=3.0.0 in /usr/local/lib/python3.10/dist-packages (from qiskit-terra==0.22.3->qiskit->qiskit-textbook==0.1.0) (5.1.0)\n",
            "Requirement already satisfied: symengine>=0.9 in /usr/local/lib/python3.10/dist-packages (from qiskit-terra==0.22.3->qiskit->qiskit-textbook==0.1.0) (0.10.0)\n",
            "Requirement already satisfied: tweedledum<2.0,>=1.1 in /usr/local/lib/python3.10/dist-packages (from qiskit-terra==0.22.3->qiskit->qiskit-textbook==0.1.0) (1.1.1)\n",
            "Requirement already satisfied: jupyter-client in /usr/local/lib/python3.10/dist-packages (from ipykernel>=4.5.1->ipywidgets->qiskit-textbook==0.1.0) (6.1.12)\n",
            "Requirement already satisfied: tornado>=4.2 in /usr/local/lib/python3.10/dist-packages (from ipykernel>=4.5.1->ipywidgets->qiskit-textbook==0.1.0) (6.3.2)\n",
            "Requirement already satisfied: parso<0.9.0,>=0.8.3 in /usr/local/lib/python3.10/dist-packages (from jedi>=0.16->ipython->qiskit-textbook==0.1.0) (0.8.3)\n",
            "Requirement already satisfied: ptyprocess>=0.5 in /usr/local/lib/python3.10/dist-packages (from pexpect>4.3->ipython->qiskit-textbook==0.1.0) (0.7.0)\n",
            "Requirement already satisfied: wcwidth in /usr/local/lib/python3.10/dist-packages (from prompt-toolkit!=3.0.0,!=3.0.1,<3.1.0,>=2.0.0->ipython->qiskit-textbook==0.1.0) (0.2.6)\n",
            "Requirement already satisfied: six>=1.5 in /usr/local/lib/python3.10/dist-packages (from python-dateutil>=2.7->matplotlib->qiskit-textbook==0.1.0) (1.16.0)\n",
            "Requirement already satisfied: notebook>=4.4.1 in /usr/local/lib/python3.10/dist-packages (from widgetsnbextension~=3.6.0->ipywidgets->qiskit-textbook==0.1.0) (6.5.5)\n",
            "Requirement already satisfied: jinja2 in /usr/local/lib/python3.10/dist-packages (from notebook>=4.4.1->widgetsnbextension~=3.6.0->ipywidgets->qiskit-textbook==0.1.0) (3.1.2)\n",
            "Requirement already satisfied: pyzmq<25,>=17 in /usr/local/lib/python3.10/dist-packages (from notebook>=4.4.1->widgetsnbextension~=3.6.0->ipywidgets->qiskit-textbook==0.1.0) (23.2.1)\n",
            "Requirement already satisfied: argon2-cffi in /usr/local/lib/python3.10/dist-packages (from notebook>=4.4.1->widgetsnbextension~=3.6.0->ipywidgets->qiskit-textbook==0.1.0) (23.1.0)\n",
            "Requirement already satisfied: jupyter-core>=4.6.1 in /usr/local/lib/python3.10/dist-packages (from notebook>=4.4.1->widgetsnbextension~=3.6.0->ipywidgets->qiskit-textbook==0.1.0) (5.3.1)\n",
            "Requirement already satisfied: nbformat in /usr/local/lib/python3.10/dist-packages (from notebook>=4.4.1->widgetsnbextension~=3.6.0->ipywidgets->qiskit-textbook==0.1.0) (5.9.2)\n",
            "Requirement already satisfied: nbconvert>=5 in /usr/local/lib/python3.10/dist-packages (from notebook>=4.4.1->widgetsnbextension~=3.6.0->ipywidgets->qiskit-textbook==0.1.0) (6.5.4)\n",
            "Requirement already satisfied: nest-asyncio>=1.5 in /usr/local/lib/python3.10/dist-packages (from notebook>=4.4.1->widgetsnbextension~=3.6.0->ipywidgets->qiskit-textbook==0.1.0) (1.5.7)\n",
            "Requirement already satisfied: Send2Trash>=1.8.0 in /usr/local/lib/python3.10/dist-packages (from notebook>=4.4.1->widgetsnbextension~=3.6.0->ipywidgets->qiskit-textbook==0.1.0) (1.8.2)\n",
            "Requirement already satisfied: terminado>=0.8.3 in /usr/local/lib/python3.10/dist-packages (from notebook>=4.4.1->widgetsnbextension~=3.6.0->ipywidgets->qiskit-textbook==0.1.0) (0.17.1)\n",
            "Requirement already satisfied: prometheus-client in /usr/local/lib/python3.10/dist-packages (from notebook>=4.4.1->widgetsnbextension~=3.6.0->ipywidgets->qiskit-textbook==0.1.0) (0.17.1)\n",
            "Requirement already satisfied: nbclassic>=0.4.7 in /usr/local/lib/python3.10/dist-packages (from notebook>=4.4.1->widgetsnbextension~=3.6.0->ipywidgets->qiskit-textbook==0.1.0) (1.0.0)\n",
            "Requirement already satisfied: charset-normalizer<4,>=2 in /usr/local/lib/python3.10/dist-packages (from requests>=2.19->qiskit-ibmq-provider==0.19.2->qiskit->qiskit-textbook==0.1.0) (3.2.0)\n",
            "Requirement already satisfied: idna<4,>=2.5 in /usr/local/lib/python3.10/dist-packages (from requests>=2.19->qiskit-ibmq-provider==0.19.2->qiskit->qiskit-textbook==0.1.0) (3.4)\n",
            "Requirement already satisfied: certifi>=2017.4.17 in /usr/local/lib/python3.10/dist-packages (from requests>=2.19->qiskit-ibmq-provider==0.19.2->qiskit->qiskit-textbook==0.1.0) (2023.7.22)\n",
            "Requirement already satisfied: cryptography>=1.3 in /usr/local/lib/python3.10/dist-packages (from requests-ntlm>=1.1.0->qiskit-ibmq-provider==0.19.2->qiskit->qiskit-textbook==0.1.0) (41.0.3)\n",
            "Requirement already satisfied: pyspnego>=0.1.6 in /usr/local/lib/python3.10/dist-packages (from requests-ntlm>=1.1.0->qiskit-ibmq-provider==0.19.2->qiskit->qiskit-textbook==0.1.0) (0.9.2)\n",
            "Requirement already satisfied: rustworkx==0.13.1 in /usr/local/lib/python3.10/dist-packages (from retworkx>=0.11.0->qiskit-terra==0.22.3->qiskit->qiskit-textbook==0.1.0) (0.13.1)\n",
            "Requirement already satisfied: pbr!=2.1.0,>=2.0.0 in /usr/local/lib/python3.10/dist-packages (from stevedore>=3.0.0->qiskit-terra==0.22.3->qiskit->qiskit-textbook==0.1.0) (5.11.1)\n",
            "Requirement already satisfied: mpmath>=0.19 in /usr/local/lib/python3.10/dist-packages (from sympy>=1.3->qiskit-terra==0.22.3->qiskit->qiskit-textbook==0.1.0) (1.3.0)\n",
            "Requirement already satisfied: cffi>=1.12 in /usr/local/lib/python3.10/dist-packages (from cryptography>=1.3->requests-ntlm>=1.1.0->qiskit-ibmq-provider==0.19.2->qiskit->qiskit-textbook==0.1.0) (1.15.1)\n",
            "Requirement already satisfied: platformdirs>=2.5 in /usr/local/lib/python3.10/dist-packages (from jupyter-core>=4.6.1->notebook>=4.4.1->widgetsnbextension~=3.6.0->ipywidgets->qiskit-textbook==0.1.0) (3.10.0)\n",
            "Requirement already satisfied: jupyter-server>=1.8 in /usr/local/lib/python3.10/dist-packages (from nbclassic>=0.4.7->notebook>=4.4.1->widgetsnbextension~=3.6.0->ipywidgets->qiskit-textbook==0.1.0) (1.24.0)\n",
            "Requirement already satisfied: notebook-shim>=0.2.3 in /usr/local/lib/python3.10/dist-packages (from nbclassic>=0.4.7->notebook>=4.4.1->widgetsnbextension~=3.6.0->ipywidgets->qiskit-textbook==0.1.0) (0.2.3)\n",
            "Requirement already satisfied: lxml in /usr/local/lib/python3.10/dist-packages (from nbconvert>=5->notebook>=4.4.1->widgetsnbextension~=3.6.0->ipywidgets->qiskit-textbook==0.1.0) (4.9.3)\n",
            "Requirement already satisfied: beautifulsoup4 in /usr/local/lib/python3.10/dist-packages (from nbconvert>=5->notebook>=4.4.1->widgetsnbextension~=3.6.0->ipywidgets->qiskit-textbook==0.1.0) (4.11.2)\n",
            "Requirement already satisfied: bleach in /usr/local/lib/python3.10/dist-packages (from nbconvert>=5->notebook>=4.4.1->widgetsnbextension~=3.6.0->ipywidgets->qiskit-textbook==0.1.0) (6.0.0)\n",
            "Requirement already satisfied: defusedxml in /usr/local/lib/python3.10/dist-packages (from nbconvert>=5->notebook>=4.4.1->widgetsnbextension~=3.6.0->ipywidgets->qiskit-textbook==0.1.0) (0.7.1)\n",
            "Requirement already satisfied: entrypoints>=0.2.2 in /usr/local/lib/python3.10/dist-packages (from nbconvert>=5->notebook>=4.4.1->widgetsnbextension~=3.6.0->ipywidgets->qiskit-textbook==0.1.0) (0.4)\n",
            "Requirement already satisfied: jupyterlab-pygments in /usr/local/lib/python3.10/dist-packages (from nbconvert>=5->notebook>=4.4.1->widgetsnbextension~=3.6.0->ipywidgets->qiskit-textbook==0.1.0) (0.2.2)\n",
            "Requirement already satisfied: MarkupSafe>=2.0 in /usr/local/lib/python3.10/dist-packages (from nbconvert>=5->notebook>=4.4.1->widgetsnbextension~=3.6.0->ipywidgets->qiskit-textbook==0.1.0) (2.1.3)\n",
            "Requirement already satisfied: mistune<2,>=0.8.1 in /usr/local/lib/python3.10/dist-packages (from nbconvert>=5->notebook>=4.4.1->widgetsnbextension~=3.6.0->ipywidgets->qiskit-textbook==0.1.0) (0.8.4)\n",
            "Requirement already satisfied: nbclient>=0.5.0 in /usr/local/lib/python3.10/dist-packages (from nbconvert>=5->notebook>=4.4.1->widgetsnbextension~=3.6.0->ipywidgets->qiskit-textbook==0.1.0) (0.8.0)\n",
            "Requirement already satisfied: pandocfilters>=1.4.1 in /usr/local/lib/python3.10/dist-packages (from nbconvert>=5->notebook>=4.4.1->widgetsnbextension~=3.6.0->ipywidgets->qiskit-textbook==0.1.0) (1.5.0)\n",
            "Requirement already satisfied: tinycss2 in /usr/local/lib/python3.10/dist-packages (from nbconvert>=5->notebook>=4.4.1->widgetsnbextension~=3.6.0->ipywidgets->qiskit-textbook==0.1.0) (1.2.1)\n",
            "Requirement already satisfied: fastjsonschema in /usr/local/lib/python3.10/dist-packages (from nbformat->notebook>=4.4.1->widgetsnbextension~=3.6.0->ipywidgets->qiskit-textbook==0.1.0) (2.18.0)\n",
            "Requirement already satisfied: jsonschema>=2.6 in /usr/local/lib/python3.10/dist-packages (from nbformat->notebook>=4.4.1->widgetsnbextension~=3.6.0->ipywidgets->qiskit-textbook==0.1.0) (4.19.0)\n",
            "Requirement already satisfied: argon2-cffi-bindings in /usr/local/lib/python3.10/dist-packages (from argon2-cffi->notebook>=4.4.1->widgetsnbextension~=3.6.0->ipywidgets->qiskit-textbook==0.1.0) (21.2.0)\n",
            "Requirement already satisfied: pycparser in /usr/local/lib/python3.10/dist-packages (from cffi>=1.12->cryptography>=1.3->requests-ntlm>=1.1.0->qiskit-ibmq-provider==0.19.2->qiskit->qiskit-textbook==0.1.0) (2.21)\n",
            "Requirement already satisfied: attrs>=22.2.0 in /usr/local/lib/python3.10/dist-packages (from jsonschema>=2.6->nbformat->notebook>=4.4.1->widgetsnbextension~=3.6.0->ipywidgets->qiskit-textbook==0.1.0) (23.1.0)\n",
            "Requirement already satisfied: jsonschema-specifications>=2023.03.6 in /usr/local/lib/python3.10/dist-packages (from jsonschema>=2.6->nbformat->notebook>=4.4.1->widgetsnbextension~=3.6.0->ipywidgets->qiskit-textbook==0.1.0) (2023.7.1)\n",
            "Requirement already satisfied: referencing>=0.28.4 in /usr/local/lib/python3.10/dist-packages (from jsonschema>=2.6->nbformat->notebook>=4.4.1->widgetsnbextension~=3.6.0->ipywidgets->qiskit-textbook==0.1.0) (0.30.2)\n",
            "Requirement already satisfied: rpds-py>=0.7.1 in /usr/local/lib/python3.10/dist-packages (from jsonschema>=2.6->nbformat->notebook>=4.4.1->widgetsnbextension~=3.6.0->ipywidgets->qiskit-textbook==0.1.0) (0.10.2)\n",
            "Requirement already satisfied: anyio<4,>=3.1.0 in /usr/local/lib/python3.10/dist-packages (from jupyter-server>=1.8->nbclassic>=0.4.7->notebook>=4.4.1->widgetsnbextension~=3.6.0->ipywidgets->qiskit-textbook==0.1.0) (3.7.1)\n",
            "Requirement already satisfied: soupsieve>1.2 in /usr/local/lib/python3.10/dist-packages (from beautifulsoup4->nbconvert>=5->notebook>=4.4.1->widgetsnbextension~=3.6.0->ipywidgets->qiskit-textbook==0.1.0) (2.5)\n",
            "Requirement already satisfied: webencodings in /usr/local/lib/python3.10/dist-packages (from bleach->nbconvert>=5->notebook>=4.4.1->widgetsnbextension~=3.6.0->ipywidgets->qiskit-textbook==0.1.0) (0.5.1)\n",
            "Requirement already satisfied: sniffio>=1.1 in /usr/local/lib/python3.10/dist-packages (from anyio<4,>=3.1.0->jupyter-server>=1.8->nbclassic>=0.4.7->notebook>=4.4.1->widgetsnbextension~=3.6.0->ipywidgets->qiskit-textbook==0.1.0) (1.3.0)\n",
            "Requirement already satisfied: exceptiongroup in /usr/local/lib/python3.10/dist-packages (from anyio<4,>=3.1.0->jupyter-server>=1.8->nbclassic>=0.4.7->notebook>=4.4.1->widgetsnbextension~=3.6.0->ipywidgets->qiskit-textbook==0.1.0) (1.1.3)\n"
          ]
        }
      ]
    },
    {
      "cell_type": "code",
      "source": [
        "pip install pylatexenc"
      ],
      "metadata": {
        "id": "-MUaL2oDReEv",
        "colab": {
          "base_uri": "https://localhost:8080/"
        },
        "outputId": "cd1ebc33-145f-4aa5-d293-1d370af1d5ee"
      },
      "execution_count": null,
      "outputs": [
        {
          "output_type": "stream",
          "name": "stdout",
          "text": [
            "Requirement already satisfied: pylatexenc in /usr/local/lib/python3.10/dist-packages (2.10)\n"
          ]
        }
      ]
    },
    {
      "cell_type": "markdown",
      "source": [
        "演習で使用するパッケージをqiskitライブラリーからimportします。  \n",
        "以下のコードを実行しましょう。  \n"
      ],
      "metadata": {
        "id": "WmYOrNR2BKwg"
      }
    },
    {
      "cell_type": "code",
      "source": [
        "#QuntrumCircuitは量子回路を可視化するためのパッケージ\n",
        "#assemble、Aerは量子回路シミュレーションのためのパッケージ\n",
        "from qiskit import QuantumCircuit, assemble, Aer\n",
        "from qiskit.visualization import plot_histogram\n"
      ],
      "metadata": {
        "id": "EAEqC2Qfnhvz"
      },
      "execution_count": null,
      "outputs": []
    },
    {
      "cell_type": "markdown",
      "source": [
        "##***1.2 量子回路を作成してみよう***\n",
        "\n",
        "量子コンピューティングのモデル「量子回路」は  \n",
        "大きく分けて３つのステージで構成されます。  \n",
        "* Stage1:エンコード（入力情報を量子ビット情報に符号化）  \n",
        "* Stage2:オペレーション（量子ビットに対する一連の操作、つまりコンピューティングの核）\n",
        "* Stage3:出力の抽出（量子ビットの状態を測定し、結果を出力）  \n",
        "\n"
      ],
      "metadata": {
        "id": "5P4GEymfDqNa"
      }
    },
    {
      "cell_type": "markdown",
      "source": [
        "### **出力の抽出をおこなう回路**\n",
        "ここではまず、最後のステージ「出力の抽出」をおこなう量子回路を作成します。  \n",
        "4つの量子ビットと2つの出力を持つ回路を想定します。\n",
        "以下のコードを実行しましょう。\n",
        "\n",
        "```\n",
        "n_q = 4 #量子ビット数の指定\n",
        "n_b = 2 #出力ビット数の指定\n",
        "qc_output = QuantumCircuit(n_q,n_b) #コードQuantumCircuitにより作成された量子回路\n",
        "qc_output.draw(output='mpl')#量子回路の表示\n",
        "\n",
        "```"
      ],
      "metadata": {
        "id": "A7YN7QN7iwGL"
      }
    },
    {
      "cell_type": "code",
      "source": [
        "n_q = 4 #量子ビット数の指定\n",
        "n_b = 2 #出力ビット数の指定\n",
        "qc_output = QuantumCircuit(n_q,n_b) #コードQuantumCircuitにより作成された量子回路\n",
        "qc_output.draw(output='mpl')#量子回路の表示"
      ],
      "metadata": {
        "id": "Nsh8cgII-IVP",
        "colab": {
          "base_uri": "https://localhost:8080/",
          "height": 384
        },
        "outputId": "631080a6-e7af-4c34-ff3c-0eaed24a426d"
      },
      "execution_count": null,
      "outputs": [
        {
          "output_type": "execute_result",
          "data": {
            "text/plain": [
              "<Figure size 162.08x451.5 with 1 Axes>"
            ],
            "image/png": "[encoded data removed]"
          },
          "metadata": {},
          "execution_count": 124
        }
      ]
    },
    {
      "cell_type": "markdown",
      "source": [
        "この時点で、量子ビットの情報は抽出されていません。  \n",
        "抽出をおこなうには「測定(measurement)」と呼ばれる操作が必要です。    \n",
        "測定により量子ビットから0または1の情報が確率的に抽出されます。  \n",
        "その確率は測定される量子ビットの状態で決まります。  \n",
        "測定結果は出力ビットに書き込まれます。  \n",
        "今回は量子ビット数を4(n_q=4),出力ビット数を2(n_b=2)としています。  \n",
        "次のコードは、3番目と4番目の量子ビット$\\ q_2,\\ q_3\\ $に「測定」を適用します。  \n",
        "コマンドqc.measure(j,j）は量子ビットjに対する測定結果を出力ビットjに書き込むよう指示しています。\n",
        "\n",
        "```\n",
        "qc_output.measure(2,0)#測定の適用\n",
        "qc_output.measure(3,1)\n",
        "```\n",
        "\n",
        "```\n",
        "qc_output.draw('mpl')#量子回路の表示\n",
        "```"
      ],
      "metadata": {
        "id": "64JBQYKSIeWT"
      }
    },
    {
      "cell_type": "code",
      "source": [
        "qc_output.measure(2,0)\n",
        "qc_output.measure(3,1)"
      ],
      "metadata": {
        "id": "prrL7NW_yMAL",
        "colab": {
          "base_uri": "https://localhost:8080/"
        },
        "outputId": "895f150a-c225-4d8e-8fb2-1dff00eadcfa"
      },
      "execution_count": null,
      "outputs": [
        {
          "output_type": "execute_result",
          "data": {
            "text/plain": [
              "<qiskit.circuit.instructionset.InstructionSet at 0x7983f091d210>"
            ]
          },
          "metadata": {},
          "execution_count": 125
        }
      ]
    },
    {
      "cell_type": "code",
      "source": [
        "qc_output.draw('mpl')"
      ],
      "metadata": {
        "id": "UY65ZZucyN27",
        "colab": {
          "base_uri": "https://localhost:8080/",
          "height": 384
        },
        "outputId": "ad1937c7-04ce-427f-b84e-fb1eb7791ca0"
      },
      "execution_count": null,
      "outputs": [
        {
          "output_type": "execute_result",
          "data": {
            "text/plain": [
              "<Figure size 287.496x451.5 with 1 Axes>"
            ],
            "image/png": "[encoded data removed]"
          },
          "metadata": {},
          "execution_count": 126
        }
      ]
    },
    {
      "cell_type": "markdown",
      "source": [
        "Qiskitは量子ビットの初期状態を「0」に設定しています。  \n",
        "ですので、量子ビット$\\ q_2,\\ q_3\\ $を「測定」すれば、\n",
        "確率１で「0」が抽出されるはずです。  \n",
        "このことを量子回路をシミュレーションすることで確かめてみましょう。\n",
        "\n",
        "\n",
        "\n",
        "\n",
        "ーーー\n",
        "\n",
        "\n",
        "\n",
        "以下のコードによりシミュレータを作成します。\n",
        "\n",
        "```\n",
        "sim = Aer.get_backend('aer_simulator')  # シミュレータの作成\n",
        "```\n"
      ],
      "metadata": {
        "id": "HdUCm0Rbge3x"
      }
    },
    {
      "cell_type": "code",
      "source": [
        "sim = Aer.get_backend('aer_simulator')"
      ],
      "metadata": {
        "id": "YYz_tpR297_i"
      },
      "execution_count": null,
      "outputs": []
    },
    {
      "cell_type": "markdown",
      "source": [
        "以下のコードによりシミュレータのジョブ「qobj」を設定します。ジョブの内容は量子回路(qc_output)です。\n",
        "\n",
        "```\n",
        "qobj = assemble(qc_output)  # シミュレータのジョブを設定\n",
        "```"
      ],
      "metadata": {
        "id": "2SOFVoNv-OKf"
      }
    },
    {
      "cell_type": "code",
      "source": [
        "qobj = assemble(qc_output)"
      ],
      "metadata": {
        "id": "3qG7m7UPySsV"
      },
      "execution_count": null,
      "outputs": []
    },
    {
      "cell_type": "markdown",
      "source": [
        "以下のコードによりシミュレーションを実行し、結果をオブジェクト「result」に格納します。\n",
        "\n",
        "```\n",
        "result = sim.run(qobj).result()  # シミュレーションを実行した結果を得る\n",
        "```"
      ],
      "metadata": {
        "id": "16HbLu6R_kwi"
      }
    },
    {
      "cell_type": "code",
      "source": [
        "result = sim.run(qobj).result()"
      ],
      "metadata": {
        "id": "NQRcIiv7yWmV"
      },
      "execution_count": null,
      "outputs": []
    },
    {
      "cell_type": "markdown",
      "source": [
        "シミュレータは量子回路を何回も実行するように設定されています。  \n",
        "一般に、量子回路から得る出力結果は確率的に変わる確率変数であるためです。  \n",
        "オブジェクト「result」には出力の頻度データ「counts」が格納されています。  \n",
        "以下のコードによりresultにあるcountsデータを取り出します。\n",
        "\n",
        "```\n",
        "counts = result.get_counts()#出力の頻度データ(counts)の取り出し\n",
        "print(counts)#countsの表示\n",
        "```"
      ],
      "metadata": {
        "id": "mgkYgWzQAYY1"
      }
    },
    {
      "cell_type": "code",
      "source": [
        "counts = result.get_counts()#出力の頻度データ(counts)の取り出し\n",
        "print(counts)#countsの表示"
      ],
      "metadata": {
        "id": "EvRvN5MXyXpN",
        "colab": {
          "base_uri": "https://localhost:8080/"
        },
        "outputId": "6e2e6317-8e70-4a6f-9fed-7d094f1bcb27"
      },
      "execution_count": null,
      "outputs": [
        {
          "output_type": "stream",
          "name": "stdout",
          "text": [
            "{'00': 1024}\n"
          ]
        }
      ]
    },
    {
      "cell_type": "markdown",
      "source": [
        "countsデータのヒストグラムを以下のコードにより描画しましょう。\n",
        "\n",
        "```\n",
        "plot_histogram(counts)# ヒストグラムの描画\n",
        "```"
      ],
      "metadata": {
        "id": "B4uuuTslCC3v"
      }
    },
    {
      "cell_type": "code",
      "source": [
        "plot_histogram(counts)"
      ],
      "metadata": {
        "id": "waa1JMzeyY11",
        "colab": {
          "base_uri": "https://localhost:8080/",
          "height": 461
        },
        "outputId": "111b1182-09ab-4cb0-c9fe-450a414abbc6"
      },
      "execution_count": null,
      "outputs": [
        {
          "output_type": "execute_result",
          "data": {
            "text/plain": [
              "<Figure size 700x500 with 1 Axes>"
            ],
            "image/png": "[encoded data removed]"
          },
          "metadata": {},
          "execution_count": 131
        }
      ]
    },
    {
      "cell_type": "markdown",
      "source": [
        "予想通りの結果ですね。"
      ],
      "metadata": {
        "id": "nC8lc0JjeWZv"
      }
    },
    {
      "cell_type": "markdown",
      "source": [
        "### **エンコードをおこなう回路**\n",
        "次に量子回路の最初のステージ「エンコード」をおこなう回路を作成します。  \n",
        "ここでは4つの量子ビット$\\ q_0,\\ q_1,\\ q_2,\\ q_3\\ $に対し、\n",
        "これらの初期状態「0000」を「1100」にエンコードする操作を問題としましょう。  \n",
        "この操作は量子ビット情報に対し「0」を「1」に、または「1」を「0」に反転させる演算により実現されます。  \n",
        "量子回路モデルにおいては、反転の演算は「NOTゲート」と呼ばれます。  \n",
        "まず、4量子ビットからなる回路(qc_encode)を設定します。\n",
        "\n",
        "```\n",
        "qc_encode1100=QuantumCircuit(4)#ここでは4量子ビットからなる回路を設定します\n",
        "qc_encode1100.draw('mpl')#量子回路の表示\n",
        "```"
      ],
      "metadata": {
        "id": "9sV0nhF4C2X7"
      }
    },
    {
      "cell_type": "code",
      "source": [
        "qc_encode1100=QuantumCircuit(4)#ここでは4量子ビットからなる回路を設定します\n",
        "qc_encode1100.draw('mpl')#量子回路の表示"
      ],
      "metadata": {
        "id": "t0Rfxk9ZycRH",
        "colab": {
          "base_uri": "https://localhost:8080/",
          "height": 320
        },
        "outputId": "16514c07-59a3-4440-d773-0d41291db1a2"
      },
      "execution_count": null,
      "outputs": [
        {
          "output_type": "execute_result",
          "data": {
            "text/plain": [
              "<Figure size 162.08x367.889 with 1 Axes>"
            ],
            "image/png": "[encoded data removed]"
          },
          "metadata": {},
          "execution_count": 132
        }
      ]
    },
    {
      "cell_type": "markdown",
      "source": [
        "さらに量子ビット$\\ q_0,\\ q_1\\ $にNOTゲートを適用します。\n",
        "\n",
        "```\n",
        "qc_encode1100.x(0)#NOTゲートの適用\n",
        "qc_encode1100.x(1)\n",
        "qc_encode1100.draw('mpl')#量子回路の表示\n",
        "```"
      ],
      "metadata": {
        "id": "YfSzmpkzIKJt"
      }
    },
    {
      "cell_type": "code",
      "source": [
        "qc_encode1100.x(0)#NOTゲートの適用\n",
        "qc_encode1100.x(1)\n",
        "qc_encode1100.draw('mpl')#量子回路の表示"
      ],
      "metadata": {
        "id": "Y6sZmc8MydzE",
        "colab": {
          "base_uri": "https://localhost:8080/",
          "height": 320
        },
        "outputId": "3875a13d-d040-41f3-8dde-0a85f9dd24c5"
      },
      "execution_count": null,
      "outputs": [
        {
          "output_type": "execute_result",
          "data": {
            "text/plain": [
              "<Figure size 203.885x367.889 with 1 Axes>"
            ],
            "image/png": "[encoded data removed]"
          },
          "metadata": {},
          "execution_count": 133
        }
      ]
    },
    {
      "cell_type": "markdown",
      "source": [
        "これが初期状態「0000」を「1100」にエンコードする量子回路です。  \n",
        "同様にして「0000」を「0000」にエンコードする量子回路(qc_encode0000)  \n",
        "「0000」を「0100」にエンコードする量子回路(qc_encode0100) 、   \n",
        "「0000」を「1000」にエンコードする量子回路(qc_encode1000)  \n",
        "を作成しましょう.\n",
        "\n",
        "```\n",
        "qc_encode0000=QuantumCircuit(4)\n",
        "qc_encode0100=QuantumCircuit(4)\n",
        "qc_encode0100.x(1)\n",
        "qc_encode1000=QuantumCircuit(4)\n",
        "qc_encode1000.x(0)\n",
        "```"
      ],
      "metadata": {
        "id": "gZnww7X0Jtoe"
      }
    },
    {
      "cell_type": "code",
      "source": [
        "qc_encode0000=QuantumCircuit(4)\n",
        "qc_encode0100=QuantumCircuit(4)\n",
        "qc_encode0100.x(1)\n",
        "qc_encode1000=QuantumCircuit(4)\n",
        "qc_encode1000.x(0)"
      ],
      "metadata": {
        "id": "08Q6URHDygua",
        "colab": {
          "base_uri": "https://localhost:8080/"
        },
        "outputId": "8bc4f48c-7ede-48ce-f029-9b18ebc36b8d"
      },
      "execution_count": null,
      "outputs": [
        {
          "output_type": "execute_result",
          "data": {
            "text/plain": [
              "<qiskit.circuit.instructionset.InstructionSet at 0x7983f0cafc70>"
            ]
          },
          "metadata": {},
          "execution_count": 134
        }
      ]
    },
    {
      "cell_type": "markdown",
      "source": [
        "```\n",
        "qc_encode0000.draw('mpl')\n",
        "```"
      ],
      "metadata": {
        "id": "v_pB4O9DqCji"
      }
    },
    {
      "cell_type": "code",
      "source": [
        "qc_encode0000.draw('mpl')"
      ],
      "metadata": {
        "id": "rTUqtJnIyjeH",
        "colab": {
          "base_uri": "https://localhost:8080/",
          "height": 320
        },
        "outputId": "90a0a3a6-f695-440b-c1a0-feb21118b30e"
      },
      "execution_count": null,
      "outputs": [
        {
          "output_type": "execute_result",
          "data": {
            "text/plain": [
              "<Figure size 162.08x367.889 with 1 Axes>"
            ],
            "image/png": "[encoded data removed]"
          },
          "metadata": {},
          "execution_count": 135
        }
      ]
    },
    {
      "cell_type": "markdown",
      "source": [
        "```\n",
        "qc_encode0100.draw('mpl')\n",
        "```"
      ],
      "metadata": {
        "id": "6fwh-RXLqLep"
      }
    },
    {
      "cell_type": "code",
      "source": [
        "qc_encode0100.draw('mpl')"
      ],
      "metadata": {
        "id": "X_prwXqZylPh",
        "colab": {
          "base_uri": "https://localhost:8080/",
          "height": 320
        },
        "outputId": "af5ce71b-33e3-4028-f8e1-d676ec578a00"
      },
      "execution_count": null,
      "outputs": [
        {
          "output_type": "execute_result",
          "data": {
            "text/plain": [
              "<Figure size 203.885x367.889 with 1 Axes>"
            ],
            "image/png": "[encoded data removed]"
          },
          "metadata": {},
          "execution_count": 136
        }
      ]
    },
    {
      "cell_type": "markdown",
      "source": [
        "```\n",
        "qc_encode1000.draw('mpl')\n",
        "```"
      ],
      "metadata": {
        "id": "h2B2RS5Rqlwr"
      }
    },
    {
      "cell_type": "code",
      "source": [
        "qc_encode1000.draw('mpl')"
      ],
      "metadata": {
        "id": "P75di3UPymru",
        "colab": {
          "base_uri": "https://localhost:8080/",
          "height": 320
        },
        "outputId": "db055c05-54e6-470e-ac49-ead82bbc1b33"
      },
      "execution_count": null,
      "outputs": [
        {
          "output_type": "execute_result",
          "data": {
            "text/plain": [
              "<Figure size 203.885x367.889 with 1 Axes>"
            ],
            "image/png": "[encoded data removed]"
          },
          "metadata": {},
          "execution_count": 137
        }
      ]
    },
    {
      "cell_type": "code",
      "source": [
        "# qc_encode"
      ],
      "metadata": {
        "id": "M7YxuX3Ja69-"
      },
      "execution_count": null,
      "outputs": []
    },
    {
      "cell_type": "markdown",
      "source": [
        "---\n",
        "---\n",
        "\n"
      ],
      "metadata": {
        "id": "bUVWBkoHbYXe"
      }
    },
    {
      "cell_type": "markdown",
      "source": [
        "### **オペレーション「足し算」をおこなう回路**\n",
        "ここまでで２つの量子回路「qc_encode」と「qc_output」を作成しました。  \n",
        "これらの間に「オペレーション」をおこなう回路が入ります。  \n",
        "ここでは「足し算」、    \n",
        "$0+0=0,\\ 0+1=1,\\ 1+0=1,\\ 1+1=2$  \n",
        "を実行する回路「qc_operation」を作成します。  \n",
        "この回路は4つの量子ビットを必要とします。\n",
        "```\n",
        "qc_operation=QuantumCircuit(4)\n",
        "qc_operation.draw('mpl')\n",
        "```"
      ],
      "metadata": {
        "id": "cmL5yHKKKG63"
      }
    },
    {
      "cell_type": "code",
      "source": [
        "qc_operation=QuantumCircuit(4)\n",
        "qc_operation.draw('mpl')"
      ],
      "metadata": {
        "id": "HHyASYzXypC9",
        "colab": {
          "base_uri": "https://localhost:8080/",
          "height": 320
        },
        "outputId": "790c2e99-236d-4b30-8a71-f8383a1964b4"
      },
      "execution_count": null,
      "outputs": [
        {
          "output_type": "execute_result",
          "data": {
            "text/plain": [
              "<Figure size 162.08x367.889 with 1 Axes>"
            ],
            "image/png": "[encoded data removed]"
          },
          "metadata": {},
          "execution_count": 139
        }
      ]
    },
    {
      "cell_type": "markdown",
      "source": [
        "量子ビット$\\ q_0,\\ q_1\\ $の状態が計算式の左辺、  \n",
        "量子ビット$\\ q_2,\\ q_3\\ $の状態が右辺の2進法の表現に対応すると考えます。  \n",
        "つまり量子ビット間に\n",
        "* $(q_0,q_1)=(0,0)$ ならば $(q_2,q_3)=(0,0)$\n",
        "* $(q_0,q_1)=(0,1)$ ならば $(q_2,q_3)=(1,0)$\n",
        "* $(q_0,q_1)=(1,0)$ ならば $(q_2,q_3)=(1,0)$\n",
        "* $(q_0,q_1)=(1,1)$ ならば $(q_2,q_3)=(0,1)$  \n",
        "\n",
        "という関係、  \n",
        "「$(q_0,q_1)$の状態が、$(q_2,q_3)$への反転操作を制御している」関係  \n",
        "を作らなくてはなりません。    \n",
        "まずは量子ビット$q_2$への反転操作について考えましょう。  \n",
        "* 量子ビット$q_0$が1であるときに$q_2$は反転操作を受けます。  \n",
        "* 量子ビット$q_1$が1であるときも$q_2$は反転操作を受けます。  \n",
        "（ $q_0,q_1$が共に1であるときは量子ビット$q_2$は2回の反転を受けて初期の0に戻ります。）\n",
        "\n",
        "量子回路においては、こうした操作はふたつの「制御NOTゲート(CNOTゲート)（コントロールnotゲート)」により表現されます。  \n",
        "$q_0$を制御、$q_2$を標的とするCNOTゲートと $q_1$を制御、$q_2$を標的とするCNOTゲートを  \n",
        "以下のコードにより適用しましょう。\n",
        "```\n",
        "qc_operation.cx(0,2)#CNOTゲートの適用\n",
        "qc_operation.cx(1,2)\n",
        "qc_operation.draw('mpl')\n",
        "```\n",
        "\n",
        "\n"
      ],
      "metadata": {
        "id": "jCMLUK14VUDK"
      }
    },
    {
      "cell_type": "code",
      "source": [
        "qc_operation.cx(0,2)#CNOTゲートの適用\n",
        "qc_operation.cx(1,2)\n",
        "qc_operation.draw('mpl')"
      ],
      "metadata": {
        "id": "PhTVEni_yssz",
        "colab": {
          "base_uri": "https://localhost:8080/",
          "height": 320
        },
        "outputId": "146c7cff-39cd-4975-e5e2-828f3ee61e12"
      },
      "execution_count": null,
      "outputs": [
        {
          "output_type": "execute_result",
          "data": {
            "text/plain": [
              "<Figure size 287.496x367.889 with 1 Axes>"
            ],
            "image/png": "[encoded data removed]"
          },
          "metadata": {},
          "execution_count": 140
        }
      ]
    },
    {
      "cell_type": "markdown",
      "source": [
        "次に量子ビット$q3$への反転操作を考えましょう。  \n",
        "$q_3$は$q_0,q_1$が共に1のときのみ反転を受けます。  \n",
        "この操作は二つの制御による反転を意味するCCNOTゲート(Toffoliゲート)  \n",
        "により実行されます。  \n",
        "$q_0,q_1$を制御、$q_3$を標的とするCCNOTゲートを以下のコードにより適用します。\n",
        "```\n",
        "qc_operation.ccx(0,1,3)#CCNOTゲートの適用\n",
        "qc_operation.draw('mpl')\n",
        "```\n"
      ],
      "metadata": {
        "id": "mVzRMS-WmON9"
      }
    },
    {
      "cell_type": "code",
      "source": [
        "qc_operation.ccx(0,1,3)#CCNOTゲートの適用\n",
        "qc_operation.draw('mpl')"
      ],
      "metadata": {
        "id": "7q1O4jTwyucv",
        "colab": {
          "base_uri": "https://localhost:8080/",
          "height": 320
        },
        "outputId": "b693707b-95b3-453e-b25e-c913fa001bf3"
      },
      "execution_count": null,
      "outputs": [
        {
          "output_type": "execute_result",
          "data": {
            "text/plain": [
              "<Figure size 371.107x367.889 with 1 Axes>"
            ],
            "image/png": "[encoded data removed]"
          },
          "metadata": {},
          "execution_count": 141
        }
      ]
    },
    {
      "cell_type": "markdown",
      "source": [
        "これで0+0,0+1,1+0,1+1をおこなうオペレーション回路が完成しました。"
      ],
      "metadata": {
        "id": "B0jYFMLMoD-q"
      }
    },
    {
      "cell_type": "markdown",
      "source": [
        "##***1.3 量子回路のシミュレーション***"
      ],
      "metadata": {
        "id": "YQSP608rpAmR"
      }
    },
    {
      "cell_type": "markdown",
      "source": [
        "### **1+1計算のシミュレーション**\n",
        "エンコードをおこなう回路(qc_encode1100)と足し算のオペレーションをおこなう回路(qc_operation)、  \n",
        "そして出力の抽出をおこなう回路(qc_output)を結合した回路(qc)を作成します。\n",
        "```\n",
        "qc=qc_encode1100+qc_operation+qc_output\n",
        "qc.draw('mpl')\n",
        "```"
      ],
      "metadata": {
        "id": "BOUbvRF0yxRW"
      }
    },
    {
      "cell_type": "markdown",
      "source": [],
      "metadata": {
        "id": "LUXVkBdrdOm8"
      }
    },
    {
      "cell_type": "code",
      "source": [
        "qc=qc_encode1100+qc_operation+qc_output\n",
        "qc.draw('mpl')"
      ],
      "metadata": {
        "id": "ADm4t2Svy8W6",
        "colab": {
          "base_uri": "https://localhost:8080/",
          "height": 440
        },
        "outputId": "eb097219-5793-42c7-bac1-c573c4938ef5"
      },
      "execution_count": null,
      "outputs": [
        {
          "output_type": "stream",
          "name": "stderr",
          "text": [
            "<ipython-input-142-1e14cbced633>:1: DeprecationWarning: The QuantumCircuit.__add__() method is being deprecated.Use the compose() method which is more flexible w.r.t circuit register compatibility.\n",
            "  qc=qc_encode1100+qc_operation+qc_output\n"
          ]
        },
        {
          "output_type": "execute_result",
          "data": {
            "text/plain": [
              "<Figure size 621.941x451.5 with 1 Axes>"
            ],
            "image/png": "[encoded data removed]"
          },
          "metadata": {},
          "execution_count": 142
        }
      ]
    },
    {
      "cell_type": "markdown",
      "source": [
        "この回路は1+1の計算をおこなう回路です。\n",
        "よって出力ビット情報は確率１で01となるはずです。  \n",
        "シミュレーションをおこなってみましょう。\n",
        "```\n",
        "qobj = assemble(qc)\n",
        "counts = sim.run(qobj).result().get_counts()\n",
        "plot_histogram(counts)\n",
        "```"
      ],
      "metadata": {
        "id": "kgXy0qhg0dpj"
      }
    },
    {
      "cell_type": "code",
      "source": [
        "qobj = assemble(qc)\n",
        "counts = sim.run(qobj).result().get_counts()\n",
        "plot_histogram(counts)"
      ],
      "metadata": {
        "id": "rlAvKoury9h0",
        "colab": {
          "base_uri": "https://localhost:8080/",
          "height": 461
        },
        "outputId": "4c8c62ba-720b-4ca4-e541-6fe93346d00b"
      },
      "execution_count": null,
      "outputs": [
        {
          "output_type": "execute_result",
          "data": {
            "text/plain": [
              "<Figure size 700x500 with 1 Axes>"
            ],
            "image/png": "[encoded data removed]"
          },
          "metadata": {},
          "execution_count": 143
        }
      ]
    },
    {
      "cell_type": "markdown",
      "source": [
        "同様にエンコード回路をqc_encode0000,qc_encode0100,qc_encode1000に置き換えれば  \n",
        "回路は0+0,0+1,1+0を実行することになります。"
      ],
      "metadata": {
        "id": "NJoCuehw3GY7"
      }
    },
    {
      "cell_type": "markdown",
      "source": [
        "### **量子並列計算**\n",
        "量子ビットは古典ビットのような「0もしくは1」の状態ではなく、  \n",
        "「量子重ね合わせ(qunatum superposition)」と呼ばれる特殊な状態を取り得ます。  \n",
        "それは測定をおこなうと確率的に0もしくは1に遷移するような、潜在性を有した  \n",
        "ひとつの状態と解釈され、数学的にはベクトルの形式で表現されます。  \n",
        "0の状態をベクトル$|0\\rangle= \\left(\\begin{array}{c}1\\\\ 0\\end{array}\\right)$、1の状態をベクトル$|1\\rangle=\\left(\\begin{array}{c}0\\\\ 1\\end{array}\\right)$とおけば、  \n",
        "量子ビットの状態は  \n",
        "$$\\frac{1}{\\sqrt2}|0⟩+\\frac{1}{\\sqrt2}|1⟩=\\frac{1}{\\sqrt 2} \\left(\\begin{array}{c}1\\\\ 0\\end{array}\\right)+\\frac{1}{\\sqrt 2}\\left(\\begin{array}{c}0\\\\ 1\\end{array}\\right)=\\frac{1}{\\sqrt 2} \\left(\\begin{array}{c}1\\\\ 1\\end{array}\\right)$$\n",
        "のように記述されます。このベクトルは測定をおこなうと確率$|\\frac{1}{\\sqrt2}|^2=\\frac{1}{2}$で  \n",
        "0または1に遷移する状態を表しています。  \n",
        "量子ビットの初期状態$|0⟩$を$\\frac{1}{\\sqrt2}|0⟩+\\frac{1}{\\sqrt2}|1⟩$に変換する操作は  \n",
        "アダマードゲート(Hゲート) と呼ばれます。  \n",
        "量子ビット$q_0,q_1$にHゲートを適用した量子回路を作成します。\n",
        "\n",
        "```\n",
        "qc_encodeSP=QuantumCircuit(4)\n",
        "qc_encodeSP.h(0)#Hゲートの適用\n",
        "qc_encodeSP.h(1)\n",
        "qc_encodeSP.draw('mpl')\n",
        "```\n"
      ],
      "metadata": {
        "id": "V4dhm4gV65f0"
      }
    },
    {
      "cell_type": "code",
      "source": [
        "qc_encodeSP=QuantumCircuit(4)\n",
        "qc_encodeSP.h(0)#Hゲートの適用\n",
        "qc_encodeSP.h(1)\n",
        "qc_encodeSP.draw('mpl')"
      ],
      "metadata": {
        "id": "IsS5qsOazCss",
        "colab": {
          "base_uri": "https://localhost:8080/",
          "height": 320
        },
        "outputId": "19e0d03b-c553-4eff-bfa1-5c9ad29f9710"
      },
      "execution_count": null,
      "outputs": [
        {
          "output_type": "execute_result",
          "data": {
            "text/plain": [
              "<Figure size 203.885x367.889 with 1 Axes>"
            ],
            "image/png": "[encoded data removed]"
          },
          "metadata": {},
          "execution_count": 144
        }
      ]
    },
    {
      "cell_type": "markdown",
      "source": [
        "Hゲートを通過後、量子ビット$q_0,q_1$の状態は\n",
        "$$\\frac{1}{2}|00⟩+\\frac{1}{2}|01⟩+\\frac{1}{2}|10⟩+\\frac{1}{2}|11⟩$$\n",
        "に変換されます。（Hゲートが数学的にどのような演算であるかは後に解説されます。）  \n",
        "これをエンコード回路としてqc_operation、qc_outputに結合しましょう。\n",
        "```\n",
        "qc=qc_encodeSP+qc_operation+qc_output\n",
        "qc.draw('mpl')\n",
        "```"
      ],
      "metadata": {
        "id": "qne9jOQtRCph"
      }
    },
    {
      "cell_type": "code",
      "source": [
        "qc=qc_encodeSP+qc_operation+qc_output\n",
        "qc.draw('mpl')"
      ],
      "metadata": {
        "id": "EuqsmnyUzE-N",
        "colab": {
          "base_uri": "https://localhost:8080/",
          "height": 440
        },
        "outputId": "49bd459b-4131-4eb5-a0e8-a9628e06ded2"
      },
      "execution_count": null,
      "outputs": [
        {
          "output_type": "stream",
          "name": "stderr",
          "text": [
            "<ipython-input-145-7b8e160cb65f>:1: DeprecationWarning: The QuantumCircuit.__add__() method is being deprecated.Use the compose() method which is more flexible w.r.t circuit register compatibility.\n",
            "  qc=qc_encodeSP+qc_operation+qc_output\n"
          ]
        },
        {
          "output_type": "execute_result",
          "data": {
            "text/plain": [
              "<Figure size 621.941x451.5 with 1 Axes>"
            ],
            "image/png": "[encoded data removed]"
          },
          "metadata": {},
          "execution_count": 145
        }
      ]
    },
    {
      "cell_type": "markdown",
      "source": [
        "この回路においてはどのような出力を得るでしょうか？  \n",
        "シミュレーションをおこないます。\n",
        "```\n",
        "qobj = assemble(qc)\n",
        "counts = sim.run(qobj).result().get_counts()\n",
        "plot_histogram(counts)\n",
        "```"
      ],
      "metadata": {
        "id": "3Lc5I34TTbdz"
      }
    },
    {
      "cell_type": "code",
      "source": [
        "qobj = assemble(qc)\n",
        "counts = sim.run(qobj).result().get_counts()\n",
        "plot_histogram(counts)"
      ],
      "metadata": {
        "id": "CnkHkBakzI2i",
        "colab": {
          "base_uri": "https://localhost:8080/",
          "height": 461
        },
        "outputId": "40fdca27-ad4d-44d8-d1c4-c76ca3ba0c95"
      },
      "execution_count": null,
      "outputs": [
        {
          "output_type": "execute_result",
          "data": {
            "text/plain": [
              "<Figure size 700x500 with 1 Axes>"
            ],
            "image/png": "[encoded data removed]"
          },
          "metadata": {},
          "execution_count": 146
        }
      ]
    },
    {
      "cell_type": "markdown",
      "source": [
        "結果を見ると、0+0の計算結果00と1+1の計算結果01がそれぞれおよそ1/4の確率で抽出されていることが分かります。  \n",
        "そして0+1または1+0の計算結果10がおよそ1/2の確率で抽出されています。\n",
        "このことから量子回路は潜在的に、  \n",
        "0+0,0+1,1+0,1+1の４つの計算を同時に実行していると言えます。  \n",
        "（ただしそのうちのひとつの計算結果だけが測定されます。）\n"
      ],
      "metadata": {
        "id": "97DOUb-HT7rQ"
      }
    },
    {
      "cell_type": "markdown",
      "source": [
        "## **演習課題01**"
      ],
      "metadata": {
        "id": "Qxef5en1YfC1"
      }
    },
    {
      "cell_type": "markdown",
      "source": [
        "### 問題\n",
        "0+0+0, 0+0+1, 0+1+0, 1+0+0, 0+1+1, 1+0+1, 1+1+0, 1+1+1 の計算を同時におこなう量子回路を作成せよ。  \n",
        "回路は5量子ビット2出力で構成するものとする。"
      ],
      "metadata": {
        "id": "OSktihjfYyz4"
      }
    },
    {
      "cell_type": "markdown",
      "source": [],
      "metadata": {
        "id": "CD47Xgbtgd2U"
      }
    },
    {
      "cell_type": "markdown",
      "source": [
        "**解答**"
      ],
      "metadata": {
        "id": "NUCP5cDPZxNg"
      }
    },
    {
      "cell_type": "code",
      "source": [
        "n_q = 5 #量子ビット数の指定\n",
        "n_b = 2 #出力ビット数の指定\n",
        "qc_output = QuantumCircuit(n_q,n_b) #コードQuantumCircuitにより作成された量子回路\n",
        "qc_output.draw(output='mpl')#量子回路の表示"
      ],
      "metadata": {
        "colab": {
          "base_uri": "https://localhost:8080/",
          "height": 449
        },
        "id": "nlr7JZ_shTle",
        "outputId": "5f52569f-8962-456a-9bb0-3c0387887dae"
      },
      "execution_count": null,
      "outputs": [
        {
          "output_type": "execute_result",
          "data": {
            "text/plain": [
              "<Figure size 162.08x535.111 with 1 Axes>"
            ],
            "image/png": "[encoded data removed]"
          },
          "metadata": {},
          "execution_count": 147
        }
      ]
    },
    {
      "cell_type": "code",
      "source": [
        "qc_output.measure(3,0)\n",
        "qc_output.measure(4,1)\n",
        "qc_output.draw('mpl')"
      ],
      "metadata": {
        "colab": {
          "base_uri": "https://localhost:8080/",
          "height": 449
        },
        "id": "T7InhOxVg14_",
        "outputId": "7aa58cd1-e9ba-452c-8c01-c803a2fdf4dd"
      },
      "execution_count": null,
      "outputs": [
        {
          "output_type": "execute_result",
          "data": {
            "text/plain": [
              "<Figure size 287.496x535.111 with 1 Axes>"
            ],
            "image/png": "[encoded data removed]"
          },
          "metadata": {},
          "execution_count": 148
        }
      ]
    },
    {
      "cell_type": "code",
      "source": [
        "qc_encodeSP=QuantumCircuit(5)\n",
        "\n",
        "qc_encodeSP.h(0)#Hゲートの適用\n",
        "qc_encodeSP.h(1)\n",
        "qc_encodeSP.h(2)\n",
        "qc_encodeSP.draw('mpl')\n",
        "\n"
      ],
      "metadata": {
        "colab": {
          "base_uri": "https://localhost:8080/",
          "height": 384
        },
        "id": "MBWBIyL5ekSz",
        "outputId": "e092b310-af67-4b87-a91c-f4d7bcad8611"
      },
      "execution_count": null,
      "outputs": [
        {
          "output_type": "execute_result",
          "data": {
            "text/plain": [
              "<Figure size 203.885x451.5 with 1 Axes>"
            ],
            "image/png": "[encoded data removed]"
          },
          "metadata": {},
          "execution_count": 149
        }
      ]
    },
    {
      "cell_type": "code",
      "source": [
        "qc_operation=QuantumCircuit(5)\n",
        "qc_operation.draw('mpl')\n",
        "\n",
        "qc_operation.cx(0,3)#CNOTゲートの適用\n",
        "qc_operation.cx(1,3)\n",
        "qc_operation.cx(2,3)\n",
        "qc_operation.draw('mpl')\n",
        "\n"
      ],
      "metadata": {
        "colab": {
          "base_uri": "https://localhost:8080/",
          "height": 384
        },
        "id": "BJIA0d7de_kt",
        "outputId": "2156086b-e977-4605-86cb-357edfea3509"
      },
      "execution_count": null,
      "outputs": [
        {
          "output_type": "execute_result",
          "data": {
            "text/plain": [
              "<Figure size 371.107x451.5 with 1 Axes>"
            ],
            "image/png": "[encoded data removed]"
          },
          "metadata": {},
          "execution_count": 153
        }
      ]
    },
    {
      "cell_type": "code",
      "source": [
        "qc_operation.ccx(0,1,4)#CCNOTゲートの適用\n",
        "qc_operation.ccx(0,2,4)#CCNOTゲートの適用\n",
        "qc_operation.ccx(1,2,4)#CCNOTゲートの適用\n",
        "\n",
        "\n",
        "qc_operation.draw('mpl')"
      ],
      "metadata": {
        "colab": {
          "base_uri": "https://localhost:8080/",
          "height": 384
        },
        "id": "RRg-i9e6iZVW",
        "outputId": "13fd76c6-fb36-4ec4-9e19-883a56ead54d"
      },
      "execution_count": null,
      "outputs": [
        {
          "output_type": "execute_result",
          "data": {
            "text/plain": [
              "<Figure size 621.941x451.5 with 1 Axes>"
            ],
            "image/png": "[encoded data removed]"
          },
          "metadata": {},
          "execution_count": 154
        }
      ]
    },
    {
      "cell_type": "code",
      "source": [],
      "metadata": {
        "id": "Shv-MP3_gSNK"
      },
      "execution_count": null,
      "outputs": []
    },
    {
      "cell_type": "code",
      "source": [
        "qc=qc_encodeSP+qc_operation+qc_output\n",
        "qc.draw('mpl')"
      ],
      "metadata": {
        "colab": {
          "base_uri": "https://localhost:8080/",
          "height": 505
        },
        "id": "3IJ3qT_He1xj",
        "outputId": "acf3b04f-df8b-4e0a-b6fc-bd3577bd16e8"
      },
      "execution_count": null,
      "outputs": [
        {
          "output_type": "stream",
          "name": "stderr",
          "text": [
            "<ipython-input-155-7b8e160cb65f>:1: DeprecationWarning: The QuantumCircuit.__add__() method is being deprecated.Use the compose() method which is more flexible w.r.t circuit register compatibility.\n",
            "  qc=qc_encodeSP+qc_operation+qc_output\n"
          ]
        },
        {
          "output_type": "execute_result",
          "data": {
            "text/plain": [
              "<Figure size 872.774x535.111 with 1 Axes>"
            ],
            "image/png": "[encoded data removed]"
          },
          "metadata": {},
          "execution_count": 155
        }
      ]
    },
    {
      "cell_type": "code",
      "source": [
        "sim = Aer.get_backend('aer_simulator')\n",
        "qobj = assemble(qc)\n",
        "result = sim.run(qobj).result()\n",
        "counts = result.get_counts()#出力の頻度データ(counts)の取り出し\n",
        "print(counts)#countsの表示"
      ],
      "metadata": {
        "colab": {
          "base_uri": "https://localhost:8080/"
        },
        "id": "r57wo-gqjIPr",
        "outputId": "98787d0a-c0ec-44a4-e3fb-9dfc89d18c71"
      },
      "execution_count": null,
      "outputs": [
        {
          "output_type": "stream",
          "name": "stdout",
          "text": [
            "{'11': 113, '01': 396, '00': 129, '10': 386}\n"
          ]
        }
      ]
    },
    {
      "cell_type": "code",
      "source": [
        "plot_histogram(counts)"
      ],
      "metadata": {
        "colab": {
          "base_uri": "https://localhost:8080/",
          "height": 461
        },
        "id": "_KlMozz-jOeq",
        "outputId": "cdfe3483-c1c8-42a7-e40e-abbea8c41876"
      },
      "execution_count": null,
      "outputs": [
        {
          "output_type": "execute_result",
          "data": {
            "text/plain": [
              "<Figure size 700x500 with 1 Axes>"
            ],
            "image/png": "[encoded data removed]"
          },
          "metadata": {},
          "execution_count": 161
        }
      ]
    },
    {
      "cell_type": "markdown",
      "source": [
        "---\n",
        "---\n",
        "---\n"
      ],
      "metadata": {
        "id": "yPe5cLyTe2dk"
      }
    },
    {
      "cell_type": "code",
      "source": [],
      "metadata": {
        "id": "LdEuOeaQzUES"
      },
      "execution_count": null,
      "outputs": []
    },
    {
      "cell_type": "code",
      "source": [],
      "metadata": {
        "id": "XU44TFcuhc_9"
      },
      "execution_count": null,
      "outputs": []
    },
    {
      "cell_type": "code",
      "source": [],
      "metadata": {
        "id": "LPPj9KnNimO6"
      },
      "execution_count": null,
      "outputs": []
    },
    {
      "cell_type": "code",
      "source": [],
      "metadata": {
        "id": "0iiieYqUkgzB"
      },
      "execution_count": null,
      "outputs": []
    },
    {
      "cell_type": "code",
      "source": [],
      "metadata": {
        "id": "xhzm0ddGVgs7"
      },
      "execution_count": null,
      "outputs": []
    },
    {
      "cell_type": "markdown",
      "source": [
        "**シミュレーション**"
      ],
      "metadata": {
        "id": "vyttOekqdrhP"
      }
    },
    {
      "cell_type": "code",
      "source": [],
      "metadata": {
        "id": "N7xUDVnvzXMl"
      },
      "execution_count": null,
      "outputs": []
    }
  ]
}