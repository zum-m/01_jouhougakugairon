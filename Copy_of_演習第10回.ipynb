{
  "nbformat": 4,
  "nbformat_minor": 0,
  "metadata": {
    "colab": {
      "provenance": [],
      "toc_visible": true,
      "include_colab_link": true
    },
    "kernelspec": {
      "name": "python3",
      "display_name": "Python 3"
    },
    "language_info": {
      "name": "python"
    }
  },
  "cells": [
    {
      "cell_type": "markdown",
      "metadata": {
        "id": "view-in-github",
        "colab_type": "text"
      },
      "source": [
        "<a href=\"https://colab.research.google.com/github/zum-m/01_jouhougakugairon/blob/quantium/Copy_of_%E6%BC%94%E7%BF%92%E7%AC%AC10%E5%9B%9E.ipynb\" target=\"_parent\"><img src=\"https://colab.research.google.com/assets/colab-badge.svg\" alt=\"Open In Colab\"/></a>"
      ]
    },
    {
      "cell_type": "markdown",
      "source": [
        "# **10.ショアのアルゴリズム**\n",
        "\n",
        "ショア(Shor)のアルゴリズムは量子コンピュータを用いて、現実的な計算時間で整数を因数分解するの方法です。  \n",
        "古典的なアルゴリズムでは、2つの素数の積を分解するために（素数が大きくなるほど）莫大な計算時間が必要となります。  \n",
        "インターネット上で広く使われている暗号システムRSAは大きな数の因数分解の難しさを前提にしています。  \n",
        "したがってショアのアルゴリズムの実現が社会に与えるインパクトは計り知れないものがあります。\n",
        "\n"
      ],
      "metadata": {
        "id": "yd5XTnA9hof1"
      }
    },
    {
      "cell_type": "markdown",
      "source": [
        "##**10.1 演習のための準備**\n",
        "以下のコードを実行し、qiskitをインストールしましょう。"
      ],
      "metadata": {
        "id": "XiU9xic5OxKR"
      }
    },
    {
      "cell_type": "code",
      "source": [
        "!pip install qiskit==0.39.4"
      ],
      "metadata": {
        "id": "afzD-AvInOl6"
      },
      "execution_count": null,
      "outputs": []
    },
    {
      "cell_type": "markdown",
      "source": [
        "さらに以下のコードを実行して、Qiskitによる学習を支援するライブラリーqiskit-textbookと量子回路を描画するためのライブラリーpylatexencもインストールします。"
      ],
      "metadata": {
        "id": "o7JKF4_X_gy9"
      }
    },
    {
      "cell_type": "code",
      "source": [
        "!pip install git+https://github.com/qiskit-community/qiskit-textbook.git#subdirectory=qiskit-textbook-src"
      ],
      "metadata": {
        "id": "EZ09I5pZoYlN"
      },
      "execution_count": null,
      "outputs": []
    },
    {
      "cell_type": "code",
      "source": [
        "!pip install pylatexenc"
      ],
      "metadata": {
        "id": "-MUaL2oDReEv"
      },
      "execution_count": null,
      "outputs": []
    },
    {
      "cell_type": "markdown",
      "source": [
        "演習で使用するパッケージをqiskitライブラリーからimportします。  \n",
        "以下のコードを実行しましょう。  \n"
      ],
      "metadata": {
        "id": "WmYOrNR2BKwg"
      }
    },
    {
      "cell_type": "code",
      "source": [
        "# initialization\n",
        "import matplotlib.pyplot as plt\n",
        "import numpy as np\n",
        "import math\n",
        "\n",
        "from numpy import pi\n",
        "from numpy.random import randint\n",
        "from math import gcd\n",
        "from tabulate import tabulate\n",
        "from fractions import Fraction\n",
        "# importing Qiskit\n",
        "from qiskit import *\n",
        "from qiskit import Aer\n",
        "from qiskit import BasicAer\n",
        "from qiskit.providers.ibmq import least_busy\n",
        "from qiskit import QuantumCircuit,execute, ClassicalRegister, QuantumRegister, assemble, transpile\n",
        "from qiskit_textbook.widgets import dj_widget\n",
        "from qiskit_textbook.tools import array_to_latex\n",
        "from qiskit.tools.monitor import job_monitor\n",
        "\n",
        "# import basic plot tools\n",
        "from qiskit.visualization import plot_histogram, array_to_latex\n",
        "from qiskit.visualization import plot_bloch_multivector\n",
        "\n"
      ],
      "metadata": {
        "id": "0v96H5Ij1rZ2"
      },
      "execution_count": null,
      "outputs": []
    },
    {
      "cell_type": "markdown",
      "source": [
        "##**10.2 周期発見の問題と量子アルゴリズム**"
      ],
      "metadata": {
        "id": "hIE6qKEZV8ST"
      }
    },
    {
      "cell_type": "markdown",
      "source": [
        "### **10.2.1 周期発見の問題**\n",
        "ショアのアルゴリズムにおいて、量子コンピュータが実際に解く問題は「周期発見の問題」と呼ばれます。  \n",
        "（後の節で、周期発見の問題を解ければ大きな数の因数分解が可能であることを説明します。）  \n",
        "まず次のような関数を考えます。\n",
        "$$\n",
        "f(x)=a^{x} (\\bmod N)\n",
        "$$\n",
        "$N,a$は正の整数で$a$は$N$未満とします。  \n",
        "$f(x)$は正の整数$x$について「$a^x$を$N$で割った余り(剰余)」を返す関数です。\n",
        "\n",
        "「$17$を$5$で割った余りは$2$」ですね。  \n",
        "このとき$17\\ (\\bmod5)=2$と記述します。\n",
        "\n",
        "$a^{x} (\\bmod N)$の計算結果は必ず$0$～$N-1$の範囲に収まることに注意します。  \n",
        "そして$a$と$N$は互いに素（共通の因数が$1$のみ）であるとします。  \n",
        "\n",
        "ここで$a=3$と$N=35$を例に\n",
        "$$a^{r} (\\bmod N)=1$$\n",
        "を満たす$r$について考えてみましょう。$r=0$であれば無論この条件は満たされます。  \n",
        "問題はそれ以降に初めて条件を満たす正の整数$r(> 0)$の値です。その値は\n",
        "\n",
        "* $x=1$のとき：$3^1(\\bmod 35)=3$\n",
        "* $x=2$のとき：$3^2(\\bmod 35)=9$\n",
        "* $x=3$のとき：$3^3(\\bmod 35)=27$\n",
        "* $x=4$のとき：$3^4(\\bmod 35)=11$\n",
        "* $x=5$のとき：$3^5(\\bmod 35)=11 \\cdot 3(\\bmod 35)=33$\n",
        "* $x=6$のとき：$3^6(\\bmod 35)=33 \\cdot 3(\\bmod 35)=29$\n",
        "* $x=7$のとき：$3^7(\\bmod 35)=29 \\cdot 3(\\bmod 35)=17$\n",
        "* $x=8$のとき：$3^8(\\bmod 35)=17 \\cdot 3(\\bmod 35)=16$\n",
        "* $x=9$のとき：$3^9(\\bmod 35)=16 \\cdot 3(\\bmod 35)=13$\n",
        "* $x=10$のとき：$3^{10}(\\bmod 35)=13 \\cdot 3(\\bmod 35)=4$\n",
        "* $x=11$のとき：$3^{11}(\\bmod 35)=4 \\cdot 3(\\bmod 35)=12$\n",
        "* $x=12$のとき：$3^{12}(\\bmod 35)=12 \\cdot 3(\\bmod 35)=1$\n",
        "\n",
        "といった具合で計算を進めることで発見されます。  \n",
        "$r=12$が発見されました。  \n",
        "\n",
        "$x=1$～$12$に対する$3^x\\ (\\bmod 35)$の結果は\n",
        "$$\\{ 3,9,27,11,33,29,17,16,13,4,12,1\\}$$\n",
        "ですね。$x=13$以降の計算結果はどうなるでしょうか。  \n",
        "結局、上の数の並びを繰り返すことになります。\n",
        "\n",
        "その意味で$r=12$を$3^x\\ (\\bmod 35)$の「周期」と呼びます。\n",
        "\n",
        "$N$が$35$程度であれば、周期の発見は容易いと言えますが、  \n",
        "$N$が大きくなるほどに周期発見に要する計算量は増大します。\n"
      ],
      "metadata": {
        "id": "bFAFH3bqLye3"
      }
    },
    {
      "cell_type": "markdown",
      "source": [
        "### **10.2.2 $a^x\\ (\\bmod N)$ を計算するユニタリー演算**\n",
        "最初に周期発見問題を解く量子アルゴリズムにおいては  \n",
        "以下のユニタリー演算が重要です。\n",
        "$$\n",
        "U|y\\rangle \\equiv|a y \\bmod N\\rangle\n",
        "$$\n",
        "$|y⟩$は一般に$n$量子ビットレジスタのビット情報$|y⟩=|y_1⟩⊗|y_2⟩⊗\\cdots ⊗|y_n⟩$であり、  \n",
        "$y$の値は$y=2^{n-1}y_1+2^{n-2}y_2+\\cdots +y_n$とします。  \n",
        "\n",
        "例として$a=3$ および $N=35$に設定して、$U$の作用を見ていきましょう。  \n",
        "$|y⟩$の状態は$|1⟩=|00\\cdots 01⟩$とします。\n",
        "$$U|1\\rangle =|3\\cdot 1\\ (\\bmod 35)⟩=|3\\rangle$$\n",
        "ですね。$U$を二回、つまり$U^2$を作用させるとどうでしょうか。\n",
        "$$U^2|1\\rangle =U\\cdot U|1⟩=U|3⟩=|3\\cdot 3\\ (\\bmod 35)⟩=|9\\rangle$$\n",
        "ですね。以下同様にすれば、\n",
        "$$\n",
        "\\begin{aligned}\n",
        "U^{3}|1\\rangle &=|27\\rangle \\\\\n",
        "& \\vdots \\\\\n",
        "U^{11}|1\\rangle &=|12\\rangle \\\\\n",
        "U^{12}|1\\rangle &=|1\\rangle\n",
        "\\end{aligned}\n",
        "$$\n",
        "を得ます。$U$を12回作用させると状態は$|1⟩$に戻りました。  \n",
        "これらの計算は前節に見た周期発見のための計算と同じです。一般に\n",
        "$$U^x|1⟩=|a^x\\ (\\bmod N)⟩$$\n",
        "となり、$U^r|1⟩=|1⟩$を満たす$r$が周期です。\n",
        "\n"
      ],
      "metadata": {
        "id": "QzVZRCFeL9ix"
      }
    },
    {
      "cell_type": "markdown",
      "source": [
        "### **10.2.3 $U$の固有状態・固有値**\n",
        "ここでは前節で見たユニタリー演算$U$について、その固有状態と固有値を考察します。  まず\n",
        "$$|a^x(\\bmod N)⟩=|f(x)⟩$$\n",
        "と置いておきましょう。\n",
        "$$|f(0)⟩=|1⟩$$\n",
        "ですね。周期を$r$とすれば\n",
        "$$|f(x+r)⟩=|f(x)⟩$$\n",
        "であり、$U$の作用に対しては\n",
        "$$U|f(x)⟩=|f(x+1)⟩$$\n",
        "が成り立つことに注意しましょう。これらの性質より、状態\n",
        "$$|u_0⟩=\\frac{1}{\\sqrt r}\\sum_{x=0}^{r-1}|f(x)⟩$$\n",
        "は$U$に対し、固有値$1$の固有状態であることが分かります。実際\n",
        "$$U|u_0⟩=\\frac{1}{\\sqrt r}\\sum_{x=0}^{r-1}U|f(x)⟩=\\frac{1}{\\sqrt r}\\sum_{x=0}^{r-1}|f(x+1)⟩$$\n",
        "ですね。周期性$|f(r)⟩=|f(0)⟩$から最後の式は$|u_0⟩$に等しいと言えます。\n",
        "したがって\n",
        "$$U|u_0⟩=|u_0⟩$$\n",
        "となります。また\n",
        "$$|u_1⟩=\\frac{1}{\\sqrt r}\\sum_{x=0}^{r-1}e^{-2πi\\frac{1}{r}\\cdot x}|f(x)⟩$$\n",
        "の状態も固有状態です。\n",
        "$$U|u_1⟩=\\frac{1}{\\sqrt r}\\sum_{x=0}^{r-1}e^{-2πi\\frac{1}{r}\\cdot x}U|f(x)⟩=\\frac{1}{\\sqrt r}\\sum_{x=0}^{r-1}e^{-2πi\\frac{1}{r}\\cdot x}|f(x+1)⟩$$\n",
        "ですが、最後の式を\n",
        "$$e^{2πi\\frac{1}{r}}\\cdot \\frac{1}{\\sqrt r}\\sum_{x=0}^{r-1}e^{-2πi\\frac{1}{r}\\cdot(x+1)}|f(x+1)⟩$$\n",
        "と書き直しましょう。周期性 $|f(r)⟩=|f(0)⟩$からこれは$e^{2πi\\frac{1}{r}}|u_1⟩$に等しいです。つまり\n",
        "$$U|u_1⟩=e^{2πi\\frac{1}{r}}|u_1⟩$$\n",
        "であり、$|u_1⟩$は固有値$e^{2πi\\frac{1}{r}}$をもちます。一般に\n",
        "$$|u_s⟩=\\frac{1}{\\sqrt r}\\sum_{x=0}^{r-1}e^{-2πi\\frac{s}{r}\\cdot x}|f(x)⟩\\ \\left(s=0,1,\\cdots, r-1\\right)$$\n",
        "で表現される$r$個の状態は固有値$e^{2πi\\frac{s}{r}}$の固有状態です。\n",
        "\n",
        "$r$個の固有状態$u_0,u_1,\\cdots ,u_{r-1}$については\n",
        "$$\\frac{1}{\\sqrt{r}}\\sum_{s=0}^{r-1}|u_s⟩=|f(0)⟩=|1⟩$$\n",
        "が成り立ちます。左辺は\n",
        "$$\\frac{1}{\\sqrt{r}}\\sum_{s=0}^{r-1}|u_s⟩=\\frac{1}{\\sqrt{r}}\\sum_{s=0}^{r-1}\\left(\\frac{1}{\\sqrt r}\\sum_{x=0}^{r-1}e^{-2πi\\frac{s}{r}\\cdot x}|f(x)⟩\\right)\n",
        "=\\sum_{x=0}^{r-1}\\left(\\frac{1}{r}\\sum_{s=0}^{r-1}e^{-2πi\\frac{s}{r}\\cdot x} \\right)|f(x)⟩$$\n",
        "と書けますが、最後の式の括弧内の値は$x=0$のときに$1$となり、$x\\neq 0$のときはゼロとなります。"
      ],
      "metadata": {
        "id": "6QqJi9kCX8qr"
      }
    },
    {
      "cell_type": "markdown",
      "source": [
        "### **10.2.4 量子アルゴリズム**\n",
        "前節で述べたユニタリー演算$U$の固有状態である$|u_s⟩$の固有値は\n",
        "$$e^{2\\pi i\\frac{s}{r}}$$\n",
        "でしたね。位相部分 $\\frac{s}{r}$ に「$a^x\\ (\\bmod N)$の周期」 $r$ が含まれていることに  \n",
        "注意しましょう。\n",
        "\n",
        "ショアのアルゴリズムにおける量子コンピューティングは位相 $\\frac{s}{r}$を求めます。  \n",
        "その手順は前回学んだ「量子位相推定」の手順とほぼ変わりません。\n",
        "\n",
        "* **手順１:** 全てが状態$|0⟩$にある$n$ 個の量子ビットレジスタと  \n",
        "$U$の固有状態$|u_s \\rangle \\ (s=0,1,\\cdots r-1)$の重ね合わせ$\\frac{1}{\\sqrt{r}}\\sum_{s=0}^{r-1}|u_s⟩=|1⟩$の状態にある$m$ 個の量子ビットレジスタを用意します。\n",
        "$$\n",
        "|\\psi_{0}⟩=|0\\rangle^{\\otimes n}⊗|1\\rangle\n",
        "$$\n",
        "\n",
        "* **手順２:** $n$ 個の量子ビットレジスタにアダマールゲート$H^{⊗n}$を適用します。\n",
        "$$\n",
        "|\\psi_{1}⟩=\\frac{1}{2^{\\frac{n}{2}}}(|0\\rangle+|1\\rangle)^{\\otimes n}⊗|1\\rangle\n",
        "$$\n",
        "\n",
        "* **手順３:** $n$量子ビットレジスタ内の$j$番目の量子ビットが$|1⟩$のときのみ、$n+1$番目の量子ビットに$U$演算を$2^{n-j}$回おこないます。  \n",
        "つまり$j$番目の量子ビットを制御、$n+1$番目の量子ビットを標的とした制御ユ二タリー演算 $\\mathrm{CU}$ を$2^{n-j}$回適用します。  \n",
        "固有状態$|u_s⟩$に $U$演算を$2^{n-j}$回施すと、\n",
        "$$U^{2^{n-j}}|u_s⟩=U^{2^{n-j}-1}U|u_s⟩=U^{2^{n-j}-1}e^{2\\pi i\\frac{s}{r}}|u_s⟩=\\cdots =e^{2 \\pi i 2^{n-j} \\frac{s}{r}}|u_s\\rangle$$\n",
        "となります。$j$番目の量子ビットと$n+1$番目の量子ビットの状態$\\frac{1}{\\sqrt2}\\left(|0⟩+|1⟩ \\right)⊗\\frac{1}{\\sqrt{r}}\\sum_{s=0}^{r-1}|u_s⟩$は  \n",
        "$\\mathrm{CU}^{2^{n-j}}$ゲートの適用により以下の状態に変換されます。（位相キックバックの効果です。）  \n",
        "$$\\frac{1}{\\sqrt{2r}}\\sum_{s=0}^{r-1}\\left(|0⟩+e^{2 \\pi i 2^{n-j} \\frac{s}{r}}|1⟩ \\right)⊗|u_s⟩$$\n",
        "$j=1$～$n$まで同様の変換がおこなわれます。結果、全量子ビットの状態は\n",
        "$$\n",
        "\\begin{aligned}\n",
        "|\\psi_{2}⟩ &=\\frac{1}{\\sqrt{2^n r}}\\sum_{s=0}^{r-1}\\left(|0\\rangle+e^{2 \\pi i \\frac{s}{r} 2^{n-1}}|1\\rangle\\right) \\otimes \\cdots \\otimes\\left(|0\\rangle+e^{2 \\pi i \\frac{s}{r} 2^{1}}|1\\rangle\\right) \\otimes\\left(|0\\rangle+e^{2 \\pi i \\frac{s}{r} 2^{0}}|1\\rangle\\right) \\otimes|u_s\\rangle \\\\\n",
        "&=\\frac{1}{\\sqrt {2^n r}}\\sum_{s=0}^{r-1} \\sum_{y=0}^{2^{n}-1} e^{2 \\pi i \\frac{s}{r} y}|y\\rangle \\otimes|u_s \\rangle\n",
        "\\end{aligned}\n",
        "$$\n",
        "となります。\n",
        "\n",
        "* **手順４:** $n$量子ビットレジスタに逆量子フーリエ変換($\\mathrm{QFT}^{†}$)を施します。ビット列$|y⟩$に$\\mathrm{QFT}^{†}$を施すと\n",
        "$$\\mathrm{QFT}^{†}|y⟩=\\frac{1}{\\sqrt{2^n}}\\sum_{x=0}^{2^n-1}e^{-\\frac{2π}{2^n}iyx}|x⟩$$\n",
        "となることに注意してください。したがって、全量子ビットの状態は$\\mathrm{QFT}^{†}$により\n",
        "$$\n",
        "\\left|\\psi_{3}\\right\\rangle= \\frac{1}{\\sqrt {r}}\\sum_{s=0}^{r-1} \\sum_{x=0}^{2^n-1} \\left[\\frac{1}{2^n}\\sum_{y=0}^{2^n-1} e^{\\frac{2 \\pi i y}{2^n}\\left(2^n\\frac{s}{r}-x \\right)}\\right]|x\\rangle \\otimes|u_s\\rangle\n",
        "$$\n",
        "となります。\n",
        "\n",
        "* **手順５:** $n$量子ビットレジスタに観測をおこないます。  \n",
        "$N\\cdot \\frac{s}{r}$の $s=0,1,\\cdots,r-1$ のうちいずれかの$s$値に最も近い整数値$x$が高い確率で観測されます。  \n",
        "観測結果$x$を読み取り、$\\frac{s}{r}$値を  \n",
        "$$\\frac{s}{r}≈\\frac{x}{2^n}$$\n",
        "と推定します。\n",
        "\n"
      ],
      "metadata": {
        "id": "8zzFPQujPdrQ"
      }
    },
    {
      "cell_type": "markdown",
      "source": [
        "### **10.2.5 $N$の因数分解**\n",
        "上記のアルゴリズムを何回か実行して、いくつかの$\\frac{s}{r}$値を求め、\n",
        "ある周期$r$の値が推定できたとしましょう。$r$の値が正しければ、\n",
        "$$a^r\\ (\\bmod N)=1$$\n",
        "が成り立つはずです。つまり$a^r-1$は$N$で割り切れるはずです。\n",
        "\n",
        "もし$r$が偶数であれば、\n",
        "$$a^r-1=\\left(a^{r/2}-1\\right)\\left(a^{r/2}+1\\right)$$\n",
        "における$a^{r/2}\\pm 1$は整数値となります。  \n",
        "\n",
        "$N$が二つの素数$\\alpha, \\beta$の積であったとしましょう。\n",
        "$a^{r/2}\\pm 1$が$N$で割り切れないとすれば、$a^{r/2}\\pm 1$は $\\alpha$ もしくは $\\beta$の定数倍のはずです。  \n",
        "したがって$N$と$a^r\\pm 1$の最大公約数を求めれば因数 $\\alpha$ もしくは $\\beta$が求まります。\n",
        "\n",
        "**例**\n",
        "\n",
        "$N=35$、$a=3$とおきます。10.2.1節で述べたように $3^x\\ (\\bmod 35)$の周期$r$は$12$でありました。\n",
        "このとき\n",
        "$$a^{r/2}-1=3^6-1=728$$\n",
        "ですね。\n",
        "$728$と$35$の最大公約数は$7$であり、この値は確かに$35$の素因数となっています。\n",
        "\n"
      ],
      "metadata": {
        "id": "S5zzSQu5Qv1T"
      }
    },
    {
      "cell_type": "markdown",
      "source": [
        "## **10.3 ショアのアルゴリズムのシミュレーション**\n",
        "ショアのアルゴリズムを実装した量子回路を作成し、シミュレーションをおこないます。  \n",
        "このシミュレーションでは $a=7$、$ N=15$ とし、$7^x\\ (\\bmod N)$の周期発見問題が解かれます。  \n",
        "\n",
        "$n=8$の量子ビットレジスタと$m=4$の量子ビットレジスタ、8出力ビットの量子回路を作成します。\n",
        "```\n",
        "qc = QuantumCircuit(8 + 4, 8)\n",
        "qc.draw('mpl')\n",
        "```"
      ],
      "metadata": {
        "id": "fKvA0C-G5Xdt"
      }
    },
    {
      "cell_type": "code",
      "source": [],
      "metadata": {
        "id": "SFaJ3LRzAW8O"
      },
      "execution_count": null,
      "outputs": []
    },
    {
      "cell_type": "markdown",
      "source": [
        "$q_7,q_6,q_5,q_4,q_3,q_2,q_1,q_0$が第１の量子ビットレジスタ、\n",
        "$q_{11},q_{10},q_{9},q_8$が第2の量子ビットレジスタに対応します。  \n",
        "\n",
        "**手順1,2**  \n",
        "第２の量子ビットレジスタの状態を$|1⟩=|0001⟩$に変換します。つまり$q_{11}$に$X$ゲートを適用します。  \n",
        "さらに第1量子ビットレジスタにアダマールゲート$H$を適用します。\n",
        "```\n",
        "qc.x(11)\n",
        "for q in range(8):\n",
        "    qc.h(q)\n",
        "\n",
        "qc.barrier()\n",
        "qc.draw('mpl')\n",
        "```"
      ],
      "metadata": {
        "id": "T5me2HulAliy"
      }
    },
    {
      "cell_type": "code",
      "source": [],
      "metadata": {
        "id": "kwOCviKJB_0Z"
      },
      "execution_count": null,
      "outputs": []
    },
    {
      "cell_type": "markdown",
      "source": [
        "**手順3**\n",
        "\n",
        "次に10.2.4節の手順３にある制御$U^{x}$ゲート($CU^x$ゲート)を適用します。\n",
        "この例の場合、ユニタリー演算 $U$は第2の量子ビットレジスタの状態に以下のように作用します。\n",
        "$$\n",
        "U|y\\rangle=|7 y \\bmod 15\\rangle\n",
        "$$\n",
        "ここでは、$7 y \\bmod 15$の計算に特化した$U$を実装する量子回路を作成しましょう。  \n",
        "\n",
        "まず、$7 y \\bmod 15=(15-8)y \\bmod 15=15-8y \\bmod 15$であることに注意します。  \n",
        "$$8y=8(2^3y_1+2^2y_2+2y_3+y_4)=64y_1+32y_2 +16y_3+8y_4$$\n",
        "ですね。$64 \\bmod 15=4, 32 \\bmod 15=2, 16 \\bmod 15=1, 8 \\bmod 15=8$なので、  \n",
        "$8y \\bmod 15=2^2y_1+2y_2+y_3+2^3y_4$となります。  \n",
        "$15=2^3+2^2+2^1+1$より、結局\n",
        "$$7 y \\bmod 15=15-8y \\bmod 15=2^2(1-y_1)+2(1-y_2)+(1-y_3)+2^3(1-y_4)$$\n",
        "となります。\n",
        "\n",
        "つまり、$U$はビット列$|y\\rangle =|y_1\\rangle \\otimes |y_2\\rangle \\otimes |y_3\\rangle \\otimes |y_4\\rangle $\n",
        "の並びを\n",
        "$$|y_4\\rangle \\otimes |y_1\\rangle \\otimes |y_2\\rangle \\otimes |y_3\\rangle$$\n",
        "に変え、さらに各ビットを反転(Xゲートを適用)させる作用となります．\n",
        "\n",
        "よってこの$U$を実行する量子回路は量子ビット状態を交換するスワップゲートと\n",
        "$X$ゲートによって構成できます。  \n",
        "そして$U^x$の演算は$U$回路を$x$回繰り返すことで実行されます。\n",
        "\n",
        "以下のコードにより$CU^x$ゲートを定義します。\n",
        "\n",
        "```\n",
        "def c_7mod15(power):# power はU^x のxを意味します。\n",
        "    U = QuantumCircuit(4)        \n",
        "    for iteration in range(power):\n",
        "            U.swap(2,3)\n",
        "            U.swap(1,2)\n",
        "            U.swap(0,1)\n",
        "            for q in range(4):\n",
        "                U.x(q)\n",
        "    U = U.to_gate() # 回路をひとつのゲートに読み替えます。\n",
        "    U.name = \"7^%i mod 15\" % power\n",
        "    c_U7 = U.control() # 制御ゲートとして定義します。\n",
        "    return c_U7\n",
        "```"
      ],
      "metadata": {
        "id": "sfFpWQlb_0Rg"
      }
    },
    {
      "cell_type": "code",
      "source": [],
      "metadata": {
        "id": "UVSURjJrNgGH"
      },
      "execution_count": null,
      "outputs": []
    },
    {
      "cell_type": "markdown",
      "source": [
        "別の例、$4 y \\bmod 15$の計算に特化した$U$を実装する量子回路も作成しておきましょう。(最後の演習問題で使用します。)\n",
        "$$4y=4(2^3y_1+2^2y_2+2y_3+y_4)=32y_1+16y_2 +8y_3+4y_4$$\n",
        "ですね。\n",
        "$32 \\bmod 15=2, 16 \\bmod 15=1, 8 \\bmod 15=8, 4 \\bmod 15=4$なので、  \n",
        "$4y \\bmod 15=2y_1+y_2+2^3y_3+2^2y_4$となります。\n",
        "つまり\n",
        "$$U|y\\rangle =|4y \\bmod 15 \\rangle =|y_3\\rangle \\otimes |y_4\\rangle \\otimes |y_1\\rangle \\otimes |y_2\\rangle$$\n",
        "です。\n",
        "この場合の$CU^x$ゲートは以下のコードで定義されます。\n",
        "\n",
        "```\n",
        "def c_4mod15(power):# power はU^x のxを意味します。\n",
        "    U = QuantumCircuit(4)        \n",
        "    for iteration in range(power):\n",
        "            U.swap(0,2)\n",
        "            U.swap(1,3)\n",
        "    U = U.to_gate() # 回路をひとつのゲートに読み替えます。\n",
        "    U.name = \"4^%i mod 15\" % power\n",
        "    c_U4 = U.control() # 制御ゲートとして定義します。\n",
        "    return c_U4\n",
        "```\n"
      ],
      "metadata": {
        "id": "CzMF0i05Oltu"
      }
    },
    {
      "cell_type": "code",
      "source": [],
      "metadata": {
        "id": "6f864ehnQhPr"
      },
      "execution_count": null,
      "outputs": []
    },
    {
      "cell_type": "markdown",
      "source": [
        "10.2.4節の手順３の通りに$CU^x$ゲートを適用していきます。\n",
        "```\n",
        "for q in range(8):\n",
        "    qc.append(c_7mod15(2**q),\n",
        "             [q] + [i+8 for i in range(4)])\n",
        "\n",
        "qc.barrier()\n",
        "qc.draw('mpl')\n",
        "```"
      ],
      "metadata": {
        "id": "par68q3CUYxF"
      }
    },
    {
      "cell_type": "code",
      "source": [],
      "metadata": {
        "id": "v61XSMizc1eM"
      },
      "execution_count": null,
      "outputs": []
    },
    {
      "cell_type": "markdown",
      "source": [
        "**手順4**\n",
        "\n",
        "逆量子フーリエ変換を以下のコードにより適用します。\n",
        "```\n",
        "def qft_dagger(n):\n",
        "    Q = QuantumCircuit(n)\n",
        "    # Swapsを忘れない!\n",
        "    for qubit in range(n//2):\n",
        "        Q.swap(qubit, n-qubit-1)\n",
        "    for j in range(n):\n",
        "        for m in range(j):\n",
        "            Q.cp(-np.pi/float(2**(j-m)), m, j)\n",
        "        Q.h(j)\n",
        "    Q.name = \"QFT†\"\n",
        "    return Q\n",
        "```"
      ],
      "metadata": {
        "id": "J_m9zS3NUpDT"
      }
    },
    {
      "cell_type": "code",
      "source": [],
      "metadata": {
        "id": "Dg4RvlyB3H5v"
      },
      "execution_count": null,
      "outputs": []
    },
    {
      "cell_type": "markdown",
      "source": [
        "```\n",
        "qc.append(qft_dagger(8), range(8))\n",
        "qc.draw('mpl')\n",
        "```"
      ],
      "metadata": {
        "id": "Iw0ymziOb1YY"
      }
    },
    {
      "cell_type": "code",
      "source": [],
      "metadata": {
        "id": "0MqowucBVPtX"
      },
      "execution_count": null,
      "outputs": []
    },
    {
      "cell_type": "markdown",
      "source": [
        "**手順5**\n",
        "\n",
        "第1量子ビットレジスタに観測を適用します。\n",
        "```\n",
        "# 回路を測定\n",
        "qc.measure(range(8), range(8))\n",
        "qc.draw('mpl')\n",
        "```"
      ],
      "metadata": {
        "id": "nf4WYUZfVsT0"
      }
    },
    {
      "cell_type": "code",
      "source": [],
      "metadata": {
        "id": "lHZ0Rmc33MZ-"
      },
      "execution_count": null,
      "outputs": []
    },
    {
      "cell_type": "markdown",
      "source": [
        "**シミュレーション**\n",
        "以下のコードによりシミュレーションをおこなってみましょう。\n",
        "```\n",
        "backend = Aer.get_backend('qasm_simulator')\n",
        "results = execute(qc, backend, shots=2048).result()\n",
        "counts = results.get_counts()\n",
        "plot_histogram(counts)\n",
        "```"
      ],
      "metadata": {
        "id": "TdYF5KJnWM3h"
      }
    },
    {
      "cell_type": "code",
      "source": [],
      "metadata": {
        "id": "TfvYQFAm4ZFT"
      },
      "execution_count": null,
      "outputs": []
    },
    {
      "cell_type": "markdown",
      "source": [
        "これはアルゴリズムを2048回実行した結果です。  \n",
        "“00000000”,“01000000”,“10000000”,“11000000”  \n",
        "のビット列が観測されていますね。  \n",
        "2進法で計算すると、それぞれ “0”、“64”、“128”、“192”\n",
        "の値となります。  \n",
        "これらの値を$2^8=256$で割った値、つまり\n",
        "$$0, 0.25, 0.5, 0.75$$\n",
        "が$\\frac{s}{r}$の推定値となります。\n",
        "以下のコードにより、それぞれの値を既約分数化したものを出力します。  \n",
        "(分母が15未満にするように設定しています。)\n",
        "```\n",
        "print(Fraction(0).limit_denominator(15))\n",
        "print(Fraction(0.5).limit_denominator(15))\n",
        "print(Fraction(0.75).limit_denominator(15))\n",
        "print(Fraction(0.25).limit_denominator(15))\n",
        "```\n"
      ],
      "metadata": {
        "id": "BwnFOZ7vescR"
      }
    },
    {
      "cell_type": "code",
      "source": [],
      "metadata": {
        "id": "mVBd1OBt4iCK"
      },
      "execution_count": null,
      "outputs": []
    },
    {
      "cell_type": "markdown",
      "source": [
        "これにより$7^x\\ (\\bmod 15)$の周期が$r=4$であることが推定できます。\n",
        "\n",
        "よって$15$の因数は$7^{2}-1=48$と$15$の最大公約数$3$であることが判明します。"
      ],
      "metadata": {
        "id": "fCHcP0vPhRbI"
      }
    },
    {
      "cell_type": "markdown",
      "source": [
        "## **演習課題10**"
      ],
      "metadata": {
        "id": "Qxef5en1YfC1"
      }
    },
    {
      "cell_type": "markdown",
      "source": [
        "###問題\n",
        "$4^x\\ (\\bmod 15)$の周期$r$を発見する量子回路を作成し、周期を推定せよ。"
      ],
      "metadata": {
        "id": "vEpW-Y4kK5TK"
      }
    },
    {
      "cell_type": "markdown",
      "source": [
        "**解答**\n",
        "\n",
        "量子回路の作成\n",
        "\n"
      ],
      "metadata": {
        "id": "Po2FxqQnvEwJ"
      }
    },
    {
      "cell_type": "code",
      "source": [],
      "metadata": {
        "id": "R12duErfiyws"
      },
      "execution_count": null,
      "outputs": []
    },
    {
      "cell_type": "markdown",
      "source": [
        "シミュレーション"
      ],
      "metadata": {
        "id": "xXsnMtzG52zg"
      }
    },
    {
      "cell_type": "code",
      "source": [],
      "metadata": {
        "id": "YYgP5dmd55WM"
      },
      "execution_count": null,
      "outputs": []
    },
    {
      "cell_type": "markdown",
      "source": [
        "周期は$r=2$と推定されます。"
      ],
      "metadata": {
        "id": "j-oU8R0G6MOH"
      }
    }
  ]
}