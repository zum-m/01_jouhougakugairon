{
  "nbformat": 4,
  "nbformat_minor": 0,
  "metadata": {
    "colab": {
      "provenance": [],
      "include_colab_link": true
    },
    "kernelspec": {
      "name": "python3",
      "display_name": "Python 3"
    },
    "accelerator": "GPU"
  },
  "cells": [
    {
      "cell_type": "markdown",
      "metadata": {
        "id": "view-in-github",
        "colab_type": "text"
      },
      "source": [
        "<a href=\"https://colab.research.google.com/github/zum-m/jouhougakugairon/blob/main/VGG16_FineTuning_kadai.ipynb\" target=\"_parent\"><img src=\"https://colab.research.google.com/assets/colab-badge.svg\" alt=\"Open In Colab\"/></a>"
      ]
    },
    {
      "cell_type": "code",
      "metadata": {
        "id": "WUlbKhFzxjB8",
        "colab": {
          "base_uri": "https://localhost:8080/"
        },
        "outputId": "b0ef9e7d-bc40-4635-f0d4-4db0c5822a7e"
      },
      "source": [
        "from keras.models import Sequential\n",
        "from keras.layers import Dense,Activation,Dropout,Flatten\n",
        "from keras.optimizers import Adam\n",
        "from keras.callbacks import EarlyStopping\n",
        "from keras.applications import VGG16\n",
        "from keras.applications.vgg16 import preprocess_input\n",
        "\n",
        "from keras.datasets import cifar10\n",
        "import numpy as np\n",
        "\n",
        "(x_train, y_train),(x_test, y_test) = cifar10.load_data()\n",
        "#データの前処理\n",
        "x_train=preprocess_input(x_train)\n",
        "x_test=preprocess_input(x_test)\n",
        "\n",
        "#教師ラベルをone-hot化\n",
        "y_train_onehot = np.eye(10)[y_train]\n",
        "y_train_onehot = np.squeeze(y_train_onehot)\n",
        "y_test_onehot = np.eye(10)[y_test]\n",
        "y_test_onehot = np.squeeze(y_test_onehot)\n",
        "\n",
        "#学習済みのVGG16を特徴抽出器として使う\n",
        "conv_base = VGG16(weights='imagenet', include_top=False, input_shape=(32, 32, 3))\n",
        "\n",
        "model = Sequential()\n",
        "model.add(conv_base)\n",
        "model.add(Flatten())\n",
        "model.add(Dense(512))\n",
        "model.add(Activation('relu'))\n",
        "model.add(Dense(64))\n",
        "model.add(Activation('relu'))\n",
        "model.add(Dense(10,activation='softmax'))\n",
        "\n",
        "\n",
        "model.summary()\n",
        "\n",
        "#最後の方の層のみ再学習させる\n",
        "# VGG16の最初の部分は重みを固定（frozen）\n",
        "\n",
        "conv_base.trainable = True\n",
        "for layer in conv_base.layers[:10]:\n",
        "  layer.trainable = False\n",
        "\n",
        "\n",
        "model.summary()\n",
        "\n",
        "for i in model.layers:\n",
        "    print(i.name, i.trainable)\n",
        "\n",
        "early_stopping = EarlyStopping(monitor='loss',min_delta=0.01, patience=2)\n",
        "\n",
        "#learning_rate は低めに設定\n",
        "model.compile(loss='categorical_crossentropy', optimizer=Adam(learning_rate=1e-5), metrics=['accuracy'])\n",
        "history = model.fit(x_train, y_train_onehot, batch_size=200, epochs=100, callbacks=[early_stopping])\n",
        "\n",
        "#モデルの評価\n",
        "loss, acc = model.evaluate(x_test,y_test_onehot)\n",
        "print('Test loss:', loss, 'Test accuracy:', acc)\n"
      ],
      "execution_count": 3,
      "outputs": [
        {
          "output_type": "stream",
          "name": "stdout",
          "text": [
            "Model: \"sequential_1\"\n",
            "_________________________________________________________________\n",
            " Layer (type)                Output Shape              Param #   \n",
            "=================================================================\n",
            " vgg16 (Functional)          (None, 1, 1, 512)         14714688  \n",
            "                                                                 \n",
            " flatten_1 (Flatten)         (None, 512)               0         \n",
            "                                                                 \n",
            " dense_3 (Dense)             (None, 512)               262656    \n",
            "                                                                 \n",
            " activation_2 (Activation)   (None, 512)               0         \n",
            "                                                                 \n",
            " dense_4 (Dense)             (None, 64)                32832     \n",
            "                                                                 \n",
            " activation_3 (Activation)   (None, 64)                0         \n",
            "                                                                 \n",
            " dense_5 (Dense)             (None, 10)                650       \n",
            "                                                                 \n",
            "=================================================================\n",
            "Total params: 15010826 (57.26 MB)\n",
            "Trainable params: 15010826 (57.26 MB)\n",
            "Non-trainable params: 0 (0.00 Byte)\n",
            "_________________________________________________________________\n",
            "Model: \"sequential_1\"\n",
            "_________________________________________________________________\n",
            " Layer (type)                Output Shape              Param #   \n",
            "=================================================================\n",
            " vgg16 (Functional)          (None, 1, 1, 512)         14714688  \n",
            "                                                                 \n",
            " flatten_1 (Flatten)         (None, 512)               0         \n",
            "                                                                 \n",
            " dense_3 (Dense)             (None, 512)               262656    \n",
            "                                                                 \n",
            " activation_2 (Activation)   (None, 512)               0         \n",
            "                                                                 \n",
            " dense_4 (Dense)             (None, 64)                32832     \n",
            "                                                                 \n",
            " activation_3 (Activation)   (None, 64)                0         \n",
            "                                                                 \n",
            " dense_5 (Dense)             (None, 10)                650       \n",
            "                                                                 \n",
            "=================================================================\n",
            "Total params: 15010826 (57.26 MB)\n",
            "Trainable params: 13275338 (50.64 MB)\n",
            "Non-trainable params: 1735488 (6.62 MB)\n",
            "_________________________________________________________________\n",
            "vgg16 True\n",
            "flatten_1 True\n",
            "dense_3 True\n",
            "activation_2 True\n",
            "dense_4 True\n",
            "activation_3 True\n",
            "dense_5 True\n",
            "Epoch 1/100\n",
            "250/250 [==============================] - 16s 49ms/step - loss: 2.0892 - accuracy: 0.3610\n",
            "Epoch 2/100\n",
            "250/250 [==============================] - 12s 49ms/step - loss: 0.9934 - accuracy: 0.6639\n",
            "Epoch 3/100\n",
            "250/250 [==============================] - 12s 49ms/step - loss: 0.7757 - accuracy: 0.7375\n",
            "Epoch 4/100\n",
            "250/250 [==============================] - 12s 49ms/step - loss: 0.6618 - accuracy: 0.7753\n",
            "Epoch 5/100\n",
            "250/250 [==============================] - 12s 49ms/step - loss: 0.5776 - accuracy: 0.8024\n",
            "Epoch 6/100\n",
            "250/250 [==============================] - 12s 49ms/step - loss: 0.5078 - accuracy: 0.8263\n",
            "Epoch 7/100\n",
            "250/250 [==============================] - 12s 49ms/step - loss: 0.4503 - accuracy: 0.8458\n",
            "Epoch 8/100\n",
            "250/250 [==============================] - 12s 49ms/step - loss: 0.3951 - accuracy: 0.8657\n",
            "Epoch 9/100\n",
            "250/250 [==============================] - 12s 49ms/step - loss: 0.3445 - accuracy: 0.8838\n",
            "Epoch 10/100\n",
            "250/250 [==============================] - 12s 49ms/step - loss: 0.2987 - accuracy: 0.9005\n",
            "Epoch 11/100\n",
            "250/250 [==============================] - 12s 49ms/step - loss: 0.2569 - accuracy: 0.9163\n",
            "Epoch 12/100\n",
            "250/250 [==============================] - 12s 49ms/step - loss: 0.2173 - accuracy: 0.9305\n",
            "Epoch 13/100\n",
            "250/250 [==============================] - 12s 49ms/step - loss: 0.1803 - accuracy: 0.9439\n",
            "Epoch 14/100\n",
            "250/250 [==============================] - 12s 49ms/step - loss: 0.1481 - accuracy: 0.9558\n",
            "Epoch 15/100\n",
            "250/250 [==============================] - 12s 49ms/step - loss: 0.1196 - accuracy: 0.9661\n",
            "Epoch 16/100\n",
            "250/250 [==============================] - 12s 49ms/step - loss: 0.0936 - accuracy: 0.9758\n",
            "Epoch 17/100\n",
            "250/250 [==============================] - 12s 49ms/step - loss: 0.0741 - accuracy: 0.9820\n",
            "Epoch 18/100\n",
            "250/250 [==============================] - 12s 49ms/step - loss: 0.0542 - accuracy: 0.9892\n",
            "Epoch 19/100\n",
            "250/250 [==============================] - 12s 49ms/step - loss: 0.0393 - accuracy: 0.9933\n",
            "Epoch 20/100\n",
            "250/250 [==============================] - 12s 49ms/step - loss: 0.0281 - accuracy: 0.9965\n",
            "Epoch 21/100\n",
            "250/250 [==============================] - 12s 49ms/step - loss: 0.0207 - accuracy: 0.9978\n",
            "Epoch 22/100\n",
            "250/250 [==============================] - 12s 49ms/step - loss: 0.0143 - accuracy: 0.9989\n",
            "Epoch 23/100\n",
            "250/250 [==============================] - 12s 49ms/step - loss: 0.0097 - accuracy: 0.9996\n",
            "Epoch 24/100\n",
            "250/250 [==============================] - 12s 49ms/step - loss: 0.0063 - accuracy: 0.9998\n",
            "313/313 [==============================] - 4s 10ms/step - loss: 1.0824 - accuracy: 0.8143\n",
            "Test loss: 1.082439661026001 Test accuracy: 0.814300000667572\n"
          ]
        }
      ]
    },
    {
      "cell_type": "code",
      "source": [
        "for i in model.layers:\n",
        "    print(i.name, i.trainable)\n"
      ],
      "metadata": {
        "colab": {
          "base_uri": "https://localhost:8080/",
          "height": 197
        },
        "id": "v0iIl2Aasd8y",
        "outputId": "a6a12cf4-5057-4ae6-f0f7-5d4fdae54443"
      },
      "execution_count": 1,
      "outputs": [
        {
          "output_type": "error",
          "ename": "NameError",
          "evalue": "ignored",
          "traceback": [
            "\u001b[0;31m---------------------------------------------------------------------------\u001b[0m",
            "\u001b[0;31mNameError\u001b[0m                                 Traceback (most recent call last)",
            "\u001b[0;32m<ipython-input-1-439066dbe0b7>\u001b[0m in \u001b[0;36m<cell line: 1>\u001b[0;34m()\u001b[0m\n\u001b[0;32m----> 1\u001b[0;31m \u001b[0;32mfor\u001b[0m \u001b[0mi\u001b[0m \u001b[0;32min\u001b[0m \u001b[0mmodel\u001b[0m\u001b[0;34m.\u001b[0m\u001b[0mlayers\u001b[0m\u001b[0;34m:\u001b[0m\u001b[0;34m\u001b[0m\u001b[0;34m\u001b[0m\u001b[0m\n\u001b[0m\u001b[1;32m      2\u001b[0m     \u001b[0mprint\u001b[0m\u001b[0;34m(\u001b[0m\u001b[0mi\u001b[0m\u001b[0;34m.\u001b[0m\u001b[0mname\u001b[0m\u001b[0;34m,\u001b[0m \u001b[0mi\u001b[0m\u001b[0;34m.\u001b[0m\u001b[0mtrainable\u001b[0m\u001b[0;34m)\u001b[0m\u001b[0;34m\u001b[0m\u001b[0;34m\u001b[0m\u001b[0m\n",
            "\u001b[0;31mNameError\u001b[0m: name 'model' is not defined"
          ]
        }
      ]
    },
    {
      "cell_type": "markdown",
      "source": [
        "---\n"
      ],
      "metadata": {
        "id": "F7FOZHfIILaQ"
      }
    },
    {
      "cell_type": "markdown",
      "source": [
        "VGG16_frozenとVGG16_FineTuningのテスト結果（テストデータに対する正答率）を記載し，その違いをもたらした要因について考察せよ．\n",
        "\n",
        "⬇︎結果⬇︎\n",
        "\n",
        "| VGG16_frozen | VGG16_FineTuning |\n",
        "|---|---|\n",
        "| 0.6220999956130981 | 0.8120999932289124 |\n",
        "\n",
        "⬇︎考察⬇︎\n"
      ],
      "metadata": {
        "id": "t8_IPylfxUA5"
      }
    },
    {
      "cell_type": "markdown",
      "source": [
        "---\n"
      ],
      "metadata": {
        "id": "QK1ig4-CIJ1M"
      }
    },
    {
      "cell_type": "markdown",
      "source": [
        "ここに記述してください\n",
        "\n",
        "\n",
        "VGG16_frozenとVGG16_FineTuningでは、frozenはVVGの事前学習モデルのパラメータを用いているが、CNNのアーキテクチャの層の後半はより抽象的な概念の理解に貢献するパラメータとなるなめ、frozenよりもVGG16のアーキテクチャの後半の層をチューニングしたVGG16_FineTuningの方が今回のデータのcifar10の出力に適した形に転移学習された状態になるから。\n",
        "\n",
        "今回使用したVGG16の学習モデルはImageNetを使用しており、imagenetは1400万枚以上のカラー画像が収録されたもののため、今回の6万枚データのcifar10のみで1から学習させるよりは転移学習をさせた方が良い。時間的余裕があればimagenet以外のデータセットで学習したパラメータを持った事前学習モデルを用いて今回のタスク分類に適したモデルがないか試してみたい。"
      ],
      "metadata": {
        "id": "P2GPcHjzxoMa"
      }
    }
  ]
}