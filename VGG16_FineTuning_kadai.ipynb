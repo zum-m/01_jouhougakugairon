{
  "nbformat": 4,
  "nbformat_minor": 0,
  "metadata": {
    "colab": {
      "provenance": [],
      "include_colab_link": true
    },
    "kernelspec": {
      "name": "python3",
      "display_name": "Python 3"
    },
    "accelerator": "GPU"
  },
  "cells": [
    {
      "cell_type": "markdown",
      "metadata": {
        "id": "view-in-github",
        "colab_type": "text"
      },
      "source": [
        "<a href=\"https://colab.research.google.com/github/zum-m/jouhougakugairon/blob/main/VGG16_FineTuning_kadai.ipynb\" target=\"_parent\"><img src=\"https://colab.research.google.com/assets/colab-badge.svg\" alt=\"Open In Colab\"/></a>"
      ]
    },
    {
      "cell_type": "code",
      "metadata": {
        "id": "WUlbKhFzxjB8",
        "colab": {
          "base_uri": "https://localhost:8080/"
        },
        "outputId": "050256e0-a348-4c4a-f021-86fcf0b3f08e"
      },
      "source": [
        "from keras.models import Sequential\n",
        "from keras.layers import Dense,Activation,Dropout,Flatten\n",
        "from keras.optimizers import Adam\n",
        "from keras.callbacks import EarlyStopping\n",
        "from keras.applications import VGG16\n",
        "from keras.applications.vgg16 import preprocess_input\n",
        "\n",
        "from keras.datasets import cifar10\n",
        "import numpy as np\n",
        "\n",
        "(x_train, y_train),(x_test, y_test) = cifar10.load_data()\n",
        "#データの前処理\n",
        "x_train=preprocess_input(x_train)\n",
        "x_test=preprocess_input(x_test)\n",
        "\n",
        "#教師ラベルをone-hot化\n",
        "y_train_onehot = np.eye(10)[y_train]\n",
        "y_train_onehot = np.squeeze(y_train_onehot)\n",
        "y_test_onehot = np.eye(10)[y_test]\n",
        "y_test_onehot = np.squeeze(y_test_onehot)\n",
        "\n",
        "#学習済みのVGG16を特徴抽出器として使う\n",
        "conv_base = VGG16(weights='imagenet', include_top=False, input_shape=(32, 32, 3))\n",
        "\n",
        "model = Sequential()\n",
        "model.add(conv_base)\n",
        "model.add(Flatten())\n",
        "model.add(Dense(512))\n",
        "model.add(Activation('relu'))\n",
        "model.add(Dense(64))\n",
        "model.add(Activation('relu'))\n",
        "model.add(Dense(10,activation='softmax'))\n",
        "\n",
        "\n",
        "model.summary()\n",
        "\n",
        "#最後の方の層のみ再学習させる\n",
        "# VGG16の最初の部分は重みを固定（frozen）\n",
        "\n",
        "conv_base.trainable = True\n",
        "for layer in conv_base.layers[:10]:\n",
        "  layer.trainable = False\n",
        "\n",
        "\n",
        "model.summary()\n",
        "\n",
        "early_stopping = EarlyStopping(monitor='loss',min_delta=0.01, patience=2)\n",
        "\n",
        "#learning_rate は低めに設定\n",
        "model.compile(loss='categorical_crossentropy', optimizer=Adam(learning_rate=1e-5), metrics=['accuracy'])\n",
        "history = model.fit(x_train, y_train_onehot, batch_size=200, epochs=100, callbacks=[early_stopping])\n",
        "\n",
        "#モデルの評価\n",
        "loss, acc = model.evaluate(x_test,y_test_onehot)\n",
        "print('Test loss:', loss, 'Test accuracy:', acc)\n"
      ],
      "execution_count": 4,
      "outputs": [
        {
          "output_type": "stream",
          "name": "stdout",
          "text": [
            "Model: \"sequential_4\"\n",
            "_________________________________________________________________\n",
            " Layer (type)                Output Shape              Param #   \n",
            "=================================================================\n",
            " vgg16 (Functional)          (None, 1, 1, 512)         14714688  \n",
            "                                                                 \n",
            " flatten_3 (Flatten)         (None, 512)               0         \n",
            "                                                                 \n",
            " dense_9 (Dense)             (None, 512)               262656    \n",
            "                                                                 \n",
            " activation_6 (Activation)   (None, 512)               0         \n",
            "                                                                 \n",
            " dense_10 (Dense)            (None, 64)                32832     \n",
            "                                                                 \n",
            " activation_7 (Activation)   (None, 64)                0         \n",
            "                                                                 \n",
            " dense_11 (Dense)            (None, 10)                650       \n",
            "                                                                 \n",
            "=================================================================\n",
            "Total params: 15010826 (57.26 MB)\n",
            "Trainable params: 15010826 (57.26 MB)\n",
            "Non-trainable params: 0 (0.00 Byte)\n",
            "_________________________________________________________________\n",
            "Model: \"sequential_4\"\n",
            "_________________________________________________________________\n",
            " Layer (type)                Output Shape              Param #   \n",
            "=================================================================\n",
            " vgg16 (Functional)          (None, 1, 1, 512)         14714688  \n",
            "                                                                 \n",
            " flatten_3 (Flatten)         (None, 512)               0         \n",
            "                                                                 \n",
            " dense_9 (Dense)             (None, 512)               262656    \n",
            "                                                                 \n",
            " activation_6 (Activation)   (None, 512)               0         \n",
            "                                                                 \n",
            " dense_10 (Dense)            (None, 64)                32832     \n",
            "                                                                 \n",
            " activation_7 (Activation)   (None, 64)                0         \n",
            "                                                                 \n",
            " dense_11 (Dense)            (None, 10)                650       \n",
            "                                                                 \n",
            "=================================================================\n",
            "Total params: 15010826 (57.26 MB)\n",
            "Trainable params: 13275338 (50.64 MB)\n",
            "Non-trainable params: 1735488 (6.62 MB)\n",
            "_________________________________________________________________\n",
            "Epoch 1/100\n",
            "250/250 [==============================] - 16s 50ms/step - loss: 2.0964 - accuracy: 0.3597\n",
            "Epoch 2/100\n",
            "250/250 [==============================] - 13s 50ms/step - loss: 1.0085 - accuracy: 0.6503\n",
            "Epoch 3/100\n",
            "250/250 [==============================] - 12s 49ms/step - loss: 0.7947 - accuracy: 0.7283\n",
            "Epoch 4/100\n",
            "250/250 [==============================] - 12s 49ms/step - loss: 0.6844 - accuracy: 0.7665\n",
            "Epoch 5/100\n",
            "250/250 [==============================] - 12s 49ms/step - loss: 0.5993 - accuracy: 0.7944\n",
            "Epoch 6/100\n",
            "250/250 [==============================] - 12s 49ms/step - loss: 0.5292 - accuracy: 0.8191\n",
            "Epoch 7/100\n",
            "250/250 [==============================] - 12s 49ms/step - loss: 0.4691 - accuracy: 0.8396\n",
            "Epoch 8/100\n",
            "250/250 [==============================] - 12s 49ms/step - loss: 0.4130 - accuracy: 0.8584\n",
            "Epoch 9/100\n",
            "250/250 [==============================] - 12s 50ms/step - loss: 0.3628 - accuracy: 0.8765\n",
            "Epoch 10/100\n",
            "250/250 [==============================] - 12s 49ms/step - loss: 0.3170 - accuracy: 0.8945\n",
            "Epoch 11/100\n",
            "250/250 [==============================] - 12s 49ms/step - loss: 0.2762 - accuracy: 0.9092\n",
            "Epoch 12/100\n",
            "250/250 [==============================] - 12s 49ms/step - loss: 0.2337 - accuracy: 0.9248\n",
            "Epoch 13/100\n",
            "250/250 [==============================] - 12s 49ms/step - loss: 0.1961 - accuracy: 0.9376\n",
            "Epoch 14/100\n",
            "250/250 [==============================] - 12s 49ms/step - loss: 0.1629 - accuracy: 0.9506\n",
            "Epoch 15/100\n",
            "250/250 [==============================] - 12s 49ms/step - loss: 0.1316 - accuracy: 0.9626\n",
            "Epoch 16/100\n",
            "250/250 [==============================] - 12s 50ms/step - loss: 0.1065 - accuracy: 0.9706\n",
            "Epoch 17/100\n",
            "250/250 [==============================] - 12s 49ms/step - loss: 0.0836 - accuracy: 0.9781\n",
            "Epoch 18/100\n",
            "250/250 [==============================] - 12s 50ms/step - loss: 0.0631 - accuracy: 0.9860\n",
            "Epoch 19/100\n",
            "250/250 [==============================] - 12s 49ms/step - loss: 0.0466 - accuracy: 0.9908\n",
            "Epoch 20/100\n",
            "250/250 [==============================] - 12s 49ms/step - loss: 0.0329 - accuracy: 0.9952\n",
            "Epoch 21/100\n",
            "250/250 [==============================] - 12s 49ms/step - loss: 0.0243 - accuracy: 0.9972\n",
            "Epoch 22/100\n",
            "250/250 [==============================] - 12s 49ms/step - loss: 0.0208 - accuracy: 0.9973\n",
            "Epoch 23/100\n",
            "250/250 [==============================] - 12s 49ms/step - loss: 0.0111 - accuracy: 0.9994\n",
            "Epoch 24/100\n",
            "250/250 [==============================] - 12s 49ms/step - loss: 0.0072 - accuracy: 0.9998\n",
            "Epoch 25/100\n",
            "250/250 [==============================] - 13s 51ms/step - loss: 0.0049 - accuracy: 0.9999\n",
            "Epoch 26/100\n",
            "250/250 [==============================] - 12s 50ms/step - loss: 0.0036 - accuracy: 1.0000\n",
            "313/313 [==============================] - 3s 9ms/step - loss: 1.1657 - accuracy: 0.8121\n",
            "Test loss: 1.1656761169433594 Test accuracy: 0.8120999932289124\n"
          ]
        }
      ]
    },
    {
      "cell_type": "markdown",
      "source": [
        "---\n"
      ],
      "metadata": {
        "id": "F7FOZHfIILaQ"
      }
    },
    {
      "cell_type": "markdown",
      "source": [
        "VGG16_frozenとVGG16_FineTuningのテスト結果（テストデータに対する正答率）を記載し，その違いをもたらした要因について考察せよ．\n",
        "\n",
        "⬇︎結果⬇︎\n",
        "\n",
        "| VGG16_frozen | VGG16_FineTuning |\n",
        "|---|---|\n",
        "| 0.6220999956130981 | 0.8120999932289124 |\n",
        "\n",
        "⬇︎考察⬇︎\n"
      ],
      "metadata": {
        "id": "t8_IPylfxUA5"
      }
    },
    {
      "cell_type": "markdown",
      "source": [
        "---\n"
      ],
      "metadata": {
        "id": "QK1ig4-CIJ1M"
      }
    },
    {
      "cell_type": "markdown",
      "source": [
        "ここに記述してください\n",
        "\n",
        "\n",
        "VGG16_frozenとVGG16_FineTuningでは、frozenはVVGの事前学習モデルのパラメータを用いているが、CNNのアーキテクチャの層の後半はより抽象的な概念の理解に貢献するパラメータとなるなめ、frozenよりもVGG16のアーキテクチャの後半の層をチューニングしたVGG16_FineTuningの方が今回のデータのcifar10の出力に適した形に転移学習された状態になるから。"
      ],
      "metadata": {
        "id": "P2GPcHjzxoMa"
      }
    }
  ]
}