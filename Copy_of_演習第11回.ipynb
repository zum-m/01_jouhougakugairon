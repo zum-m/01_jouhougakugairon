{
  "nbformat": 4,
  "nbformat_minor": 0,
  "metadata": {
    "colab": {
      "provenance": [],
      "toc_visible": true,
      "include_colab_link": true
    },
    "kernelspec": {
      "name": "python3",
      "display_name": "Python 3"
    },
    "language_info": {
      "name": "python"
    }
  },
  "cells": [
    {
      "cell_type": "markdown",
      "metadata": {
        "id": "view-in-github",
        "colab_type": "text"
      },
      "source": [
        "<a href=\"https://colab.research.google.com/github/zum-m/01_jouhougakugairon/blob/quantium/Copy_of_%E6%BC%94%E7%BF%92%E7%AC%AC11%E5%9B%9E.ipynb\" target=\"_parent\"><img src=\"https://colab.research.google.com/assets/colab-badge.svg\" alt=\"Open In Colab\"/></a>"
      ]
    },
    {
      "cell_type": "markdown",
      "source": [
        "# **11.グローバーのアルゴリズム**\n",
        "\n",
        "グローバーのアルゴリズムは量子コンピュータを利用して、データベース検索を高速におこなうためのアルゴリズムです。\n",
        "\n"
      ],
      "metadata": {
        "id": "yd5XTnA9hof1"
      }
    },
    {
      "cell_type": "markdown",
      "source": [
        "##**11.1 演習のための準備**\n",
        "以下のコードを実行し、qiskitをインストールしましょう。"
      ],
      "metadata": {
        "id": "XiU9xic5OxKR"
      }
    },
    {
      "cell_type": "code",
      "source": [
        "!pip install qiskit==0.39.4"
      ],
      "metadata": {
        "id": "afzD-AvInOl6"
      },
      "execution_count": null,
      "outputs": []
    },
    {
      "cell_type": "markdown",
      "source": [
        "さらに以下のコードを実行して、Qiskitによる学習を支援するライブラリーqiskit-textbookと量子回路を描画するためのライブラリーpylatexencもインストールします。"
      ],
      "metadata": {
        "id": "o7JKF4_X_gy9"
      }
    },
    {
      "cell_type": "code",
      "source": [
        "!pip install git+https://github.com/qiskit-community/qiskit-textbook.git#subdirectory=qiskit-textbook-src"
      ],
      "metadata": {
        "id": "EZ09I5pZoYlN"
      },
      "execution_count": null,
      "outputs": []
    },
    {
      "cell_type": "code",
      "source": [
        "!pip install pylatexenc"
      ],
      "metadata": {
        "id": "-MUaL2oDReEv"
      },
      "execution_count": null,
      "outputs": []
    },
    {
      "cell_type": "markdown",
      "source": [
        "演習で使用するパッケージをqiskitライブラリーからimportします。  \n",
        "以下のコードを実行しましょう。  \n"
      ],
      "metadata": {
        "id": "WmYOrNR2BKwg"
      }
    },
    {
      "cell_type": "code",
      "source": [
        "# initialization\n",
        "import matplotlib.pyplot as plt\n",
        "import numpy as np\n",
        "import math\n",
        "\n",
        "from numpy import pi\n",
        "from numpy.random import randint\n",
        "from math import gcd\n",
        "from tabulate import tabulate\n",
        "from fractions import Fraction\n",
        "# importing Qiskit\n",
        "from qiskit import *\n",
        "from qiskit import Aer\n",
        "from qiskit import BasicAer\n",
        "from qiskit.providers.ibmq import least_busy\n",
        "from qiskit import QuantumCircuit,execute, ClassicalRegister, QuantumRegister, assemble, transpile\n",
        "from qiskit_textbook.widgets import dj_widget\n",
        "from qiskit_textbook.tools import array_to_latex\n",
        "from qiskit.tools.monitor import job_monitor\n",
        "\n",
        "# import basic plot tools\n",
        "from qiskit.visualization import plot_histogram, array_to_latex\n",
        "from qiskit.visualization import plot_bloch_multivector\n",
        "\n"
      ],
      "metadata": {
        "id": "0v96H5Ij1rZ2"
      },
      "execution_count": null,
      "outputs": []
    },
    {
      "cell_type": "markdown",
      "source": [
        "##**11.2 アルゴリズムの手順**\n",
        "\n",
        "\n",
        "$n$ビット列$\\{x_1 x_2 \\cdots x_n \\}$で表現される$N=2^n$個のデータ集合があるとします。データは未整序（順序がバラバラ）に置かれています。この中から特定のデータ$\\omega$を取り出す、つまり$\\omega$を検索することを考えます。\n",
        "\n",
        "無作為にデータを取り出し、それがデータ$\\omega$であるかをチェックしていくのが古典的検索方法です。この方法では平均で$N/2$回、最悪で$N$回のチェックが必要です。\n",
        "\n",
        "グローバーのアルゴリズムでは、量子コンピューターが実現する「振幅増幅」と呼ばれるテク二ックが利用されます。これによりおおよそ$\\sqrt{N}$回のステップでデータ$\\omega$を探し出すことができます。\n",
        "\n",
        "* **手順１**\n",
        "\n",
        "初期状態$|00\\cdots 0\\rangle = |0\\rangle ^{⊗n}$にアダマールゲートを適用して重ね合わせの状態をつくります。\n",
        "$$H^{⊗n}|0⟩^{⊗n}=\\frac{1}{\\sqrt{2^n}}\\sum_{x=0}^{2^n-1}|x⟩=|s⟩$$\n",
        "$x$は$2^{n-1}x_1+2^{n-2}x_2+\\cdots +x_n$を意味します。  \n",
        "検索したいデータ$\\omega$に対応したビット列$\\{\\omega_1 \\omega_2 \\cdots \\omega_n\\}$は$\\omega=2^{n-1}\\omega_1+2^{n-2}\\omega_2+\\cdots +\\omega_n$\n",
        "を満たします。  \n",
        "この状態に観測をおこなえば、$|\\omega \\rangle $が得られる確率は$1/2^n$です。\n",
        "\n",
        "\n",
        "* **手順２**\n",
        "\n",
        "重ね合わせの状態$|s⟩$に以下の式で定義される量子オラクルゲート$U_f$を適用します．\n",
        "$$\n",
        "U_f|x\\rangle=\\left\\{\\begin{aligned}\n",
        "|x\\rangle & \\text { if } x \\neq \\omega \\\\\n",
        "-|x\\rangle & \\text { if } x=\\omega\n",
        "\\end{aligned}\\right.\n",
        "$$\n",
        "$$U_f|s⟩=\\frac{1}{\\sqrt{2^n}}(\\sum_{x=0,x\\neq \\omega}^{2^n-1}U_f|x⟩+U_f|\\omega ⟩)\\\\\n",
        "=\\frac{1}{\\sqrt{2^n}}(\\sum_{x=0,x\\neq \\omega}^{2^n-1}|x⟩-|\\omega ⟩)\\\\\n",
        "=\\frac{1}{\\sqrt{2^n}}(\\sum_{x=0}^{2^n-1}|x⟩-2|\\omega ⟩)\\\\\n",
        "=|s⟩-\\frac{2}{\\sqrt{2^n}}|\\omega ⟩$$\n",
        "\n",
        "* **手順３**\n",
        "次に$U_s=2|s⟩⟨s|-I$と定義されるユニタリーゲートを適用します．\n",
        "このゲートはひとつのビット列状態$|x⟩$を\n",
        "$$U_s|x⟩=2|s⟩⟨s|x⟩-|x⟩=\\frac{2}{\\sqrt{2^n}}|s⟩-|x⟩$$\n",
        "に変換しますが、ビット列の重ね合わせ$|s⟩$に対しては不変となります。\n",
        "$$U_s|s⟩=2|s⟩⟨s|s⟩-|s⟩=2|s⟩-|s⟩=|s⟩$$\n",
        "したがって、\n",
        "$$U_sU_f|s⟩=U_s|s⟩-\\frac{2}{\\sqrt{2^n}}U_s|\\omega ⟩\\\\\n",
        "=|s⟩-\\frac{2}{\\sqrt{2^n}}(\\frac{2}{\\sqrt{2^n}}|s⟩-|\\omega⟩)\\\\\n",
        "=\\frac{2^n-4}{2^n}|s⟩+\\frac{2}{\\sqrt{2^n}}|\\omega⟩$$\n",
        "となります。上式はさらに\n",
        "$$\\frac{2^n-4}{2^n\\sqrt{2^n}}\\sum_{x=0,x\\neq \\omega}^{2^n-1}|x⟩+(\\frac{2^n-4}{2^n\\sqrt{2^n}}+\\frac{2}{\\sqrt{2^n}})|\\omega⟩\\\\\n",
        "=\\frac{2^n-4}{2^n\\sqrt{2^n}}\\sum_{x=0,x\\neq \\omega}^{2^n-1}|x⟩+(3-\\frac{4}{2^n})\\frac{1}{\\sqrt{2^n}}|\\omega⟩$$\n",
        "と書けることに注意しましょう。\n",
        "\n",
        "つまりこの時点で観測をおこなえば、\n",
        "$$(3-\\frac{4}{2^n})^2\\frac{1}{{2^n}}$$\n",
        "の確率で$|\\omega ⟩$を得ることができます。  \n",
        "手順１の時点での確率と比較するとおおよそ9倍に上昇しています。\n",
        "\n",
        "$U_f,U_s$ゲートを利用したこの操作を「振幅増幅」と呼びます。\n",
        "\n",
        "* **手順４**\n",
        "\n",
        "振幅増幅を複数回おこなうことで、$|\\omega ⟩$を得る確率を１に近づけていきます。\n"
      ],
      "metadata": {
        "id": "hIE6qKEZV8ST"
      }
    },
    {
      "cell_type": "markdown",
      "source": [
        "##**11.3 振幅増幅の最適回数**\n",
        "\n",
        "グローバーのアルゴリズムでは、  \n",
        "$|\\omega⟩$を観測する確率を最大にする\n",
        "振幅増幅の最適な回数が問題となります．  \n",
        "ここでは重ね合わせの状態\n",
        "$$|s⟩=\\frac{1}{\\sqrt{2^n}}\\sum_{x=0,x\\neq \\omega}^{2^n-1}|x⟩+\\frac{1}{\\sqrt{2^n}}|\\omega ⟩$$\n",
        "を$\\sin θ=\\frac{1}{\\sqrt{2^n}}$と置いて\n",
        "$$|s⟩=\\cos θ|\\omega^\\perp⟩+\\sin θ|\\omega ⟩$$\n",
        "と書き直すことでこの問題を議論します。  \n",
        "\n",
        "\n",
        "量子オラクルゲート$U_f$により、状態$|s⟩$は\n",
        "$$U_f|s⟩=\\cos θ|\\omega^\\perp⟩-\\sin θ|\\omega ⟩$$\n",
        "に変換され、さらにユニタリーゲート$U_s=2|s⟩⟨s|-I$により、\n",
        "$$U_sU_f|s⟩=\\cos θ\\left(2|s⟩⟨s|\\omega^\\perp⟩-|\\omega^\\perp ⟩\\right)-\\sin θ\\left(2|s⟩⟨s|\\omega⟩-|\\omega ⟩\\right)$$\n",
        "に変換されます。$⟨s|\\omega^\\perp⟩=\\cos θ\\ ,\\ ⟨s|\\omega⟩=\\sin θ $ より、  \n",
        "上式は\n",
        "$$U_sU_f|s⟩=\\left(2\\cos^2 θ-2\\sin^2 θ \\right)|s⟩-\\cos θ|\\omega^\\perp⟩+\\sin θ |\\omega⟩\\\\\n",
        "=\\left(4\\cos^3 θ-3\\cos θ\\right)|\\omega^\\perp⟩+\\left(-4\\sin^3 θ+3\\sin θ\\right)|\\omega⟩\\\\\n",
        "=\\cos 3θ|\\omega^\\perp⟩+\\sin 3\\theta|\\omega⟩$$\n",
        "とまとめられます。（最後の等式では３倍角の公式を用いました。）\n",
        "\n",
        "\n",
        "一般に振幅増幅の作用$U_sU_f$を$j$回施すと、状態は\n",
        "$$\\left(U_sU_f\\right)^j|s⟩=\\cos (2j+1)\\theta |\\omega^\\perp⟩+\\sin (2j+1)\\theta|\\omega⟩$$\n",
        "となります。  \n",
        "したがって、振幅増幅の最適な回数は$(2j+1)\\theta$が最も$\\pi/2$に近い整数$j$\n",
        "です。$\\sin θ=\\frac{1}{\\sqrt{2^n}}$であることに注意します。\n",
        "$$\\theta=\\arcsin(\\frac{1}{\\sqrt{2^n}})$$\n",
        "最適回数$j$は\n",
        "$$j≈\\frac{\\pi}{4}\\frac{1}{\\arcsin(\\frac{1}{\\sqrt{2^n}})}-\\frac{1}{2}≈\\frac{\\pi \\sqrt{N}}{4}$$\n",
        "を満たします。\n",
        "\n",
        "例えば、$n=2$の場合、$\\arcsin(1/2)=\\frac{\\pi}{6}$となるので、  \n",
        "最適回数は$j=1$です。\n",
        "\n"
      ],
      "metadata": {
        "id": "_VOJ6uxmXX8R"
      }
    },
    {
      "cell_type": "markdown",
      "source": [
        "##**11.4 量子回路の作成とシミュレーション**\n",
        "\n"
      ],
      "metadata": {
        "id": "iFERf48Osmzw"
      }
    },
    {
      "cell_type": "markdown",
      "source": [
        "## **11.4.1 $n=2$の場合**\n",
        "\n",
        "ここでは2量子ビットのグローバーのアルゴリズムを実装した量子回路を\n",
        "作成します。ビット列$\\{00,01,10,11\\}$から特定のビット列$11$を探索することを想定します。\n",
        "\n",
        "まず2量子ビットの量子回路を準備します。\n",
        "```\n",
        "n = 2\n",
        "grover_circuit = QuantumCircuit(n)\n",
        "```"
      ],
      "metadata": {
        "id": "9FdkPvNss78V"
      }
    },
    {
      "cell_type": "code",
      "source": [],
      "metadata": {
        "id": "vertMKsztesr"
      },
      "execution_count": null,
      "outputs": []
    },
    {
      "cell_type": "markdown",
      "source": [
        "* **重ね合わせ状態の作成**\n",
        "\n",
        "「手順１：ビット列の重ね合わせの状態を作成する」関数を定義しましょう。\n",
        "```\n",
        "def initialize_s(qc, qubits):\n",
        "    \"\"\"qcの 'qubits' にH-gate を適用\"\"\"\n",
        "    for q in qubits:\n",
        "        qc.h(q)\n",
        "    return qc\n",
        "```"
      ],
      "metadata": {
        "id": "NurSutLbt7Z9"
      }
    },
    {
      "cell_type": "code",
      "source": [],
      "metadata": {
        "id": "ONeKo_wMuOty"
      },
      "execution_count": null,
      "outputs": []
    },
    {
      "cell_type": "markdown",
      "source": [
        "この関数を「grover_circuit」に適用します。\n",
        "```\n",
        "grover_circuit = initialize_s(grover_circuit, [0,1])\n",
        "grover_circuit.draw('mpl')\n",
        "```"
      ],
      "metadata": {
        "id": "BWnDZ9WuuUQw"
      }
    },
    {
      "cell_type": "code",
      "source": [],
      "metadata": {
        "id": "DT9PrSXiupHr"
      },
      "execution_count": null,
      "outputs": []
    },
    {
      "cell_type": "markdown",
      "source": [
        "* **量子オラクル$U_f$ゲートの実装**\n",
        "\n",
        "次に$|\\omega ⟩=|11⟩$に対応した量子オラクルゲート$U_f$を実行する回路を作成します。これは制御Zゲートの適用に対応します。  \n",
        "量子ビット$q_0$が制御ビット、$q_1$が標的ビットとなります。\n",
        "つまり、$q_0$の状態が$1$のときに、$q_1$の状態に\n",
        "$$\n",
        "Z=\\left[\\begin{array}{cccccccc}\n",
        "1 & 0  \\\\\n",
        "0 & -1  \\\\\n",
        "\\end{array}\\right]\n",
        "$$\n",
        "が演算されます。  \n",
        "結果、状態$|11⟩$の振幅にだけマイナスがかかり、$U_f$の目的が果たされます。\n",
        "簡単ですね。\n",
        "```\n",
        "grover_circuit.cz(0,1) # オラクル\n",
        "grover_circuit.draw('mpl')\n",
        "```"
      ],
      "metadata": {
        "id": "Iyvga308vi_e"
      }
    },
    {
      "cell_type": "code",
      "source": [],
      "metadata": {
        "id": "HNr8Jg_5xrXL"
      },
      "execution_count": null,
      "outputs": []
    },
    {
      "cell_type": "markdown",
      "source": [
        "* **ユニタリーゲート$U_s$の実装**\n",
        "\n",
        "ユニタリーゲート$U_s=2|s⟩⟨s|-I$は以下のようにして実装できます。\n",
        "\n",
        "まず、制御を$q_0$,標的を$q_1$とする制御Zゲートを考えます。  \n",
        "これに相当する行列は\n",
        "$$CZ=|00⟩⟨00|+|01⟩⟨01|+|10⟩⟨10|-|11⟩⟨11|$$\n",
        "と書けます。\n",
        "\n",
        "次に制御Zゲートを$X^{⊗2}$でパックします。  \n",
        "$$X^{⊗2}CZX^{⊗2}=X^{⊗2}|00⟩⟨00|X^{⊗2}+X^{⊗2}|01⟩⟨01|X^{⊗2}+X^{⊗2}|10⟩⟨10|X^{⊗2}-X^{⊗2}|11⟩⟨11|X^{⊗2}\\\\\n",
        "=|11⟩⟨11|+|10⟩⟨10|+|01⟩⟨01|-|00⟩⟨00|$$\n",
        "この行列は\n",
        "$$X^{⊗2}CZX^{⊗2}=I-2|00⟩⟨00|$$\n",
        "と書けることに注意します。\n",
        "$I$は恒等演算(単位行列)なので\n",
        "$$I=|00⟩⟨00|+|01⟩⟨01|+|10⟩⟨10|+|11⟩⟨11|$$\n",
        "ですね。\n",
        "\n",
        "さらに$X^{⊗2}CZX^{⊗2}$をアダマールゲート$H$でパックします。  \n",
        "$$H^{\\otimes 2}X^{⊗2}CZX^{⊗2} H^{\\otimes 2}=I-2H^{\\otimes 2}|00⟩⟨00|H^{\\otimes 2}=I-2|s⟩⟨s|$$\n",
        "となり、$-U_s$と一致します。  \n",
        "全体にマイナスがかかりますが、計算の本質は変わりません。\n",
        "\n",
        "```\n",
        "grover_circuit.h([0,1])\n",
        "grover_circuit.x([0,1])\n",
        "grover_circuit.cz(0,1)\n",
        "grover_circuit.x([0,1])\n",
        "grover_circuit.h([0,1])\n",
        "grover_circuit.draw('mpl')\n",
        "```"
      ],
      "metadata": {
        "id": "IcRyXArDyQPb"
      }
    },
    {
      "cell_type": "code",
      "source": [],
      "metadata": {
        "id": "qbhp2r9b5qD_"
      },
      "execution_count": null,
      "outputs": []
    },
    {
      "cell_type": "markdown",
      "source": [
        "これで一回目の振幅増幅が実行できます。  \n",
        "ただし$n=2$の場合は1回で十分です。\n",
        "前節で説明したように、理論上、$|\\omega ⟩=|00⟩$を観測する確率は１になるはずです。  \n",
        "シミュレーションで確認してみましょう。\n",
        "```\n",
        "grover_circuit.measure_all()\n",
        "\n",
        "aer_sim = Aer.get_backend('aer_simulator')\n",
        "qobj = assemble(grover_circuit)\n",
        "result = aer_sim.run(qobj).result()\n",
        "counts = result.get_counts()\n",
        "plot_histogram(counts)\n",
        "```"
      ],
      "metadata": {
        "id": "UcFliaWc6vP4"
      }
    },
    {
      "cell_type": "code",
      "source": [],
      "metadata": {
        "id": "M0kCEOQQ7ij-"
      },
      "execution_count": null,
      "outputs": []
    },
    {
      "cell_type": "markdown",
      "source": [
        "## **11.4.2 $n=3$の場合**\n",
        "\n",
        "3量子ビットのグローバーのアルゴリズムを実装した量子回路を\n",
        "作成します。  \n",
        "ただし、応用としてビット列$\\{000,001,\\cdots, 111\\}$から2つの特定のビット列$101, 110$を探索することを想定します。\n",
        "\n",
        "3量子ビットの量子回路を準備しましょう。\n",
        "```\n",
        "n = 3\n",
        "grover_circuit2 = QuantumCircuit(n)\n",
        "\n",
        "```\n",
        "\n",
        "\n"
      ],
      "metadata": {
        "id": "QqhsNIHlAGiu"
      }
    },
    {
      "cell_type": "code",
      "source": [],
      "metadata": {
        "id": "BSDL6-daCLZs"
      },
      "execution_count": null,
      "outputs": []
    },
    {
      "cell_type": "markdown",
      "source": [
        "* **重ね合わせ状態の作成**\n",
        "```\n",
        "grover_circuit2.clear()\n",
        "grover_circuit2 = initialize_s(grover_circuit2, [0,1,2])\n",
        "grover_circuit2.draw('mpl')\n",
        "```"
      ],
      "metadata": {
        "id": "EwSF0vNDCVQn"
      }
    },
    {
      "cell_type": "code",
      "source": [],
      "metadata": {
        "id": "QI75nzvaCc02"
      },
      "execution_count": null,
      "outputs": []
    },
    {
      "cell_type": "markdown",
      "source": [
        "* **量子オラクル$U_f$ゲートの実装**\n",
        "\n",
        "$|101⟩$と$|110\\rangle$の振幅にマイナスをかける量子オラクルゲート$U_f$を\n",
        "適用します。  \n",
        "ふたつの制御Zゲートを使用します。  \n",
        "ひとつについては$q_2$が制御ビット、$q_1$が標的ビットとなり、\n",
        "もうひとつについては$q_2$が制御ビット、$q_0$が標的ビットとなります。\n",
        "\n",
        "```\n",
        "grover_circuit2.cz(2,1)\n",
        "grover_circuit2.cz(2,0)\n",
        "grover_circuit2.draw('mpl')\n",
        "```"
      ],
      "metadata": {
        "id": "a4HkUzDcEECs"
      }
    },
    {
      "cell_type": "code",
      "source": [],
      "metadata": {
        "id": "2-WFKcdvFkTc"
      },
      "execution_count": null,
      "outputs": []
    },
    {
      "cell_type": "markdown",
      "source": [
        "* **ユニタリーゲート$U_s$の実装**\n",
        "\n",
        "前節と同様の議論から、一般的に\n",
        "$$H^{\\otimes n}X^{⊗n}C^{n-1}ZX^{⊗n} H^{\\otimes n}$$\n",
        "は$-U_s$と一致します。  \n",
        "$C^{n-1}Z$はマルチ制御Zゲートを意味し、制御ビットがn-1個あります。\n",
        "ここではn量子ビット用の$U_s$を作成する関数を一般的に定義しましょう。\n",
        "\n",
        "```\n",
        "def diffuser(nqubits):\n",
        "    qc = QuantumCircuit(nqubits)\n",
        "    # 全量子ビットにHゲートを適用\n",
        "    for qubit in range(nqubits):\n",
        "        qc.h(qubit)\n",
        "    # 全量子ビットにXゲートを適用\n",
        "    for qubit in range(nqubits):\n",
        "        qc.x(qubit)\n",
        "    # マルチ制御Zゲートを適用\n",
        "    qc.h(nqubits-1)\n",
        "    qc.mct(list(range(nqubits-1)), nqubits-1)  # マルチ制御トフォリ\n",
        "    qc.h(nqubits-1)\n",
        "    # 全量子ビットにXゲートを適用\n",
        "    for qubit in range(nqubits):\n",
        "        qc.x(qubit)\n",
        "    # 全量子ビットにHゲートを適用\n",
        "    for qubit in range(nqubits):\n",
        "        qc.h(qubit)\n",
        "    # Diffuserをゲートにします\n",
        "    U_s = qc.to_gate()\n",
        "    U_s.name = \"U$_s$\"\n",
        "    return U_s\n",
        "```"
      ],
      "metadata": {
        "id": "461AzTl_F7Nu"
      }
    },
    {
      "cell_type": "code",
      "source": [],
      "metadata": {
        "id": "VPfzn60kJtXV"
      },
      "execution_count": null,
      "outputs": []
    },
    {
      "cell_type": "markdown",
      "source": [
        "上に定義した$U_s$を回路に適用しましょう。\n",
        "```\n",
        "grover_circuit2.append(diffuser(3), [0,1,2])\n",
        "grover_circuit2.measure_all()\n",
        "grover_circuit2.draw('mpl')\n",
        "```"
      ],
      "metadata": {
        "id": "ij7SvewcLR6q"
      }
    },
    {
      "cell_type": "code",
      "source": [],
      "metadata": {
        "id": "_SdoU8YDJ0yq"
      },
      "execution_count": null,
      "outputs": []
    },
    {
      "cell_type": "markdown",
      "source": [
        "これで完成です。\n",
        "シミュレーションをおこなってみましょう。\n",
        "```\n",
        "aer_sim = Aer.get_backend('aer_simulator')\n",
        "transpiled_grover_circuit2 = transpile(grover_circuit2, aer_sim)\n",
        "qobj = assemble(transpiled_grover_circuit2)\n",
        "results = aer_sim.run(qobj).result()\n",
        "counts = results.get_counts()\n",
        "plot_histogram(counts)\n",
        "```"
      ],
      "metadata": {
        "id": "res2YXC2LfoD"
      }
    },
    {
      "cell_type": "code",
      "source": [],
      "metadata": {
        "id": "h3Nf6ONBLrj1"
      },
      "execution_count": null,
      "outputs": []
    },
    {
      "cell_type": "markdown",
      "source": [
        "## **演習課題11**"
      ],
      "metadata": {
        "id": "Qxef5en1YfC1"
      }
    },
    {
      "cell_type": "markdown",
      "source": [
        "###問題\n",
        "\n",
        "以下のコードを実行してください。"
      ],
      "metadata": {
        "id": "vEpW-Y4kK5TK"
      }
    },
    {
      "cell_type": "code",
      "source": [
        "from qiskit_textbook.problems import grover_problem_oracle\n",
        "n = 4\n",
        "oracle = grover_problem_oracle(n, variant=2)  # n量子ビットのオラクルの0番目の変数\n",
        "qc = QuantumCircuit(n)\n",
        "qc.append(oracle, [0,1,2,3])\n",
        "\n",
        "\n",
        "\n",
        "qc.draw('mpl')"
      ],
      "metadata": {
        "id": "cv3O0dwbOyRJ"
      },
      "execution_count": null,
      "outputs": []
    },
    {
      "cell_type": "markdown",
      "source": [
        "qiskit_textbookにはグローバーのアルゴリズム用のオラクルゲート$U_f$が用意されています。  \n",
        "このOracle(n=4,var=2)は4量子ビット用で、$0000$から$1111$までの16あるデータのうち、あるひとつのデータを探索するためのものです。（そのデータは秘密にされています。）\n",
        "\n",
        "Oracle(n=4,var=2)ゲートを適用したグローバーのアルゴリズムの量子回路を作成し、  \n",
        "シミュレーションをおこなってください。\n",
        "ただし、探索対象のデータが観測される確率が９０％以上になるまで、\n",
        "振幅増幅を複数回おこなってください。\n",
        "\n",
        "どのようなデータが探索されているでしょうか？\n",
        "適切な振幅増幅の回数はなんでしょうか？"
      ],
      "metadata": {
        "id": "Znjb6q_5QsmM"
      }
    },
    {
      "cell_type": "markdown",
      "source": [
        "**解答**\n",
        "\n",
        "量子回路の作成\n",
        "\n"
      ],
      "metadata": {
        "id": "Po2FxqQnvEwJ"
      }
    },
    {
      "cell_type": "code",
      "source": [
        "\n"
      ],
      "metadata": {
        "id": "R12duErfiyws"
      },
      "execution_count": null,
      "outputs": []
    },
    {
      "cell_type": "markdown",
      "source": [
        "シミュレーション"
      ],
      "metadata": {
        "id": "xXsnMtzG52zg"
      }
    },
    {
      "cell_type": "code",
      "source": [],
      "metadata": {
        "id": "YYgP5dmd55WM"
      },
      "execution_count": null,
      "outputs": []
    }
  ]
}