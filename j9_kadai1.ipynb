{
  "nbformat": 4,
  "nbformat_minor": 0,
  "metadata": {
    "colab": {
      "provenance": [],
      "authorship_tag": "ABX9TyOHdKaomFOmLt2e5VSQo1rd",
      "include_colab_link": true
    },
    "kernelspec": {
      "name": "python3",
      "display_name": "Python 3"
    },
    "language_info": {
      "name": "python"
    }
  },
  "cells": [
    {
      "cell_type": "markdown",
      "metadata": {
        "id": "view-in-github",
        "colab_type": "text"
      },
      "source": [
        "<a href=\"https://colab.research.google.com/github/zum-m/01_jouhougakugairon/blob/prg2/j9_kadai1.ipynb\" target=\"_parent\"><img src=\"https://colab.research.google.com/assets/colab-badge.svg\" alt=\"Open In Colab\"/></a>"
      ]
    },
    {
      "cell_type": "code",
      "execution_count": null,
      "metadata": {
        "colab": {
          "base_uri": "https://localhost:8080/"
        },
        "id": "QNXQWH6iP7X_",
        "outputId": "69fed7e3-be0f-4b4c-8bf4-e8c8f42234e5"
      },
      "outputs": [
        {
          "output_type": "stream",
          "name": "stdout",
          "text": [
            "<class 'numpy.ndarray'>\n",
            "平均点は、61.0\n",
            "標準偏差は、23.853720883753127\n",
            "最高点は、90\n",
            "最高点の要素番号は、4\n",
            "昇順に並び替えは、[20 30 40 50 60 70 80 80 90 90]\n"
          ]
        }
      ],
      "source": [
        "import numpy as np\n",
        "\n",
        "scores = [60,80,20,40,90,30,70,90,80,50]\n",
        "\n",
        "np_scores = np.array(scores)\n",
        "print(type(np_scores))\n",
        "\n",
        "\n",
        "print(f'平均点は、{np.mean(np_scores)}')\n",
        "print(f'標準偏差は、{np.std(np_scores)}')\n",
        "print(f'最高点は、{np.max(np_scores)}')\n",
        "print(f'最高点の要素番号は、{np.argmax(np_scores)}')\n",
        "print(f'昇順に並び替えは、{np.sort(np_scores)}')\n",
        "\n"
      ]
    }
  ]
}