{
  "nbformat": 4,
  "nbformat_minor": 0,
  "metadata": {
    "colab": {
      "provenance": [],
      "authorship_tag": "ABX9TyNZLfxALAiwcjHQw6v6U/hh",
      "include_colab_link": true
    },
    "kernelspec": {
      "name": "python3",
      "display_name": "Python 3"
    },
    "language_info": {
      "name": "python"
    }
  },
  "cells": [
    {
      "cell_type": "markdown",
      "metadata": {
        "id": "view-in-github",
        "colab_type": "text"
      },
      "source": [
        "<a href=\"https://colab.research.google.com/github/zum-m/01_jouhougakugairon/blob/web_contents/%E7%AC%AC9%E5%9B%9EWeb%E3%82%B3%E3%83%B3%E3%83%86%E3%83%B3%E3%83%84%E5%88%B6%E4%BD%9C%E6%BC%94%E7%BF%92_%E8%AA%B2%E9%A1%8C1.ipynb\" target=\"_parent\"><img src=\"https://colab.research.google.com/assets/colab-badge.svg\" alt=\"Open In Colab\"/></a>"
      ]
    },
    {
      "cell_type": "markdown",
      "metadata": {
        "id": "Nt66ibYC2P7t"
      },
      "source": [
        "##演習課題3-1\n",
        "@media指定を使って、画面の横幅（1000pxを基準）により1段組（段組みなし）と2段組みを選択するようなHTML, CSSのページ例です。Colab内では実験できないと思っていましたが、機能しているようです。\n",
        "\n",
        "横幅が1200px以上ならば3段組み、800px以上ならば2段組み、それ以下は1段となるようにするにはどう記述するか試してみなさい。\n",
        "\n",
        "※ この機能は画面の幅により段組設定を変更する場合に役立ちます。Javascriptを利用して実現する手段はあります。\n",
        "\n",
        " ファイル名は第9回Webコンテンツ制作演習_課題1.ipynb とすること\n"
      ]
    },
    {
      "cell_type": "code",
      "execution_count": null,
      "metadata": {
        "colab": {
          "base_uri": "https://localhost:8080/",
          "height": 110
        },
        "id": "cVU8aj2Bnjkl",
        "outputId": "4910436f-5fb7-41c2-e787-e55fef357f02"
      },
      "outputs": [
        {
          "output_type": "display_data",
          "data": {
            "text/plain": [
              "<IPython.core.display.HTML object>"
            ],
            "text/html": [
              "<style>\n",
              "@charset \"UTF-8\";\n",
              "@media(min-width: 1200px) {  /* 1200px以上（最小1200px）の横幅について以下を適用 */\n",
              "  body {                    /* body部全体に適用 */\n",
              "    column-count: 3;        /* 3段組みに設定 */\n",
              "  }\n",
              "}\n",
              "@media(min-width: 800px) and (max-width: 1199px) {  /* 800px以上、1199px以下の横幅について以下を適用 */\n",
              "  body {                    /* body部全体に適用 */\n",
              "    column-count: 2;        /* 2段組みに設定 */\n",
              "  }\n",
              "}\n",
              "@media(max-width: 799px) {  /* 799px以下（最大799px）の横幅について以下を適用 */\n",
              "  body {                    /* body部全体に適用 */\n",
              "    column-count: 1;        /* 1段組み（段組みなし）に設定 */\n",
              "  }\n",
              "}\n",
              "</style>\n",
              "\n",
              "<p>大型で強い台風２５号は４日、沖縄地方に接近した。気象庁によると、今後は東シナ海を北上して６日、九州北部に最接近し、日本海を通って７日にも東北や北海道に近づく見通し。</p>\n",
              "<p>台風２５号は５日午前０時現在、沖縄・久米島の西南西約５０キロを時速約２５キロで北北西へ進んでいる。中心気圧は９６５ヘクトパスカル、最大風速は３５メートル、最大瞬間風速は５０メートル。九州北部では５日以降、大雨による土砂災害や暴風などに警戒が必要だという。</p>\n",
              "<p>台風２４号は、九州の南から四国沖の海面温度が高い水域を通ったため、勢力が衰えないまま列島を縦断。記録的な暴風をもたらした。今回の２５号は、２４号の進路に比べて海面温度が低い東シナ海から日本海を通る見通しで、勢力は弱まりそうだという。ただ、北日本に接近する７日時点では、暴風域を伴っている予想となっている。<p>\n"
            ]
          },
          "metadata": {}
        }
      ],
      "source": [
        "%%html\n",
        "<style>\n",
        "@charset \"UTF-8\";\n",
        "@media(min-width: 1200px) {  /* 1200px以上（最小1200px）の横幅について以下を適用 */\n",
        "  body {                    /* body部全体に適用 */\n",
        "    column-count: 3;        /* 3段組みに設定 */\n",
        "  }\n",
        "}\n",
        "@media(min-width: 800px) and (max-width: 1199px) {  /* 800px以上、1199px以下の横幅について以下を適用 */\n",
        "  body {                    /* body部全体に適用 */\n",
        "    column-count: 2;        /* 2段組みに設定 */\n",
        "  }\n",
        "}\n",
        "@media(max-width: 799px) {  /* 799px以下（最大799px）の横幅について以下を適用 */\n",
        "  body {                    /* body部全体に適用 */\n",
        "    column-count: 1;        /* 1段組み（段組みなし）に設定 */\n",
        "  }\n",
        "}\n",
        "</style>\n",
        "\n",
        "<p>大型で強い台風２５号は４日、沖縄地方に接近した。気象庁によると、今後は東シナ海を北上して６日、九州北部に最接近し、日本海を通って７日にも東北や北海道に近づく見通し。</p>\n",
        "<p>台風２５号は５日午前０時現在、沖縄・久米島の西南西約５０キロを時速約２５キロで北北西へ進んでいる。中心気圧は９６５ヘクトパスカル、最大風速は３５メートル、最大瞬間風速は５０メートル。九州北部では５日以降、大雨による土砂災害や暴風などに警戒が必要だという。</p>\n",
        "<p>台風２４号は、九州の南から四国沖の海面温度が高い水域を通ったため、勢力が衰えないまま列島を縦断。記録的な暴風をもたらした。今回の２５号は、２４号の進路に比べて海面温度が低い東シナ海から日本海を通る見通しで、勢力は弱まりそうだという。ただ、北日本に接近する７日時点では、暴風域を伴っている予想となっている。<p>\n"
      ]
    }
  ]
}