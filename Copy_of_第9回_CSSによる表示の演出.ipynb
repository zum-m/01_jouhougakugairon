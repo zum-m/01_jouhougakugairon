{
  "nbformat": 4,
  "nbformat_minor": 0,
  "metadata": {
    "colab": {
      "provenance": [],
      "include_colab_link": true
    },
    "kernelspec": {
      "name": "python3",
      "display_name": "Python 3"
    },
    "language_info": {
      "name": "python"
    }
  },
  "cells": [
    {
      "cell_type": "markdown",
      "metadata": {
        "id": "view-in-github",
        "colab_type": "text"
      },
      "source": [
        "<a href=\"https://colab.research.google.com/github/zum-m/01_jouhougakugairon/blob/web_contents/Copy_of_%E7%AC%AC9%E5%9B%9E_CSS%E3%81%AB%E3%82%88%E3%82%8B%E8%A1%A8%E7%A4%BA%E3%81%AE%E6%BC%94%E5%87%BA.ipynb\" target=\"_parent\"><img src=\"https://colab.research.google.com/assets/colab-badge.svg\" alt=\"Open In Colab\"/></a>"
      ]
    },
    {
      "cell_type": "markdown",
      "metadata": {
        "id": "xibtlW_zod5Q"
      },
      "source": [
        "#本日の概要\n",
        "Webが利用される場面はPCのブラウザだけでなく、スマートフォン、タブレット、スマートTVなどさまざまです。CSSの目的の１つは異なる性質をもつデバイスであっても共通の記述が利用できるようにする目的があります（レスポンシブデザインと呼ばれている）。実用例を紹介することはできませんが、CSSに用意されている機能の紹介をしておきます。\n",
        "\n",
        "また後半ではCSS3で加わった表現機能についても、一部の例ですが紹介をします。"
      ]
    },
    {
      "cell_type": "markdown",
      "metadata": {
        "id": "ZpJ0j3YEzCKf"
      },
      "source": [
        "#3-1 @-規則\n",
        "##3-1-1 CSSファイルの＠で始まる記述\n",
        "CSSの特徴として、使用状況や表示デバイスに対応して、CSS指定を切り換えることができる点です。完全に実装されていない部分もあるので、代表的な例をみていきたいと思います。CSSファイルの例を見ていると＠から始まるステートメントが目に付きます。＠-規則を用いて、適用する条件を指定することができるようになっています。\n",
        "@-規則はCSSの振る舞いを規定する命令です。すでに出てきてる例では「@charset」です。これはCSS記述の文字コードの宣言です\n",
        "```\n",
        "@charset \"UTF-8\";\n",
        "```\n",
        "@で始まり、その後に機能を表す識別名、その後に指示内容（{ } によるブロックなど）が書かれ、最後は\";\"で終わります。\n",
        "```\n",
        "/* 一般的な構造 */\n",
        "@IDENTIFIER (RULE);\n",
        "```"
      ]
    },
    {
      "cell_type": "markdown",
      "metadata": {
        "id": "nviZdhHdzdVa"
      },
      "source": [
        "3-1-2 ##代表的な規則\n",
        "###(1) ＠charset：文字セットの指定\n",
        "前に書いたとおり。\n",
        "###(2) @import：外部スタイルシートの読み込み\n",
        "```\n",
        "@import url;\n",
        "@import url list-of-media-queries;\n",
        "```\n",
        "###(3) @media：メディアタイプによる条件指定\n",
        "```\n",
        "@media ( condition ) [and ( condition )]... [, ...]\n",
        "@media media_type [and ( condition )]... [, ...]\n",
        "```\n",
        "@mediaでメディアタイプに応じたCSS記述を指定することができます。printを指定すれば、プリント出力のときのそのCSS記述が用いられます。メディアタイプの指定はHTMLでのlink要素でも指定ができます。\n",
        "\n",
        "####link要素でのメディアタイプの指定の例\n",
        "```\n",
        "<link rel=\"stylesheet\" media=\"handheld\" href=\"mobile.css\">\n",
        "<link rel=\"stylesheet\" media=\"print\" href=\"print.css\">\n",
        "```\n",
        "####指定できるメディアタイプ\n",
        "* all … すべてのデバイス\n",
        "* print … 印刷物\n",
        "* screen … コンピューターのスクリーン ≫レスポンシブWebデザイン\n",
        "* speech … スピーチ シンセサイザー (音声合成のシステム)\n",
        "\n",
        "####メディアタイプの例\n",
        "```\n",
        "@media screen {\n",
        "  em { color: red; }\n",
        "}\n",
        "@media print {\n",
        "  em { font-weight: bold; }\n",
        "}\n",
        "```\n",
        "####メディアクエリの例\n",
        "```\n",
        "/* 幅が 767px 以下であれば */\n",
        "@media (max-width:767px) { ... }\n",
        "\n",
        "/* 幅が 768px 以上であれば */\n",
        "@media (min-width:768px) { ... }\n",
        "\n",
        "/* 幅が 768px以上 1200px以下であれば */\n",
        "@media (min-width:768px) and (max-width:1200px) { ... }\n",
        "\n",
        "/* カラーディスプレイまたはモノクロ印刷であれば */\n",
        "@media screen and (color), print and (monochrome) { ... }\n",
        "@support：特定の機能のサポートによる条件指定\n",
        "@supports [not] ( condition ) { ... }\n",
        "@supportの例（flexboxがサポートされている場合に適用）\n",
        "@supports ( display: flexbox ) {\n",
        "  body, #navigation, #content { display: flexbox; }\n",
        "  #navigation { background: blue; color: white; }\n",
        "  #article { background: white; color: black; }\n",
        "}\n",
        "@supports not ( display: flexbox ) {\n",
        "  body { width: 100%; height: 100%; background: white; color: black; }\n",
        "  #navigation { width: 25%; }\n",
        "  #article { width: 75%; }\n",
        "}\n",
        "```\n",
        "###(4) @page：印刷指定\n",
        "```\n",
        "@page {...}\n",
        "@page :selector {...}\n",
        "```\n",
        "印刷時のページに関わるスタイルを指定します。ページスタイルでは、margin, margin-top, margin-bottom, margin-left, margin-right, size, marks を指定できます。\n",
        "\n",
        "####印刷指定の例\n",
        "```\n",
        "@page { margin-top: 2cm; margin-bottom: 2cm; }\n",
        "\n",
        "@page :first { margin-right: 4cm; }\n",
        "@page :right { margin-right: 4cm; }\n",
        "@page :left { margin-left: 4cm; }\n",
        "@page :blank { margin-left: 4cm; }\n",
        "```\n",
        "###(5) @viewport：モバイルデバイスのような画面のビューポート指定\n",
        "@viewportはスマートフォンのような小型デバイスの画面表示指定のためにあります。しかし、ほとんどのスマートフォンのブラウザではサポートされていないようです。現在はHTMLの「meta」タグで指定をすることができます。\n",
        "\n",
        "最近のスマートフォンの画面は高解像度であり、本来の解像度でレンダリングを行うと表示が小さくてほとんど読むことができない大きさで表示されてしまいます。そこで、仮想的な解像度のビューポートを設定して異なる解像度であってもほぼ同じように閲覧できるよう viewport指定をします。width=device-widthと指定することで、スマートフォンの場合は標準的な解像度に設定されます。しかし、iPhoneとAndroidでは異なるようです。正確に横の解像度を指定したい場合は、width=380pxといった指定をします。\n",
        "\n",
        "####metaタグでの指定例\n",
        "```\n",
        "<meta name=\"viewport\" content=\"width=360,initial-scale=1\">\n",
        "<meta name=\"viewport\" content=\"width=device-width,\n",
        "initial-scale=1\">\n",
        "```\n",
        "####viewportの属性\n",
        "```\n",
        "min-width\n",
        "```\n",
        "文書が最初に表示されたときの、ビューポートの幅を決めるのに使われます。\n",
        "```\n",
        "max-width\n",
        "```\n",
        "文書が最初に表示されたときの、ビューポートの幅を決めるのに使われます。\n",
        "```\n",
        "width\n",
        "```\n",
        "min-width と max-width の両方を設定するための一括指定です。\n",
        "```\n",
        "min-height\n",
        "```\n",
        "文書が最初に表示されたときの、ビューポートの高さを決めるのに使われます。\n",
        "```\n",
        "max-height\n",
        "```\n",
        "文書が最初に表示されたときの、ビューポートの高さを決めるのに使われます。\n",
        "```\n",
        "height\n",
        "```\n",
        "min-height と max-height の両方を設定するための一括指定です。\n",
        "```\n",
        "zoom\n",
        "```\n",
        "ズームの初期値を設定します。\n",
        "```\n",
        "min-zoom\n",
        "```\n",
        "ズームの最小値を設定します。\n",
        "```\n",
        "max-zoom\n",
        "```\n",
        "ズームの最大値を設定します。\n",
        "```\n",
        "user-zoom\n",
        "```\n",
        "ユーザーがズーム倍率を変更できるか否かを制御します。\n",
        "```\n",
        "orientation\n",
        "```\n",
        "文書の向きを制御します。\n",
        "```\n",
        "viewport-fit\n",
        "```\n",
        "長方形ではないディスプレイでの文書の表示を制御します。\n",
        "\n",
        "###(6) @keyframes：キーフレームの指定\n",
        "アニメーション開始から終了するまでどのようなアニメーションをするのか指定できるCSSの文法です。\n",
        "\n",
        "※3-3で説明します。"
      ]
    },
    {
      "cell_type": "markdown",
      "metadata": {
        "id": "Nt66ibYC2P7t"
      },
      "source": [
        "##演習課題3-1\n",
        "@media指定を使って、画面の横幅（1000pxを基準）により1段組（段組みなし）と2段組みを選択するようなHTML, CSSのページ例です。Colab内では実験できないと思っていましたが、機能しているようです。\n",
        "\n",
        "横幅が1200px以上ならば3段組み、800px以上ならば2段組み、それ以下は1段となるようにするにはどう記述するか試してみなさい。\n",
        "\n",
        "※ この機能は画面の幅により段組設定を変更する場合に役立ちます。Javascriptを利用して実現する手段はあります。\n",
        "\n",
        " ファイル名は第9回Webコンテンツ制作演習_課題1.ipynb とすること\n"
      ]
    },
    {
      "cell_type": "code",
      "metadata": {
        "colab": {
          "base_uri": "https://localhost:8080/",
          "height": 116
        },
        "id": "6Jze9XMd2qPC",
        "outputId": "b0731e53-4b96-44fc-f3eb-9df68acf14a9"
      },
      "source": [
        "%%HTML\n",
        "<style>\n",
        "@charset \"UTF-8\";\n",
        "@media(min-width: 1000px) {  /* 1000px以上（最小1000px）の横幅について以下を適用 */\n",
        "  body {                    /* body部全体に適用 */\n",
        "    column-count: 2;        /* 2段組みに設定（ただし、CSS3の機能なので、旧いブラウザでは未対応の場合がる */\n",
        "  }\n",
        "}\n",
        "</style>\n",
        "\n",
        "<p>大型で強い台風２５号は４日、沖縄地方に接近した。気象庁によると、今後は東シナ海を北上して６日、九州北部に最接近し、日本海を通って７日にも東北や北海道に近づく見通し。</p>\n",
        "<p>台風２５号は５日午前０時現在、沖縄・久米島の西南西約５０キロを時速約２５キロで北北西へ進んでいる。中心気圧は９６５ヘクトパスカル、最大風速は３５メートル、最大瞬間風速は５０メートル。九州北部では５日以降、大雨による土砂災害や暴風などに警戒が必要だという。</p>\n",
        "<p>台風２４号は、九州の南から四国沖の海面温度が高い水域を通ったため、勢力が衰えないまま列島を縦断。記録的な暴風をもたらした。今回の２５号は、２４号の進路に比べて海面温度が低い東シナ海から日本海を通る見通しで、勢力は弱まりそうだという。ただ、北日本に接近する７日時点では、暴風域を伴っている予想となっている。<p>"
      ],
      "execution_count": null,
      "outputs": [
        {
          "output_type": "display_data",
          "data": {
            "text/plain": [
              "<IPython.core.display.HTML object>"
            ],
            "text/html": [
              "<style>\n",
              "@charset \"UTF-8\";\n",
              "@media(min-width: 1000px) {  /* 1000px以上（最小1000px）の横幅について以下を適用 */\n",
              "  body {                    /* body部全体に適用 */\n",
              "    column-count: 2;        /* 2段組みに設定（ただし、CSS3の機能なので、旧いブラウザでは未対応の場合がる */\n",
              "  }\n",
              "}\n",
              "</style>\n",
              "\n",
              "<p>大型で強い台風２５号は４日、沖縄地方に接近した。気象庁によると、今後は東シナ海を北上して６日、九州北部に最接近し、日本海を通って７日にも東北や北海道に近づく見通し。</p>\n",
              "<p>台風２５号は５日午前０時現在、沖縄・久米島の西南西約５０キロを時速約２５キロで北北西へ進んでいる。中心気圧は９６５ヘクトパスカル、最大風速は３５メートル、最大瞬間風速は５０メートル。九州北部では５日以降、大雨による土砂災害や暴風などに警戒が必要だという。</p>\n",
              "<p>台風２４号は、九州の南から四国沖の海面温度が高い水域を通ったため、勢力が衰えないまま列島を縦断。記録的な暴風をもたらした。今回の２５号は、２４号の進路に比べて海面温度が低い東シナ海から日本海を通る見通しで、勢力は弱まりそうだという。ただ、北日本に接近する７日時点では、暴風域を伴っている予想となっている。<p>\n"
            ]
          },
          "metadata": {}
        }
      ]
    },
    {
      "cell_type": "markdown",
      "metadata": {
        "id": "5OhzDMiAy8co"
      },
      "source": [
        "\n",
        "\n",
        "---\n",
        "\n"
      ]
    },
    {
      "cell_type": "markdown",
      "metadata": {
        "id": "8yaeAMW-mSHS"
      },
      "source": [
        "#3-2 CSSによる演出\n",
        "いままで全体に影響するようなものを対象にしてきましたが、すこし見た目を演出するような手法について紹介をします。気楽に取り組んでみてください。\n",
        "\n",
        "いままでやったセレクタの小技も入れてみました。CSSは記述していますが、対象のHTMLについては記述していないので、HTMLを記述して動作を確認してみてください。\n",
        "\n"
      ]
    },
    {
      "cell_type": "markdown",
      "metadata": {
        "id": "YOxCUv3umcae"
      },
      "source": [
        "##3-2-1 1文字目を大きくする。\n",
        "::first-letterは最初の文字を示すセレクタです。以前はコロン\":\"は１つでしたが、２つになりました。例は適当な数値を設定しておりますが、きれいにみえるようにするには微調整が必要です。実際に表示をさせてみてください。\n",
        "\n",
        "###CSS記述\n",
        "```\n",
        "p::first-letter {\n",
        "  float: left;\n",
        "  padding: 0.1em 0.1em 0 0;\n",
        "  line-height: 0.9em;\n",
        "  font-size: 4em;\n",
        "  font-weight: bold;\n",
        "}\n",
        "```\n",
        "###対象部分のHTML記述\n",
        "```\n",
        "<p>機械学習（きかいがくしゅう、英: machine learning）とは、人工知能における研究課題の一つで、人間が自然に行っている学習能力と同様の機能をコンピュータで実現しようとする技術・手法のことである。</p>\n",
        "```"
      ]
    },
    {
      "cell_type": "code",
      "metadata": {
        "colab": {
          "base_uri": "https://localhost:8080/",
          "height": 85
        },
        "id": "6mVEUkSildjk",
        "outputId": "d8600c09-c09f-4e48-add3-5f4b544f172a"
      },
      "source": [
        "%%HTML\n",
        "<style>\n",
        "body {\n",
        "    width: 70%;\n",
        "}\n",
        "p::first-letter {\n",
        "  float: left;\n",
        "  padding: 0.1em 0.1em 0 0;\n",
        "  line-height: 0.9em;\n",
        "  font-size: 4em;\n",
        "  font-weight: bold;\n",
        "}\n",
        "</style>\n",
        "<p>機械学習（きかいがくしゅう、英: machine learning）とは、人工知能における研究課題の一つで、人間が自然に行っている学習能力と同様の機能をコンピュータで実現しようとする技術・手法のことである。</p>"
      ],
      "execution_count": null,
      "outputs": [
        {
          "output_type": "display_data",
          "data": {
            "text/plain": [
              "<IPython.core.display.HTML object>"
            ],
            "text/html": [
              "<style>\n",
              "body {\n",
              "    width: 70%;\n",
              "}\n",
              "p::first-letter {\n",
              "  float: left;\n",
              "  padding: 0.1em 0.1em 0 0;\n",
              "  line-height: 0.9em;\n",
              "  font-size: 4em;\n",
              "  font-weight: bold;\n",
              "}\n",
              "</style>\n",
              "<p>機械学習（きかいがくしゅう、英: machine learning）とは、人工知能における研究課題の一つで、人間が自然に行っている学習能力と同様の機能をコンピュータで実現しようとする技術・手法のことである。</p>\n"
            ]
          },
          "metadata": {}
        }
      ]
    },
    {
      "cell_type": "markdown",
      "metadata": {
        "id": "nj18A9Gon0ZH"
      },
      "source": [
        "##3-2-2 CSSで単位をに入れる。\n",
        "::afterセレクタで要素の後ろを指定できる。contentプロパティを使って特定の文字を挿入することができる。\n",
        "###CSS記述\n",
        "```\n",
        "span.celsius::after {\n",
        "  content: \"\\2103\";   /* \\2103は「℃」の文字 */\n",
        "  font-weight: bold;\n",
        "  color: darkred;\n",
        "}\n",
        "span.celsius {\n",
        "  font-weight: bold;\n",
        "  color: darkred;\n",
        "}\n",
        "```\n",
        "###HTML記述\n",
        "```\n",
        "<p>なんと今日の最高気温は<span class=\"celcius\">38</span>でした。</p>\n",
        "```"
      ]
    },
    {
      "cell_type": "code",
      "metadata": {
        "colab": {
          "base_uri": "https://localhost:8080/",
          "height": 46
        },
        "id": "PkV3VlX-oR9w",
        "outputId": "8f07b68b-e30c-4b07-9926-26dbb2c6ecb7"
      },
      "source": [
        "%%HTML\n",
        "<style>\n",
        "span.celcius {\n",
        "  font-weight: bold;\n",
        "  color: darkred;\n",
        "}\n",
        "span.celcius::after {\n",
        "  content: \"\\2103\";\n",
        "  font-weight: bold;\n",
        "  color: darkred;\n",
        "}\n",
        "</style>\n",
        "<p>なんと今日の最高気温は<span class=\"celcius\">38</span>でした。</p>"
      ],
      "execution_count": null,
      "outputs": [
        {
          "output_type": "display_data",
          "data": {
            "text/html": [
              "<style>\n",
              "span.celcius {\n",
              "  font-weight: bold;\n",
              "  color: darkred;\n",
              "}\n",
              "span.celcius::after {\n",
              "  content: \"\\2103\";\n",
              "  font-weight: bold;\n",
              "  color: darkred;\n",
              "}\n",
              "</style>\n",
              "<p>なんと今日の最高気温は<span class=\"celcius\">38</span>でした。</p>"
            ],
            "text/plain": [
              "<IPython.core.display.HTML object>"
            ]
          },
          "metadata": {}
        }
      ]
    },
    {
      "cell_type": "markdown",
      "metadata": {
        "id": "7yLVw13FokMc"
      },
      "source": [
        "##3-2-3 色をグラデーション、半透明で指定する\n",
        "グラデーションは色を指定するところで簡単に指定できます。ほか半透明の指定、ボーダーのラウンドなどの指定をしてみました。\n",
        "グラデーションは放射状にかける方法もあります（radial-gradient）\n",
        "###CSS記述\n",
        "```\n",
        "html {\n",
        "  min-height: 100%;  /* グラデーションを全体にかけるため */\n",
        "}\n",
        "body {\n",
        "  background: linear-gradient(45deg, Aqua, SpringGreen);  /* グラデーションの指定 */\n",
        "}\n",
        ".content {\n",
        "  margin: 5mm auto 0 auto;  /* 上 右 下 左 の順, 左右はautoで均等に */\n",
        "  padding: 5mm;\n",
        "  border-radius: 10px;\n",
        "  background: rgba(255, 255, 255, 0.6);  /* 白の半透明度 0.6 */\n",
        "}\n",
        "```\n",
        "###対象部分のHTML記述\n",
        "```\n",
        "<div class=\"content\">\n",
        "    <h2>グラデーションで背景を指定</h2>\n",
        "    <p>色はグラデーションを用いたり、半透明色を指定したりすることができます。背景をグラデーションにして、その上のボックスは半透明に指定しています。</p>\n",
        "</div>\n",
        "```"
      ]
    },
    {
      "cell_type": "code",
      "metadata": {
        "colab": {
          "base_uri": "https://localhost:8080/",
          "height": 217
        },
        "id": "2fn5A-bUozva",
        "outputId": "0dfc3fef-0d0b-4f2b-8b6d-067558c56fb8"
      },
      "source": [
        "%%HTML\n",
        "<style>\n",
        "html {\n",
        "  min-height: 100%;\n",
        "}\n",
        "body {\n",
        "  background: linear-gradient(45deg, Aqua, SpringGreen);\n",
        "  height: 200px;\n",
        "}\n",
        ".content {\n",
        "  margin: 5mm 10mm auto 10mm;\n",
        "  padding: 5mm;\n",
        "  border-radius: 10px;\n",
        "  background: rgba(255, 255, 255, 0.6);\n",
        "}\n",
        "</style>\n",
        "<div class=\"content\">\n",
        "<h2>グラデーションで背景を指定</h2>\n",
        "<p>色はグラデーションを用いたり、半透明色を指定したりすることができます。背景をグラデーションにして、その上のボックスは半透明に指定しています。</p>\n",
        "</div>"
      ],
      "execution_count": null,
      "outputs": [
        {
          "output_type": "display_data",
          "data": {
            "text/html": [
              "<style>\n",
              "html {\n",
              "  min-height: 100%;\n",
              "}\n",
              "body {\n",
              "  background: linear-gradient(45deg, Aqua, SpringGreen);\n",
              "  height: 200px;\n",
              "}\n",
              ".content {\n",
              "  margin: 5mm 10mm auto 10mm;\n",
              "  padding: 5mm;\n",
              "  border-radius: 10px;\n",
              "  background: rgba(255, 255, 255, 0.6);\n",
              "}\n",
              "</style>\n",
              "<div class=\"content\">\n",
              "<h2>グラデーションで背景を指定</h2>\n",
              "<p>色はグラデーションを用いたり、半透明色を指定したりすることができます。背景をグラデーションにして、その上のボックスは半透明に指定しています。</p>\n",
              "</div>"
            ],
            "text/plain": [
              "<IPython.core.display.HTML object>"
            ]
          },
          "metadata": {}
        }
      ]
    },
    {
      "cell_type": "markdown",
      "metadata": {
        "id": "982rJWNypl6J"
      },
      "source": [
        "##3-2-4 奇数と偶数で分ける\n",
        "nth-child(n)はnで順番を指定できますが、odd, even あるいは 2n, 2n+1といった指定もできます。それを利用してチェッカー模様をtableで作成してみます。\n",
        "まずtableはシンプルに中身は何もない8×8マスを作ります。\n",
        "```\n",
        "<table class=\"checker\">\n",
        "...\n",
        "</table>\n",
        "```\n",
        "CSSはnth-childを使用して以下のようになります。\n",
        "```\n",
        "table.checker {\n",
        "  border-collapse: collapse;\n",
        "}\n",
        ".checker td {\n",
        "  padding: 0;\n",
        "  border: solid 1px black;\n",
        "  width: 1cm;\n",
        "  height: 1cm;\n",
        "}\n",
        ".checker tr:nth-child(odd)>td:nth-child(odd) {\n",
        "  background: black;\n",
        "}\n",
        ".checker tr:nth-child(even)>td:nth-child(even) {\n",
        "  background: black;\n",
        "}\n",
        "```"
      ]
    },
    {
      "cell_type": "markdown",
      "metadata": {
        "id": "mIFiCSSJyO2Z"
      },
      "source": [
        "![checker_2021-11-19 002811.png](data:image/png;base64,iVBORw0KGgoAAAANSUhEUgAAAT0AAAE8CAYAAACyx2Y4AAAAAXNSR0IArs4c6QAAAARnQU1BAACxjwv8YQUAAAAJcEhZcwAADsMAAA7DAcdvqGQAAAUdSURBVHhe7djBiuNIEEBB5fz/N0vjBrHU0CebPZT1Ii6doEuShgfVc70cABF/7r8ACaIHpPzzvJ2ZewJ4jvW/eF8VvXXxnex8Nzf7jLu9b+ebrbt53gIpogekiB6QInpAiugBKaIHpIgekCJ6QIroASmiB6SIHpAiekCK6AEpogekiB6QInpAiugBKaIHpIgekCJ6QIroASmiB6SIHpAiekCK6AEpogekiB6QInpAiugBKaIHpIgekCJ6QIroASmiB6SIHpAiekCK6AH/i+u67mlv81r0v01n5p4AnmMN8q/orR93snuQd7ybm33G3d73TTfzvAVSRA9IET0gRfSAFNEDUkQPSBE9IEX0gBTRA1JED0gRPSBF9IAU0QNSRA9IET0gRfSAFNEDUkQPSBE9IEX0gBTRA1JED0gRPSBF9IAU0QNSRA9IET0gRfSAFNEDUkQPSBE9IEX0gBTRA1JED0gRPSBF9IAU0QNS5nq552Nm7gngOZbMfVf01sV3svPd3Owz7va+8zy33O9np/X39LwFUkQPSBE9IEX0gBTRA1JED0gRPSBF9IAU0QNSRA9IET0gRfSAFNEDUkQPSBE9IEX0gBTRA1JED0gRPSBF9IAU0QNSRA9IET0gRfSAFNEDUkQPSBE9IEX0gBTRA1JED0gRPSBF9IAU0QNSRA9IET0gRfSAlLle7vmYmXsCeI4lc7+jt37cye5B3vFubvYZd3vfN93M8xZIET0gRfSAFNEDUkQPSBE9IEX0gBTRA1JED0gRPSBF9IAU0QNSRA9IET0gRfSAFNEDUkQPSBE9IEX0gBTRA1JED0gRPSBF9IAU0QNSRA9IET0gRfSAFNEDUkQPSBE9IEX0gBTRA1JED0gRPSBF9IAU0QNSRA9Imevlno+ZuSeA51gy913RWxffyc53c7PPuNv7zvPccr+fndbf0/MWSBE9IEX0gBTRA1JED0gRPSBF9IAU0QNSRA9IET0gRfSAFNEDUkQPSBE9IEX0gBTRA1JED0gRPSBF9IAU0QNSRA9IET0gRfSAFNEDUkQPSBE9IEX0gBTRA1JED0gRPSBF9IAU0QNSRA9IET0gRfSAFNEDUkQPSJnr5Z6PmbkngOdYMvc7euvHnewe5B3v5mafcbf3fdPNPG+BFNEDUkQPSBE9IEX0gBTRA1JED0gRPSBF9IAU0QNSRA9IET0gRfSAFNEDUkQPSBE9IEX0gBTRA1JED0gRPSBF9IAU0QNSRA9IET0gRfSAFNEDUkQPSBE9IEX0gBTRA1JED0gRPSBF9IAU0QNSRA9IET0gRfSAlLle7vmYmXsCeI4lc98VvXXxnex8Nzf7jLu97zzPLff72Wn9PT1vgRTRA1JED0gRPSBF9IAU0QNSRA9IET0gRfSAFNEDUkQPSBE9IEX0gBTRA1JED0gRPSBF9IAU0QNSRA9IET0gRfSAFNEDUkQPSBE9IEX0gBTRA1JED0gRPSBF9IAU0QNSRA9IET0gRfSAFNEDUkQPSBE9IGWul3s+ZuaeAJ5jydzv6K0fd7J7kHe8m5t9xt3e900387wFUkQPSBE9IEX0gBTRA1JED0gRPSBF9IAU0QNSRA9IET0gRfSAFNEDUkQPSBE9IEX0gBTRA1JED0gRPSBF9IAU0QNSRA9IET0gRfSAFNEDUkQPSBE9IEX0gBTRA1JED0gRPSBF9IAU0QNSRA9IET0gRfSAFNEDUuZ6uedjZu4J4DmWzP0bPYCn87wFQo7jL8Y+5BeMU4QPAAAAAElFTkSuQmCC)"
      ]
    },
    {
      "cell_type": "markdown",
      "metadata": {
        "id": "Cc726GnlqhhE"
      },
      "source": [
        "##演習課題 3-2\n",
        "\n",
        "上の例になるようHTMLとCSSを記述してみてください（上のCSSの例はもっとよい記述に変更してくれて結構です）。また、白黒を反転させたパターンのCSSも記述してください。\n",
        "\n",
        " ファイル名は第8回Webコンテンツ制作演習_課題2.ipynb とすること"
      ]
    },
    {
      "cell_type": "markdown",
      "metadata": {
        "id": "2ZR8i3E_rIul"
      },
      "source": [
        "\n",
        "\n",
        "---\n",
        "\n"
      ]
    },
    {
      "cell_type": "markdown",
      "metadata": {
        "id": "5gZ3AyV2rNHC"
      },
      "source": [
        "#3-3 アニメーション機能：CSS TransitionとCSS Animation\n",
        "CSS3になって、CSS Transition、CSS Animationといった機能が加わりました。CSS Transitionはプロパティに変更があった時に、一定時間でプロパティを変化させる機能です。操作時の単純な動きのアニメーションを実装する時に利用できます。 CSS Animationはキーフレームアニメーションを実現する既往です。キーフレームアニメーションとはアニメーションの開始(0%)から終了(100%)までの任意の経過地点にプロパティを指定できるアニメーションのことです。 細かい動きのアニメーションを実装する時に利用できます。\n",
        "\n",
        "今回は、簡単な例の紹介のみとします。時間があるときに、いろいろ実験をしてみてください。\n",
        "\n",
        "このようなアニメーションはCSSを利用する以外に、JavascriptプログラムやSVGを利用する方法があります。"
      ]
    },
    {
      "cell_type": "markdown",
      "metadata": {
        "id": "1EkpX6_2rZsX"
      },
      "source": [
        "##3-3-1 CSS Transtion\n",
        "以下の例はマウスがホバーするとボックスの大きさが大きくなり、色が赤から青へと変化します。途中の動きはありません。一瞬です。\n",
        "###HTML\n",
        "```\n",
        "<div class=\"box\"></div>\n",
        "```\n",
        "###CSS\n",
        "```\n",
        ".box {\n",
        "  width: 100px;\n",
        "  height: 100px;\n",
        "  background: red;\n",
        "}\n",
        "\n",
        ".box:hover {\n",
        "  background: blue;\n",
        "  width: 300px;\n",
        "}\n",
        "```"
      ]
    },
    {
      "cell_type": "code",
      "metadata": {
        "colab": {
          "base_uri": "https://localhost:8080/",
          "height": 117
        },
        "id": "li82IKbhrvTD",
        "outputId": "960c3c19-4c8a-4a76-bdd5-9c7924b1801c"
      },
      "source": [
        "%%HTML\n",
        "<style>\n",
        ".box {\n",
        "  width: 100px;\n",
        "  height: 100px;\n",
        "  background: red;\n",
        "}\n",
        "\n",
        ".box:hover {\n",
        "  background: blue;\n",
        "  width: 300px;\n",
        "}\n",
        "</style>\n",
        "\n",
        "<div class=\"box\"></div>"
      ],
      "execution_count": null,
      "outputs": [
        {
          "output_type": "display_data",
          "data": {
            "text/html": [
              "<style>\n",
              ".box {\n",
              "  width: 100px;\n",
              "  height: 100px;\n",
              "  background: red;\n",
              "}\n",
              "\n",
              ".box:hover {\n",
              "  background: blue;\n",
              "  width: 300px;\n",
              "}\n",
              "</style>\n",
              "\n",
              "<div class=\"box\"></div>"
            ],
            "text/plain": [
              "<IPython.core.display.HTML object>"
            ]
          },
          "metadata": {}
        }
      ]
    },
    {
      "cell_type": "markdown",
      "metadata": {
        "id": "NTzlzEZCrtEV"
      },
      "source": [
        "これを一瞬ではなく、一定時間で変化させるためにCSS Transition機能を使います。今回は0.3秒をかけて変換させるために .box に\n",
        "transition: all 300ms 0s ease;の記述を追加します。\n",
        "\n",
        "###Transitionを入れたCSS\n",
        "```\n",
        ".box {\n",
        "  width: 100px;\n",
        "  height: 100px;\n",
        "  background: #000;\n",
        "  transition: all 300ms 0s ease;  /* この部分を追加 */\n",
        "}\n",
        "\n",
        ".box:hover {\n",
        "  background: #ccc;\n",
        "  width: 300px;\n",
        "}\n",
        "```"
      ]
    },
    {
      "cell_type": "code",
      "metadata": {
        "colab": {
          "base_uri": "https://localhost:8080/",
          "height": 117
        },
        "id": "BulD7YOMsYCL",
        "outputId": "f288de73-301f-4690-cb27-c35267ee9ffd"
      },
      "source": [
        "%%HTML\n",
        "<style>\n",
        ".box {\n",
        "  width: 100px;\n",
        "  height: 100px;\n",
        "  background: red;\n",
        "  transition: all 500ms 0s ease;  /* この部分を追加 */\n",
        "}\n",
        "\n",
        ".box:hover {\n",
        "  background: blue;\n",
        "  width: 300px;\n",
        "}\n",
        "</style>\n",
        "\n",
        "<div class=\"box\"></div>"
      ],
      "execution_count": null,
      "outputs": [
        {
          "output_type": "display_data",
          "data": {
            "text/plain": [
              "<IPython.core.display.HTML object>"
            ],
            "text/html": [
              "<style>\n",
              ".box {\n",
              "  width: 100px;\n",
              "  height: 100px;\n",
              "  background: red;\n",
              "  transition: all 500ms 1s ease;  /* この部分を追加 */\n",
              "}\n",
              "\n",
              ".box:hover {\n",
              "  background: blue;\n",
              "  width: 300px;\n",
              "}\n",
              "</style>\n",
              "\n",
              "<div class=\"box\"></div>\n"
            ]
          },
          "metadata": {}
        }
      ]
    },
    {
      "cell_type": "markdown",
      "metadata": {
        "id": "hLfavqVLtNIa"
      },
      "source": [
        "transitionは複数のプロパティの値をまとめて指定するプロパティのため transition: all 300ms 0s ease;を以下のように記述できる。\n",
        "```\n",
        ".box {\n",
        "  width: 100px;\n",
        "  height: 100px;\n",
        "  background: #000;\n",
        "  transition-property: all;\n",
        "  transition-duration: 300ms;\n",
        "  transition-delay: 0s;\n",
        "  transition-timing-function: ease;\n",
        "}\n",
        "```\n",
        "**tansition-property**  \n",
        "どのプロパティにアニメーションを適用するか指定するプロパティ。\n",
        "\n",
        "**transition-duration**  \n",
        "アニメーション開始から終了までの所要時間を指定するプロパティ。\n",
        "\n",
        "**transition-delay**  \n",
        "アニメーションが開始するまでの遅延時間を指定するプロパティ。\n",
        "\n",
        "**transition-timing-function**  \n",
        "アニメーションのイージングを指定するプロパティ。 プロパティの値は定義済みの値(*ease*、*linear*、*ease-in*等)か*cubic-bezier()*で指定する。"
      ]
    },
    {
      "cell_type": "markdown",
      "metadata": {
        "id": "mRjupdoBwa59"
      },
      "source": [
        "[MSNでのtransition機能の紹介](https://developer.mozilla.org/ja/docs/Web/CSS/CSS_Transitions/Using_CSS_transitions) https://developer.mozilla.org/ja/docs/Web/CSS/CSS_Transitions/Using_CSS_transitions"
      ]
    },
    {
      "cell_type": "markdown",
      "metadata": {
        "id": "KoxDMLfZuLq0"
      },
      "source": [
        "##3-3-2 CSS Animation\n",
        "要素にrotationという名前のキーフレームアニメーションを適用してアニメーションさせてみる。\n",
        "\n",
        "アニメーションの開始(0%)、中間(50%)、終了(100%)の地点にプロパティを指定したrotationという名前のキーフレームアニメーションを.boxに適用したい。"
      ]
    },
    {
      "cell_type": "markdown",
      "metadata": {
        "id": "2TWhxntTunD3"
      },
      "source": [
        "![css_anim_2021-11-19 004614.png](data:image/png;base64,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)"
      ]
    },
    {
      "cell_type": "markdown",
      "metadata": {
        "id": "bposUEZGusKm"
      },
      "source": [
        "前述のとおり、適用するキーフレームアニメーションは定義する必要があるため、@keyframesでrotationを定義する。\n",
        "##HTML\n",
        "```\n",
        "<div class=\"box\"></div>\n",
        "```\n",
        "###CSS\n",
        "```\n",
        ".box {\n",
        "  width: 100px;\n",
        "  height: 100px;\n",
        "  background: black;\n",
        "}\n",
        "\n",
        "@keyframes rotation {\n",
        "  0% {\n",
        "    transform: scale(.3);\n",
        "  }\n",
        "\n",
        "  50% {\n",
        "    transform: scale(.6) rotate(-45deg);\n",
        "    background: red;\n",
        "  }\n",
        "\n",
        "  100% {\n",
        "    transform: scale(1) rotate(180deg);\n",
        "    background: blue;\n",
        "  }\n",
        "}\n",
        "```\n",
        "キーフレームアニメーションを定義しただけなので、アニメーションはしていない状態。"
      ]
    },
    {
      "cell_type": "code",
      "metadata": {
        "colab": {
          "base_uri": "https://localhost:8080/",
          "height": 117
        },
        "id": "5DwK0XzRuqhM",
        "outputId": "fe29b648-c424-44fc-ec32-9b262ab14df6"
      },
      "source": [
        "%%HTML\n",
        "<style>\n",
        ".box {\n",
        "  width: 100px;\n",
        "  height: 100px;\n",
        "  background: #000;\n",
        "}\n",
        "\n",
        "@keyframes rotation {\n",
        "  0% {\n",
        "    transform: scale(.3);\n",
        "  }\n",
        "\n",
        "  50% {\n",
        "    transform: scale(.6) rotate(-45deg);\n",
        "    background: red;\n",
        "  }\n",
        "\n",
        "  100% {\n",
        "    transform: scale(1) rotate(180deg);\n",
        "    background: blue;\n",
        "  }\n",
        "}\n",
        "</style>\n",
        "\n",
        "<div class=\"box\"></div>"
      ],
      "execution_count": null,
      "outputs": [
        {
          "output_type": "display_data",
          "data": {
            "text/plain": [
              "<IPython.core.display.HTML object>"
            ],
            "text/html": [
              "<style>\n",
              ".box {\n",
              "  width: 100px;\n",
              "  height: 100px;\n",
              "  background: #000;\n",
              "}\n",
              "\n",
              "@keyframes rotation {\n",
              "  0% {\n",
              "    transform: scale(.3);\n",
              "  }\n",
              "\n",
              "  50% {\n",
              "    transform: scale(.6) rotate(-45deg);\n",
              "    background: red;\n",
              "  }\n",
              "\n",
              "  100% {\n",
              "    transform: scale(1) rotate(180deg);\n",
              "    background: blue;\n",
              "  }\n",
              "}\n",
              "</style>\n",
              "\n",
              "<div class=\"box\"></div>\n"
            ]
          },
          "metadata": {}
        }
      ]
    },
    {
      "cell_type": "markdown",
      "metadata": {
        "id": "zoVtDQVxvnkf"
      },
      "source": [
        "定義したrotationを.boxに適用するために、.boxにanimation: rotation 2s ease 0s infinite alternate none running;の記述を追加する。\n",
        "\n",
        "このようにキーフレームアニメーションを@keyframesで定義をし、animationで指定することでアニメーションを実装できる。"
      ]
    },
    {
      "cell_type": "code",
      "metadata": {
        "colab": {
          "base_uri": "https://localhost:8080/",
          "height": 117
        },
        "id": "6OZVfN99vySM",
        "outputId": "49be8948-147f-4911-c95c-9318309edfcc"
      },
      "source": [
        "%%HTML\n",
        "<style>\n",
        ".box {\n",
        "  width: 100px;\n",
        "  height: 100px;\n",
        "  background: black;\n",
        "  animation: rotation 2s ease 0s infinite alternate none running;\n",
        "}\n",
        "\n",
        "@keyframes rotation {\n",
        "  0% {\n",
        "    transform: scale(.3);\n",
        "  }\n",
        "\n",
        "  50% {\n",
        "    transform: scale(.6) rotate(-45deg);\n",
        "    background: red;\n",
        "  }\n",
        "\n",
        "  100% {\n",
        "    transform: scale(1) rotate(180deg);\n",
        "    background: blue;\n",
        "  }\n",
        "}\n",
        "</style>\n",
        "\n",
        "<div class=\"box\"></div>"
      ],
      "execution_count": null,
      "outputs": [
        {
          "output_type": "display_data",
          "data": {
            "text/html": [
              "<style>\n",
              ".box {\n",
              "  width: 100px;\n",
              "  height: 100px;\n",
              "  background: black;\n",
              "  animation: rotation 2s ease 0s infinite alternate none running;\n",
              "}\n",
              "\n",
              "@keyframes rotation {\n",
              "  0% {\n",
              "    transform: scale(.3);\n",
              "  }\n",
              "\n",
              "  50% {\n",
              "    transform: scale(.6) rotate(-45deg);\n",
              "    background: red;\n",
              "  }\n",
              "\n",
              "  100% {\n",
              "    transform: scale(1) rotate(180deg);\n",
              "    background: blue;\n",
              "  }\n",
              "}\n",
              "</style>\n",
              "\n",
              "<div class=\"box\"></div>"
            ],
            "text/plain": [
              "<IPython.core.display.HTML object>"
            ]
          },
          "metadata": {}
        }
      ]
    },
    {
      "cell_type": "markdown",
      "metadata": {
        "id": "SzvlDwDKwDj9"
      },
      "source": [
        "animationは複数のプロパティの値をまとめて指定するプロパティのため animation: rotation 2s ease 0s infinite alternate none running;を以下のようにも記述できる。\n",
        "```\n",
        ".box {\n",
        "  width: 100px;\n",
        "  height: 100px;\n",
        "  background: #000;\n",
        "  animation-name: rotation;\n",
        "  animation-duration: 2s;\n",
        "  animation-timing-function: ease;\n",
        "  animation-delay: 0s;\n",
        "  animation-iteration-count: infinite;\n",
        "  animation-direction: alternate;\n",
        "  animation-fill-mode: none;\n",
        "  animation-play-state: running;\n",
        "}\n",
        "```\n",
        "**animation-name**  \n",
        "要素に適用するキーフレームアニメーションを指定するプロパティ。キーフレームアニメーションは@keyframesで定義する必要がある。\n",
        "\n",
        "**animation-duration**  \n",
        "アニメーション開始から終了までの所要時間を指定するプロパティ。 プロパティの値は定義済みの値(ease、linear、ease-in等)かcubic-bezier()で指定する。\n",
        "\n",
        "**animation-timing-function**  \n",
        "アニメーションのイージングを指定するプロパティ。\n",
        "\n",
        "**animation-delay**  \n",
        "アニメーションが開始するまでの遅延時間を指定するプロパティ。\n",
        "\n",
        "**animation-iteration-count**  \n",
        "アニメーションのループ回数を指定するプロパティ。infiniteを指定すると無限ループする。\n",
        "\n",
        "**animation-direction**  \n",
        "アニメーションの再生方向を指定するプロパティ。値（normal, reverse, alternate, alternate-reverse）。\n",
        "\n",
        "**animation-fill-mode**\n",
        "キーフレームアニメーションで指定したプロパティをアニメーション開始前、終了後に適用するかどうかを指定するプロパティ。値（none, forwards, backwards, both）。\n",
        "\n",
        "**animation-play-state**  \n",
        "アニメーションを再生中か一時停止にするプロパティ（running, paused）。 ※JavaScriptと組み合わせて利用する。"
      ]
    },
    {
      "cell_type": "markdown",
      "metadata": {
        "id": "Gv50KEcemzWR"
      },
      "source": [
        "##演習課題 3-3\n",
        "紹介した例題とは別の簡単なアニメーションの例を作成（実験）した結果を報告してください。\n",
        "\n",
        "実用的でなくてもかまいません。形を変更したり、パラメータを変更した実験報告程度で結構です。\n",
        "\n",
        " ファイル名は第9回Webコンテンツ制作演習_課題3.ipynb とすること\n",
        "\n",
        " ※ 必ず，どういう実験を行い，どのような結果になったのかテキストで記載すること．記載のない場合は減点対象とする．\n",
        "\n"
      ]
    }
  ]
}